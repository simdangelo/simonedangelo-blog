{
 "cells": [
  {
   "cell_type": "markdown",
   "metadata": {},
   "source": [
    "# 03. When Objects are Alike"
   ]
  },
  {
   "cell_type": "code",
   "execution_count": 1,
   "metadata": {},
   "outputs": [],
   "source": [
    "class MyClass:\n",
    "    pass"
   ]
  },
  {
   "cell_type": "code",
   "execution_count": 2,
   "metadata": {},
   "outputs": [
    {
     "name": "stdout",
     "output_type": "stream",
     "text": [
      "True\n"
     ]
    }
   ],
   "source": [
    "print(issubclass(MyClass, object))"
   ]
  },
  {
   "cell_type": "code",
   "execution_count": 26,
   "metadata": {},
   "outputs": [],
   "source": [
    "from typing import List\n",
    "\n",
    "class Contact:\n",
    "    all_contacts: List[\"Contact\"] = []\n",
    "\n",
    "    def __init__(self, name: str, email: str) -> None:\n",
    "        self.name = name\n",
    "        self.email = email\n",
    "        Contact.all_contacts.append(self)\n",
    "\n",
    "    def __repr__(self):\n",
    "        return f\"{self.__class__.__name__}({self.name!r}, {self.email!r})\""
   ]
  },
  {
   "cell_type": "code",
   "execution_count": 27,
   "metadata": {},
   "outputs": [
    {
     "name": "stdout",
     "output_type": "stream",
     "text": [
      "[Contact('John Doe', 'john@example.com'), Contact('Jane Doe', 'jane@example.com')]\n"
     ]
    }
   ],
   "source": [
    "contact1 = Contact(\"John Doe\", \"john@example.com\")\n",
    "contact2 = Contact(\"Jane Doe\", \"jane@example.com\")\n",
    "\n",
    "print(Contact.all_contacts)"
   ]
  },
  {
   "cell_type": "code",
   "execution_count": 28,
   "metadata": {},
   "outputs": [],
   "source": [
    "class Supplier(Contact):\n",
    "    def order(self, order: \"Order\") -> None:\n",
    "        print(f\"{order} send to '{self.name}'\")"
   ]
  },
  {
   "cell_type": "code",
   "execution_count": 29,
   "metadata": {},
   "outputs": [],
   "source": [
    "c = Contact(\"AContactName\", \"acontact@gmail.com\")\n",
    "s = Supplier(\"ASupplierName\", \"asupplier@gmail.com\")"
   ]
  },
  {
   "cell_type": "code",
   "execution_count": 34,
   "metadata": {},
   "outputs": [
    {
     "name": "stdout",
     "output_type": "stream",
     "text": [
      "[Contact('John Doe', 'john@example.com'),\n",
      " Contact('Jane Doe', 'jane@example.com'),\n",
      " Contact('AContactName', 'acontact@gmail.com'),\n",
      " Supplier('ASupplierName', 'asupplier@gmail.com')]\n",
      "\n",
      "I need pliers send to 'ASupplierName'\n"
     ]
    }
   ],
   "source": [
    "from pprint import pprint\n",
    "\n",
    "pprint(c.all_contacts)\n",
    "print()\n",
    "s.order(\"I need pliers\")"
   ]
  },
  {
   "cell_type": "code",
   "execution_count": 31,
   "metadata": {},
   "outputs": [
    {
     "ename": "AttributeError",
     "evalue": "'Contact' object has no attribute 'order'",
     "output_type": "error",
     "traceback": [
      "\u001b[0;31m---------------------------------------------------------------------------\u001b[0m",
      "\u001b[0;31mAttributeError\u001b[0m                            Traceback (most recent call last)",
      "Cell \u001b[0;32mIn[31], line 1\u001b[0m\n\u001b[0;32m----> 1\u001b[0m \u001b[43mc\u001b[49m\u001b[38;5;241;43m.\u001b[39;49m\u001b[43morder\u001b[49m(\u001b[38;5;124m\"\u001b[39m\u001b[38;5;124mI need pliers\u001b[39m\u001b[38;5;124m\"\u001b[39m)\n",
      "\u001b[0;31mAttributeError\u001b[0m: 'Contact' object has no attribute 'order'"
     ]
    }
   ],
   "source": [
    "c.order(\"I need pliers\")"
   ]
  },
  {
   "cell_type": "code",
   "execution_count": 39,
   "metadata": {},
   "outputs": [],
   "source": [
    "from __future__ import annotations\n",
    "from typing import List\n",
    "\n",
    "\n",
    "class ContactList(list[\"Contact\"]):\n",
    "    def search(self, name: str) -> list[\"Contact\"]:\n",
    "        matching_contacts: list[\"Contact\"] = []\n",
    "        for contact in self:\n",
    "            if name in contact.name:\n",
    "                matching_contacts.append(contact)\n",
    "        return matching_contacts\n",
    "    \n",
    "class Contact:\n",
    "    all_contacts = ContactList()\n",
    "\n",
    "    def __init__(self, name: str, email: str) -> None:\n",
    "        self.name = name\n",
    "        self.email = email\n",
    "        Contact.all_contacts.append(self)\n",
    "\n",
    "    def __repr__(self):\n",
    "        return f\"{self.__class__.__name__}({self.name!r}, {self.email!r})\""
   ]
  },
  {
   "cell_type": "code",
   "execution_count": 40,
   "metadata": {},
   "outputs": [
    {
     "data": {
      "text/plain": [
       "['John Doe', 'Jane Doe']"
      ]
     },
     "execution_count": 40,
     "metadata": {},
     "output_type": "execute_result"
    }
   ],
   "source": [
    "contact1 = Contact(\"John Doe\", \"john@example.com\")\n",
    "contact2 = Contact(\"Jane Doe\", \"jane@example.com\")\n",
    "contact2 = Contact(\"Mary Jane\", \"mary@example.com\")\n",
    "\n",
    "[c.name for c in Contact.all_contacts.search(\"Doe\")]"
   ]
  },
  {
   "cell_type": "code",
   "execution_count": 41,
   "metadata": {},
   "outputs": [
    {
     "data": {
      "text/plain": [
       "'c_c_phillips'"
      ]
     },
     "execution_count": 41,
     "metadata": {},
     "output_type": "execute_result"
    }
   ],
   "source": [
    "from typing import Optional\n",
    "\n",
    "class LongNameDict(dict[str, int]):\n",
    "    def longest_key(self) -> Optional[str]:\n",
    "        longest = None\n",
    "        for key in self:\n",
    "            if longest is None or len(key) > len(longest):\n",
    "                longest = key\n",
    "        return longest\n",
    "    \n",
    "\n",
    "articles_read = LongNameDict()\n",
    "articles_read[\"lucy\"] = 42\n",
    "articles_read[\"c_c_phillips\"] = 6\n",
    "articles_read[\"steve\"]= 7\n",
    "\n",
    "articles_read.longest_key()"
   ]
  },
  {
   "cell_type": "code",
   "execution_count": 42,
   "metadata": {},
   "outputs": [],
   "source": [
    "class Friend(Contact):\n",
    "\tdef __init__(self, name: str, email: str, phone: str) -> None:\n",
    "\t\tself.name = name\n",
    "\t\tself.email = email\n",
    "\t\tself.phone = phone"
   ]
  },
  {
   "cell_type": "code",
   "execution_count": 43,
   "metadata": {},
   "outputs": [],
   "source": [
    "class Friend(Contact):\n",
    "    def __init__(self, name: str, email: str, phone: str) -> None:\n",
    "        super().__init__(name, email)\n",
    "        self.phone = phone\n",
    "\n",
    "    def __repr__(self):\n",
    "        return f\"{self.__class__.__name__}({self.name!r}, {self.email!r}, {self.phone!r})\""
   ]
  },
  {
   "cell_type": "code",
   "execution_count": 44,
   "metadata": {},
   "outputs": [],
   "source": [
    "aFriend = Friend(\"tizio\", \"tizio@gmail.com\", \"123456789\")"
   ]
  },
  {
   "cell_type": "code",
   "execution_count": 45,
   "metadata": {},
   "outputs": [
    {
     "data": {
      "text/plain": [
       "[Contact('John Doe', 'john@example.com'),\n",
       " Contact('Jane Doe', 'jane@example.com'),\n",
       " Contact('Mary Jane', 'mary@example.com'),\n",
       " Friend('tizio', 'tizio@gmail.com', '123456789')]"
      ]
     },
     "execution_count": 45,
     "metadata": {},
     "output_type": "execute_result"
    }
   ],
   "source": [
    "Contact.all_contacts"
   ]
  },
  {
   "cell_type": "code",
   "execution_count": 58,
   "metadata": {},
   "outputs": [
    {
     "name": "stdout",
     "output_type": "stream",
     "text": [
      "12\n",
      "4\n",
      "2\n"
     ]
    }
   ],
   "source": [
    "print(len(\"Hello World!\")) # Output: 12\n",
    "print(len([1,2,3,4])) # Output: 4\n",
    "print(len({\"Name\": \"John\", \"Surname\": \"Doe\"})) # Output: 2"
   ]
  },
  {
   "cell_type": "code",
   "execution_count": 57,
   "metadata": {},
   "outputs": [
    {
     "name": "stdout",
     "output_type": "stream",
     "text": [
      "Woof!\n",
      "Meow!\n"
     ]
    }
   ],
   "source": [
    "class Dog:\n",
    "\tdef speak(self):\n",
    "\t\tprint(\"Woof!\")\n",
    "\n",
    "class Cat:\n",
    "\tdef speak(self):\n",
    "\t\tprint(\"Meow!\")\n",
    "\n",
    "def animal_sound(animal):\n",
    "\tanimal.speak()\n",
    "\n",
    "\n",
    "aDog = Dog()\n",
    "aCat = Cat()\n",
    "animal_sound(aDog)\n",
    "animal_sound(aCat)"
   ]
  },
  {
   "cell_type": "code",
   "execution_count": 60,
   "metadata": {},
   "outputs": [
    {
     "name": "stdout",
     "output_type": "stream",
     "text": [
      "[2, 4, 6, 8]\n",
      "['PYTHON', 'DATA']\n"
     ]
    }
   ],
   "source": [
    "from abc import ABC, abstractmethod\n",
    "\n",
    "class DataProcessor(ABC):\n",
    "\t@abstractmethod\n",
    "\tdef process_data(self, data):\n",
    "\t\tpass\n",
    "\n",
    "class NumericDataProcessor(DataProcessor):\n",
    "\tdef process_data(self, data):\n",
    "\t\treturn [x*2 for x in data]\n",
    "\n",
    "class TextDataProcessor(DataProcessor):\n",
    "\tdef process_data(self, data):\n",
    "\t\treturn [s.upper() for s in data]\n",
    "\n",
    "def process_all(data_processor, data):\n",
    "\treturn data_processor.process_data(data)\n",
    "\n",
    "\n",
    "numeric_processor = NumericDataProcessor()\n",
    "text_processor = TextDataProcessor()\n",
    "numeric_data = [1, 2, 3, 4]\n",
    "text_data = ['python', 'data']\n",
    "\n",
    "print(process_all(numeric_processor, numeric_data))\n",
    "print(process_all(text_processor, text_data))"
   ]
  },
  {
   "cell_type": "markdown",
   "metadata": {},
   "source": [
    "# 04. Expecting the Unexpected"
   ]
  },
  {
   "cell_type": "code",
   "execution_count": 61,
   "metadata": {},
   "outputs": [
    {
     "ename": "SyntaxError",
     "evalue": "Missing parentheses in call to 'print'. Did you mean print(...)? (3923495743.py, line 1)",
     "output_type": "error",
     "traceback": [
      "\u001b[0;36m  Cell \u001b[0;32mIn[61], line 1\u001b[0;36m\u001b[0m\n\u001b[0;31m    print \"hello world\"\u001b[0m\n\u001b[0m    ^\u001b[0m\n\u001b[0;31mSyntaxError\u001b[0m\u001b[0;31m:\u001b[0m Missing parentheses in call to 'print'. Did you mean print(...)?\n"
     ]
    }
   ],
   "source": [
    "print \"hello world\""
   ]
  },
  {
   "cell_type": "code",
   "execution_count": 62,
   "metadata": {},
   "outputs": [
    {
     "ename": "ZeroDivisionError",
     "evalue": "division by zero",
     "output_type": "error",
     "traceback": [
      "\u001b[0;31m---------------------------------------------------------------------------\u001b[0m",
      "\u001b[0;31mZeroDivisionError\u001b[0m                         Traceback (most recent call last)",
      "Cell \u001b[0;32mIn[62], line 1\u001b[0m\n\u001b[0;32m----> 1\u001b[0m x \u001b[38;5;241m=\u001b[39m \u001b[38;5;241;43m5\u001b[39;49m\u001b[38;5;241;43m/\u001b[39;49m\u001b[38;5;241;43m0\u001b[39;49m\n",
      "\u001b[0;31mZeroDivisionError\u001b[0m: division by zero"
     ]
    }
   ],
   "source": [
    "x = 5/0"
   ]
  },
  {
   "cell_type": "code",
   "execution_count": 63,
   "metadata": {},
   "outputs": [
    {
     "ename": "IndexError",
     "evalue": "list index out of range",
     "output_type": "error",
     "traceback": [
      "\u001b[0;31m---------------------------------------------------------------------------\u001b[0m",
      "\u001b[0;31mIndexError\u001b[0m                                Traceback (most recent call last)",
      "Cell \u001b[0;32mIn[63], line 2\u001b[0m\n\u001b[1;32m      1\u001b[0m lst \u001b[38;5;241m=\u001b[39m [\u001b[38;5;241m1\u001b[39m,\u001b[38;5;241m2\u001b[39m,\u001b[38;5;241m3\u001b[39m]\n\u001b[0;32m----> 2\u001b[0m \u001b[38;5;28mprint\u001b[39m(\u001b[43mlst\u001b[49m\u001b[43m[\u001b[49m\u001b[38;5;241;43m3\u001b[39;49m\u001b[43m]\u001b[49m)\n",
      "\u001b[0;31mIndexError\u001b[0m: list index out of range"
     ]
    }
   ],
   "source": [
    "lst = [1,2,3]\n",
    "print(lst[3])"
   ]
  },
  {
   "cell_type": "code",
   "execution_count": 80,
   "metadata": {},
   "outputs": [
    {
     "ename": "TypeError",
     "evalue": "Only integers can be added.",
     "output_type": "error",
     "traceback": [
      "\u001b[0;31m---------------------------------------------------------------------------\u001b[0m",
      "\u001b[0;31mTypeError\u001b[0m                                 Traceback (most recent call last)",
      "Cell \u001b[0;32mIn[80], line 13\u001b[0m\n\u001b[1;32m      9\u001b[0m         \u001b[38;5;28msuper\u001b[39m()\u001b[38;5;241m.\u001b[39mappend(value)\n\u001b[1;32m     12\u001b[0m e \u001b[38;5;241m=\u001b[39m EvenOnly()\n\u001b[0;32m---> 13\u001b[0m \u001b[43me\u001b[49m\u001b[38;5;241;43m.\u001b[39;49m\u001b[43mappend\u001b[49m\u001b[43m(\u001b[49m\u001b[38;5;124;43m\"\u001b[39;49m\u001b[38;5;124;43mhello\u001b[39;49m\u001b[38;5;124;43m\"\u001b[39;49m\u001b[43m)\u001b[49m\n",
      "Cell \u001b[0;32mIn[80], line 6\u001b[0m, in \u001b[0;36mEvenOnly.append\u001b[0;34m(self, value)\u001b[0m\n\u001b[1;32m      4\u001b[0m \u001b[38;5;28;01mdef\u001b[39;00m \u001b[38;5;21mappend\u001b[39m(\u001b[38;5;28mself\u001b[39m, value: \u001b[38;5;28mint\u001b[39m) \u001b[38;5;241m-\u001b[39m\u001b[38;5;241m>\u001b[39m \u001b[38;5;28;01mNone\u001b[39;00m:\n\u001b[1;32m      5\u001b[0m     \u001b[38;5;28;01mif\u001b[39;00m \u001b[38;5;129;01mnot\u001b[39;00m \u001b[38;5;28misinstance\u001b[39m(value, \u001b[38;5;28mint\u001b[39m):\n\u001b[0;32m----> 6\u001b[0m         \u001b[38;5;28;01mraise\u001b[39;00m \u001b[38;5;167;01mTypeError\u001b[39;00m(\u001b[38;5;124m\"\u001b[39m\u001b[38;5;124mOnly integers can be added.\u001b[39m\u001b[38;5;124m\"\u001b[39m)\n\u001b[1;32m      7\u001b[0m     \u001b[38;5;28;01mif\u001b[39;00m value \u001b[38;5;241m%\u001b[39m \u001b[38;5;241m2\u001b[39m \u001b[38;5;241m!=\u001b[39m \u001b[38;5;241m0\u001b[39m:\n\u001b[1;32m      8\u001b[0m         \u001b[38;5;28;01mraise\u001b[39;00m \u001b[38;5;167;01mValueError\u001b[39;00m(\u001b[38;5;124m\"\u001b[39m\u001b[38;5;124mOnly even numbers can be added.\u001b[39m\u001b[38;5;124m\"\u001b[39m)\n",
      "\u001b[0;31mTypeError\u001b[0m: Only integers can be added."
     ]
    }
   ],
   "source": [
    "from typing import List\n",
    "\n",
    "class EvenOnly(List[int]):\n",
    "    def append(self, value: int) -> None:\n",
    "        if not isinstance(value, int):\n",
    "            raise TypeError(\"Only integers can be added.\")\n",
    "        if value % 2 != 0:\n",
    "            raise ValueError(\"Only even numbers can be added.\")\n",
    "        super().append(value)\n",
    "        \n",
    "\n",
    "e = EvenOnly()\n",
    "e.append(\"hello\")"
   ]
  },
  {
   "cell_type": "code",
   "execution_count": 81,
   "metadata": {},
   "outputs": [
    {
     "ename": "ValueError",
     "evalue": "Only even numbers can be added.",
     "output_type": "error",
     "traceback": [
      "\u001b[0;31m---------------------------------------------------------------------------\u001b[0m",
      "\u001b[0;31mValueError\u001b[0m                                Traceback (most recent call last)",
      "Cell \u001b[0;32mIn[81], line 1\u001b[0m\n\u001b[0;32m----> 1\u001b[0m \u001b[43me\u001b[49m\u001b[38;5;241;43m.\u001b[39;49m\u001b[43mappend\u001b[49m\u001b[43m(\u001b[49m\u001b[38;5;241;43m3\u001b[39;49m\u001b[43m)\u001b[49m\n",
      "Cell \u001b[0;32mIn[80], line 8\u001b[0m, in \u001b[0;36mEvenOnly.append\u001b[0;34m(self, value)\u001b[0m\n\u001b[1;32m      6\u001b[0m     \u001b[38;5;28;01mraise\u001b[39;00m \u001b[38;5;167;01mTypeError\u001b[39;00m(\u001b[38;5;124m\"\u001b[39m\u001b[38;5;124mOnly integers can be added.\u001b[39m\u001b[38;5;124m\"\u001b[39m)\n\u001b[1;32m      7\u001b[0m \u001b[38;5;28;01mif\u001b[39;00m value \u001b[38;5;241m%\u001b[39m \u001b[38;5;241m2\u001b[39m \u001b[38;5;241m!=\u001b[39m \u001b[38;5;241m0\u001b[39m:\n\u001b[0;32m----> 8\u001b[0m     \u001b[38;5;28;01mraise\u001b[39;00m \u001b[38;5;167;01mValueError\u001b[39;00m(\u001b[38;5;124m\"\u001b[39m\u001b[38;5;124mOnly even numbers can be added.\u001b[39m\u001b[38;5;124m\"\u001b[39m)\n\u001b[1;32m      9\u001b[0m \u001b[38;5;28msuper\u001b[39m()\u001b[38;5;241m.\u001b[39mappend(value)\n",
      "\u001b[0;31mValueError\u001b[0m: Only even numbers can be added."
     ]
    }
   ],
   "source": [
    "e.append(3)"
   ]
  },
  {
   "cell_type": "code",
   "execution_count": 5,
   "metadata": {},
   "outputs": [
    {
     "name": "stdout",
     "output_type": "stream",
     "text": [
      "Call exceptor start here...\n",
      "I am about to raise an exception.\n"
     ]
    },
    {
     "ename": "Exception",
     "evalue": "This is always raised.",
     "output_type": "error",
     "traceback": [
      "\u001b[0;31m---------------------------------------------------------------------------\u001b[0m",
      "\u001b[0;31mException\u001b[0m                                 Traceback (most recent call last)",
      "Cell \u001b[0;32mIn[5], line 13\u001b[0m\n\u001b[1;32m     10\u001b[0m     \u001b[38;5;28mprint\u001b[39m(\u001b[38;5;124m\"\u001b[39m\u001b[38;5;124mAn exception was raised...\u001b[39m\u001b[38;5;124m\"\u001b[39m)\n\u001b[1;32m     11\u001b[0m     \u001b[38;5;28mprint\u001b[39m(\u001b[38;5;124m\"\u001b[39m\u001b[38;5;124m... so these lines don\u001b[39m\u001b[38;5;124m'\u001b[39m\u001b[38;5;124mt run\u001b[39m\u001b[38;5;124m\"\u001b[39m)\n\u001b[0;32m---> 13\u001b[0m \u001b[43mcall_exceptor\u001b[49m\u001b[43m(\u001b[49m\u001b[43m)\u001b[49m\n",
      "Cell \u001b[0;32mIn[5], line 9\u001b[0m, in \u001b[0;36mcall_exceptor\u001b[0;34m()\u001b[0m\n\u001b[1;32m      7\u001b[0m \u001b[38;5;28;01mdef\u001b[39;00m \u001b[38;5;21mcall_exceptor\u001b[39m():\n\u001b[1;32m      8\u001b[0m     \u001b[38;5;28mprint\u001b[39m(\u001b[38;5;124m\"\u001b[39m\u001b[38;5;124mCall exceptor start here...\u001b[39m\u001b[38;5;124m\"\u001b[39m)\n\u001b[0;32m----> 9\u001b[0m     \u001b[43mnever_returns\u001b[49m\u001b[43m(\u001b[49m\u001b[43m)\u001b[49m\n\u001b[1;32m     10\u001b[0m     \u001b[38;5;28mprint\u001b[39m(\u001b[38;5;124m\"\u001b[39m\u001b[38;5;124mAn exception was raised...\u001b[39m\u001b[38;5;124m\"\u001b[39m)\n\u001b[1;32m     11\u001b[0m     \u001b[38;5;28mprint\u001b[39m(\u001b[38;5;124m\"\u001b[39m\u001b[38;5;124m... so these lines don\u001b[39m\u001b[38;5;124m'\u001b[39m\u001b[38;5;124mt run\u001b[39m\u001b[38;5;124m\"\u001b[39m)\n",
      "Cell \u001b[0;32mIn[5], line 3\u001b[0m, in \u001b[0;36mnever_returns\u001b[0;34m()\u001b[0m\n\u001b[1;32m      1\u001b[0m \u001b[38;5;28;01mdef\u001b[39;00m \u001b[38;5;21mnever_returns\u001b[39m():\n\u001b[1;32m      2\u001b[0m     \u001b[38;5;28mprint\u001b[39m(\u001b[38;5;124m\"\u001b[39m\u001b[38;5;124mI am about to raise an exception.\u001b[39m\u001b[38;5;124m\"\u001b[39m)\n\u001b[0;32m----> 3\u001b[0m     \u001b[38;5;28;01mraise\u001b[39;00m \u001b[38;5;167;01mException\u001b[39;00m(\u001b[38;5;124m\"\u001b[39m\u001b[38;5;124mThis is always raised.\u001b[39m\u001b[38;5;124m\"\u001b[39m)\n\u001b[1;32m      4\u001b[0m     \u001b[38;5;28mprint\u001b[39m(\u001b[38;5;124m\"\u001b[39m\u001b[38;5;124mThis line will never execute.\u001b[39m\u001b[38;5;124m\"\u001b[39m)\n\u001b[1;32m      5\u001b[0m     \u001b[38;5;28;01mreturn\u001b[39;00m \u001b[38;5;124m\"\u001b[39m\u001b[38;5;124mI won\u001b[39m\u001b[38;5;124m'\u001b[39m\u001b[38;5;124mt be returned.\u001b[39m\u001b[38;5;124m\"\u001b[39m\n",
      "\u001b[0;31mException\u001b[0m: This is always raised."
     ]
    }
   ],
   "source": [
    "def never_returns():\n",
    "    print(\"I am about to raise an exception.\")\n",
    "    raise Exception(\"This is always raised.\")\n",
    "    print(\"This line will never execute.\")\n",
    "    return \"I won't be returned.\"\n",
    "\n",
    "def call_exceptor():\n",
    "    print(\"Call exceptor start here...\")\n",
    "    never_returns()\n",
    "    print(\"An exception was raised...\")\n",
    "    print(\"... so these lines don't run\")\n",
    "\n",
    "call_exceptor()"
   ]
  },
  {
   "cell_type": "code",
   "execution_count": 7,
   "metadata": {},
   "outputs": [
    {
     "name": "stdout",
     "output_type": "stream",
     "text": [
      "I am about to raise an exception.\n",
      "I caught an exception: Exception('This is always raised.')\n",
      "Executed after the exception.\n"
     ]
    }
   ],
   "source": [
    "try:\n",
    "    never_returns()\n",
    "    print(\"Never Executed\")\n",
    "except Exception as ex:\n",
    "    print(f\"I caught an exception: {ex!r}\")\n",
    "print(\"Executed after the exception.\")"
   ]
  },
  {
   "cell_type": "code",
   "execution_count": 3,
   "metadata": {},
   "outputs": [],
   "source": [
    "from typing import Union\n",
    "\n",
    "def funny_division(divisor: float) -> Union[str, float]:\n",
    "    try:\n",
    "        return 100 / divisor\n",
    "    except ZeroDivisionError:\n",
    "        return \"Division by 0 is not allowed.\""
   ]
  },
  {
   "cell_type": "code",
   "execution_count": 4,
   "metadata": {},
   "outputs": [
    {
     "data": {
      "text/plain": [
       "0.5"
      ]
     },
     "execution_count": 4,
     "metadata": {},
     "output_type": "execute_result"
    }
   ],
   "source": [
    "funny_division(200)"
   ]
  },
  {
   "cell_type": "code",
   "execution_count": 5,
   "metadata": {},
   "outputs": [
    {
     "data": {
      "text/plain": [
       "'Division by 0 is not allowed.'"
      ]
     },
     "execution_count": 5,
     "metadata": {},
     "output_type": "execute_result"
    }
   ],
   "source": [
    "funny_division(0)"
   ]
  },
  {
   "cell_type": "code",
   "execution_count": 6,
   "metadata": {},
   "outputs": [
    {
     "ename": "TypeError",
     "evalue": "unsupported operand type(s) for /: 'int' and 'str'",
     "output_type": "error",
     "traceback": [
      "\u001b[0;31m---------------------------------------------------------------------------\u001b[0m",
      "\u001b[0;31mTypeError\u001b[0m                                 Traceback (most recent call last)",
      "Cell \u001b[0;32mIn[6], line 1\u001b[0m\n\u001b[0;32m----> 1\u001b[0m \u001b[43mfunny_division\u001b[49m\u001b[43m(\u001b[49m\u001b[38;5;124;43m\"\u001b[39;49m\u001b[38;5;124;43mstring\u001b[39;49m\u001b[38;5;124;43m\"\u001b[39;49m\u001b[43m)\u001b[49m\n",
      "Cell \u001b[0;32mIn[3], line 5\u001b[0m, in \u001b[0;36mfunny_division\u001b[0;34m(divisor)\u001b[0m\n\u001b[1;32m      3\u001b[0m \u001b[38;5;28;01mdef\u001b[39;00m \u001b[38;5;21mfunny_division\u001b[39m(divisor: \u001b[38;5;28mfloat\u001b[39m) \u001b[38;5;241m-\u001b[39m\u001b[38;5;241m>\u001b[39m Union[\u001b[38;5;28mstr\u001b[39m, \u001b[38;5;28mfloat\u001b[39m]:\n\u001b[1;32m      4\u001b[0m     \u001b[38;5;28;01mtry\u001b[39;00m:\n\u001b[0;32m----> 5\u001b[0m         \u001b[38;5;28;01mreturn\u001b[39;00m \u001b[38;5;241;43m100\u001b[39;49m\u001b[43m \u001b[49m\u001b[38;5;241;43m/\u001b[39;49m\u001b[43m \u001b[49m\u001b[43mdivisor\u001b[49m\n\u001b[1;32m      6\u001b[0m     \u001b[38;5;28;01mexcept\u001b[39;00m \u001b[38;5;167;01mZeroDivisionError\u001b[39;00m:\n\u001b[1;32m      7\u001b[0m         \u001b[38;5;28;01mreturn\u001b[39;00m \u001b[38;5;124m\"\u001b[39m\u001b[38;5;124mDivision by 0 is not allowed.\u001b[39m\u001b[38;5;124m\"\u001b[39m\n",
      "\u001b[0;31mTypeError\u001b[0m: unsupported operand type(s) for /: 'int' and 'str'"
     ]
    }
   ],
   "source": [
    "funny_division(\"string\")"
   ]
  },
  {
   "cell_type": "code",
   "execution_count": 7,
   "metadata": {},
   "outputs": [],
   "source": [
    "from typing import Union\n",
    "\n",
    "def funny_division_2(divisor: float) -> Union[str, float]:\n",
    "    try:\n",
    "        if divisor == 13:\n",
    "            raise ValueError(\"13 is an unlucky number.\")\n",
    "        return 100 / divisor\n",
    "    except (ZeroDivisionError, TypeError):\n",
    "        return \"Enter a number other than 0.\""
   ]
  },
  {
   "cell_type": "code",
   "execution_count": 8,
   "metadata": {},
   "outputs": [
    {
     "name": "stdout",
     "output_type": "stream",
     "text": [
      "Testing 0: Enter a number other than 0.\n",
      "Testing 'hello': Enter a number other than 0.\n",
      "Testing 50.0: 2.0\n",
      "Testing 13: "
     ]
    },
    {
     "ename": "ValueError",
     "evalue": "13 is an unlucky number.",
     "output_type": "error",
     "traceback": [
      "\u001b[0;31m---------------------------------------------------------------------------\u001b[0m",
      "\u001b[0;31mValueError\u001b[0m                                Traceback (most recent call last)",
      "Cell \u001b[0;32mIn[8], line 3\u001b[0m\n\u001b[1;32m      1\u001b[0m \u001b[38;5;28;01mfor\u001b[39;00m val \u001b[38;5;129;01min\u001b[39;00m (\u001b[38;5;241m0\u001b[39m, \u001b[38;5;124m\"\u001b[39m\u001b[38;5;124mhello\u001b[39m\u001b[38;5;124m\"\u001b[39m, \u001b[38;5;241m50.0\u001b[39m, \u001b[38;5;241m13\u001b[39m):\n\u001b[1;32m      2\u001b[0m     \u001b[38;5;28mprint\u001b[39m(\u001b[38;5;124mf\u001b[39m\u001b[38;5;124m\"\u001b[39m\u001b[38;5;124mTesting \u001b[39m\u001b[38;5;132;01m{\u001b[39;00mval\u001b[38;5;132;01m!r}\u001b[39;00m\u001b[38;5;124m:\u001b[39m\u001b[38;5;124m\"\u001b[39m, end\u001b[38;5;241m=\u001b[39m\u001b[38;5;124m\"\u001b[39m\u001b[38;5;124m \u001b[39m\u001b[38;5;124m\"\u001b[39m)\n\u001b[0;32m----> 3\u001b[0m     \u001b[38;5;28mprint\u001b[39m(\u001b[43mfunny_division_2\u001b[49m\u001b[43m(\u001b[49m\u001b[43mval\u001b[49m\u001b[43m)\u001b[49m)\n",
      "Cell \u001b[0;32mIn[7], line 6\u001b[0m, in \u001b[0;36mfunny_division_2\u001b[0;34m(divisor)\u001b[0m\n\u001b[1;32m      4\u001b[0m \u001b[38;5;28;01mtry\u001b[39;00m:\n\u001b[1;32m      5\u001b[0m     \u001b[38;5;28;01mif\u001b[39;00m divisor \u001b[38;5;241m==\u001b[39m \u001b[38;5;241m13\u001b[39m:\n\u001b[0;32m----> 6\u001b[0m         \u001b[38;5;28;01mraise\u001b[39;00m \u001b[38;5;167;01mValueError\u001b[39;00m(\u001b[38;5;124m\"\u001b[39m\u001b[38;5;124m13 is an unlucky number.\u001b[39m\u001b[38;5;124m\"\u001b[39m)\n\u001b[1;32m      7\u001b[0m     \u001b[38;5;28;01mreturn\u001b[39;00m \u001b[38;5;241m100\u001b[39m \u001b[38;5;241m/\u001b[39m divisor\n\u001b[1;32m      8\u001b[0m \u001b[38;5;28;01mexcept\u001b[39;00m (\u001b[38;5;167;01mZeroDivisionError\u001b[39;00m, \u001b[38;5;167;01mTypeError\u001b[39;00m):\n",
      "\u001b[0;31mValueError\u001b[0m: 13 is an unlucky number."
     ]
    }
   ],
   "source": [
    "for val in (0, \"hello\", 50.0, 13):\n",
    "    print(f\"Testing {val!r}:\", end=\" \")\n",
    "    print(funny_division_2(val))"
   ]
  },
  {
   "cell_type": "code",
   "execution_count": 10,
   "metadata": {},
   "outputs": [
    {
     "ename": "ValueError",
     "evalue": "13 is an unlucky number.",
     "output_type": "error",
     "traceback": [
      "\u001b[0;31m---------------------------------------------------------------------------\u001b[0m",
      "\u001b[0;31mValueError\u001b[0m                                Traceback (most recent call last)",
      "Cell \u001b[0;32mIn[10], line 14\u001b[0m\n\u001b[1;32m      9\u001b[0m         \u001b[38;5;28;01mreturn\u001b[39;00m \u001b[38;5;124m\"\u001b[39m\u001b[38;5;124mEnter a numberical value\u001b[39m\u001b[38;5;124m\"\u001b[39m\n\u001b[1;32m     10\u001b[0m     \u001b[38;5;66;03m# except ValueError:\u001b[39;00m\n\u001b[1;32m     11\u001b[0m     \u001b[38;5;66;03m#     print(\"No, No, not 13!\")\u001b[39;00m\n\u001b[1;32m     12\u001b[0m     \u001b[38;5;66;03m#     raise\u001b[39;00m\n\u001b[0;32m---> 14\u001b[0m \u001b[43mfunny_division_3\u001b[49m\u001b[43m(\u001b[49m\u001b[38;5;241;43m13\u001b[39;49m\u001b[43m)\u001b[49m\n",
      "Cell \u001b[0;32mIn[10], line 4\u001b[0m, in \u001b[0;36mfunny_division_3\u001b[0;34m(divisor)\u001b[0m\n\u001b[1;32m      2\u001b[0m \u001b[38;5;28;01mtry\u001b[39;00m:\n\u001b[1;32m      3\u001b[0m     \u001b[38;5;28;01mif\u001b[39;00m divisor \u001b[38;5;241m==\u001b[39m \u001b[38;5;241m13\u001b[39m:\n\u001b[0;32m----> 4\u001b[0m         \u001b[38;5;28;01mraise\u001b[39;00m \u001b[38;5;167;01mValueError\u001b[39;00m(\u001b[38;5;124m\"\u001b[39m\u001b[38;5;124m13 is an unlucky number.\u001b[39m\u001b[38;5;124m\"\u001b[39m)\n\u001b[1;32m      5\u001b[0m     \u001b[38;5;28;01mreturn\u001b[39;00m \u001b[38;5;241m100\u001b[39m \u001b[38;5;241m/\u001b[39m divisor\n\u001b[1;32m      6\u001b[0m \u001b[38;5;28;01mexcept\u001b[39;00m \u001b[38;5;167;01mZeroDivisionError\u001b[39;00m:\n",
      "\u001b[0;31mValueError\u001b[0m: 13 is an unlucky number."
     ]
    }
   ],
   "source": [
    "def funny_division_3(divisor: int) -> Union[str, float]:\n",
    "    try:\n",
    "        if divisor == 13:\n",
    "            raise ValueError(\"13 is an unlucky number.\")\n",
    "        return 100 / divisor\n",
    "    except ZeroDivisionError:\n",
    "        return \"Enter a number other than 0.\"\n",
    "    except TypeError:\n",
    "        return \"Enter a numberical value\"\n",
    "    except ValueError:\n",
    "        print(\"No, No, not 13!\")\n",
    "        raise\n",
    "\n",
    "funny_division_3(13)"
   ]
  },
  {
   "cell_type": "code",
   "execution_count": 13,
   "metadata": {},
   "outputs": [
    {
     "name": "stdout",
     "output_type": "stream",
     "text": [
      "The exception arguments were ('This is an argument.',)\n"
     ]
    }
   ],
   "source": [
    "try:\n",
    "    raise ValueError(\"This is an argument.\")\n",
    "except ValueError as e:\n",
    "    print(f\"The exception arguments were {e.args}\")"
   ]
  },
  {
   "cell_type": "code",
   "execution_count": 21,
   "metadata": {},
   "outputs": [
    {
     "name": "stdout",
     "output_type": "stream",
     "text": [
      "\n",
      "Raising Exception 0: <class 'ValueError'>\n",
      "Caught a ValueError\n",
      "This cleanup code is always called\n",
      "\n",
      "Raising Exception 1: <class 'TypeError'>\n",
      "Caught a TypeError\n",
      "This cleanup code is always called\n",
      "\n",
      "Raising Exception 2: <class 'IndexError'>\n",
      "Caught some other error: IndexError\n",
      "This cleanup code is always called\n",
      "\n",
      "Raising Exception 3: None\n",
      "no exception raised\n",
      "This code called if there is no exception\n",
      "This cleanup code is always called\n"
     ]
    }
   ],
   "source": [
    "some_exceptions = [ValueError, TypeError, IndexError, None]\n",
    "\n",
    "for index, choice in enumerate(some_exceptions):\n",
    "    try:\n",
    "        print(f\"\\nRaising Exception {index}: {choice}\")\n",
    "        if choice:\n",
    "            raise choice\n",
    "        else:\n",
    "            print(\"no exception raised\")\n",
    "    except ValueError:\n",
    "        print(\"Caught a ValueError\")\n",
    "    except TypeError:\n",
    "        print(\"Caught a TypeError\")\n",
    "    except Exception as e:\n",
    "        print(f\"Caught some other error: {e.__class__.__name__}\")\n",
    "    else:\n",
    "        print(\"This code called if there is no exception\")\n",
    "    finally:\n",
    "        print(\"This cleanup code is always called\")"
   ]
  },
  {
   "cell_type": "code",
   "execution_count": 20,
   "metadata": {},
   "outputs": [
    {
     "ename": "InvalidWithdrawal",
     "evalue": "You don't have $50 in your account.",
     "output_type": "error",
     "traceback": [
      "\u001b[0;31m---------------------------------------------------------------------------\u001b[0m",
      "\u001b[0;31mInvalidWithdrawal\u001b[0m                         Traceback (most recent call last)",
      "Cell \u001b[0;32mIn[20], line 4\u001b[0m\n\u001b[1;32m      1\u001b[0m \u001b[38;5;28;01mclass\u001b[39;00m \u001b[38;5;21;01mInvalidWithdrawal\u001b[39;00m(\u001b[38;5;167;01mValueError\u001b[39;00m):\n\u001b[1;32m      2\u001b[0m \t\u001b[38;5;28;01mpass\u001b[39;00m\n\u001b[0;32m----> 4\u001b[0m \u001b[38;5;28;01mraise\u001b[39;00m InvalidWithdrawal(\u001b[38;5;124m\"\u001b[39m\u001b[38;5;124mYou don\u001b[39m\u001b[38;5;124m'\u001b[39m\u001b[38;5;124mt have $50 in your account.\u001b[39m\u001b[38;5;124m\"\u001b[39m)\n",
      "\u001b[0;31mInvalidWithdrawal\u001b[0m: You don't have $50 in your account."
     ]
    }
   ],
   "source": [
    "class InvalidWithdrawal(ValueError):\n",
    "\tpass\n",
    "\n",
    "raise InvalidWithdrawal(\"You don't have $50 in your account.\")"
   ]
  },
  {
   "cell_type": "code",
   "execution_count": 25,
   "metadata": {},
   "outputs": [
    {
     "name": "stdout",
     "output_type": "stream",
     "text": [
      "Exception caught!\n",
      "Arguments: ('Error occurred', 404, 'Not Found')\n"
     ]
    }
   ],
   "source": [
    "class InvalidWithdrawal(Exception):\n",
    "    pass\n",
    "\n",
    "# Raising the exception with multiple arguments\n",
    "try:\n",
    "    raise InvalidWithdrawal(\"Error occurred\", 404, \"Not Found\")\n",
    "except InvalidWithdrawal as e:\n",
    "    print(\"Exception caught!\")\n",
    "    print(\"Arguments:\", e.args)"
   ]
  },
  {
   "cell_type": "markdown",
   "metadata": {},
   "source": [
    "# 05. When to Use Object-Oriented Programming"
   ]
  },
  {
   "cell_type": "code",
   "execution_count": 3,
   "metadata": {},
   "outputs": [
    {
     "data": {
      "text/plain": [
       "4.0"
      ]
     },
     "execution_count": 3,
     "metadata": {},
     "output_type": "execute_result"
    }
   ],
   "source": [
    "# from __future__ import annotations\n",
    "from math import hypot\n",
    "from typing import Tuple, List\n",
    "\n",
    "Point = Tuple[float, float]\n",
    "\n",
    "def distance(p_1: Point, p_2: Point) -> float:\n",
    "\treturn hypot(p_1[0]-p_2[0], p_1[1]-p_2[1])\n",
    "\n",
    "square = [(1,1), (1,2), (2,2), (2,1)]\n",
    "Polygon = List[Point]\n",
    "\n",
    "def perimeter(polygon: Polygon) -> float:\n",
    "\tpairs = zip(polygon, polygon[1:]+polygon[:1])\n",
    "\treturn sum(distance(p1,p2) for p1, p2 in pairs)\n",
    "\n",
    "perimeter(square)"
   ]
  },
  {
   "cell_type": "code",
   "execution_count": 2,
   "metadata": {},
   "outputs": [
    {
     "data": {
      "text/plain": [
       "4.0"
      ]
     },
     "execution_count": 2,
     "metadata": {},
     "output_type": "execute_result"
    }
   ],
   "source": [
    "from math import hypot\n",
    "from __future__ import annotations\n",
    "\n",
    "class Point:\n",
    "    def __init__(self, x, y) -> None:\n",
    "        self.x = x\n",
    "        self.y = y\n",
    "    \n",
    "    def distance(self, other: Point) -> float:\n",
    "        return hypot(self.x - other.x, self.y - other.y)\n",
    "    \n",
    "class Polygon:\n",
    "    def __init__(self) -> None:\n",
    "        self.vertices: List[Point] = []\n",
    "\n",
    "    def add_point(self, point: Point) -> None:\n",
    "        self.vertices.append(point)\n",
    "\n",
    "    def perimeter(self) -> float:\n",
    "        pairs = zip(self.vertices, self.vertices[1:] + self.vertices[:1])\n",
    "        return sum(p1.distance(p2) for p1, p2 in pairs)\n",
    "    \n",
    "\n",
    "square = Polygon()\n",
    "square.add_point(Point(1,1))\n",
    "square.add_point(Point(1,2))\n",
    "square.add_point(Point(2,2))\n",
    "square.add_point(Point(2,1))\n",
    "square.perimeter()"
   ]
  },
  {
   "cell_type": "code",
   "execution_count": 1,
   "metadata": {},
   "outputs": [
    {
     "name": "stdout",
     "output_type": "stream",
     "text": [
      "30\n"
     ]
    }
   ],
   "source": [
    "class Circle:\n",
    "\tdef __init__(self, radius):\n",
    "\t\tself.radius = radius\n",
    "\t\t\n",
    "    \n",
    "circle1 = Circle(30)\n",
    "print(circle1.radius) # Output: 30"
   ]
  },
  {
   "cell_type": "code",
   "execution_count": 9,
   "metadata": {},
   "outputs": [
    {
     "name": "stdout",
     "output_type": "stream",
     "text": [
      "30\n",
      "-1\n"
     ]
    }
   ],
   "source": [
    "class Circle:\n",
    "\tdef __init__(self, radius):\n",
    "\t\tif radius > 0:\n",
    "\t\t\tself.radius = radius\n",
    "\t\telse:\n",
    "\t\t\traise ValueError(\"Radius must be greater than 0!\")\n",
    "\t\n",
    "\t# def radius(self):\n",
    "\t# \treturn self._radius\n",
    "\t\n",
    "circle1 = Circle(30)\n",
    "print(circle1.radius) # Output: 30\n",
    "circle1.radius = -1\n",
    "print(circle1.radius)"
   ]
  },
  {
   "cell_type": "code",
   "execution_count": null,
   "metadata": {},
   "outputs": [],
   "source": []
  },
  {
   "cell_type": "code",
   "execution_count": 35,
   "metadata": {},
   "outputs": [],
   "source": [
    "class Circle:\n",
    "\tdef __init__(self, radius):\n",
    "\t\tif radius > 0:\n",
    "\t\t\tself.radius = radius\n",
    "\t\telse:\n",
    "\t\t\traise ValueError(\"Radius must be greater than 0.\")\n",
    "\t\t\n",
    "circle1 = Circle(30)\n",
    "circle1.radius = -3"
   ]
  },
  {
   "cell_type": "code",
   "execution_count": 12,
   "metadata": {},
   "outputs": [
    {
     "ename": "TypeError",
     "evalue": "'int' object is not callable",
     "output_type": "error",
     "traceback": [
      "\u001b[0;31m---------------------------------------------------------------------------\u001b[0m",
      "\u001b[0;31mTypeError\u001b[0m                                 Traceback (most recent call last)",
      "Cell \u001b[0;32mIn[12], line 11\u001b[0m\n\u001b[1;32m      8\u001b[0m \t\t\u001b[38;5;28;01mreturn\u001b[39;00m \u001b[38;5;28mself\u001b[39m\u001b[38;5;241m.\u001b[39mradius\n\u001b[1;32m     10\u001b[0m circle1 \u001b[38;5;241m=\u001b[39m Circle(\u001b[38;5;241m30\u001b[39m)\n\u001b[0;32m---> 11\u001b[0m \u001b[43mcircle1\u001b[49m\u001b[38;5;241;43m.\u001b[39;49m\u001b[43mradius\u001b[49m\u001b[43m(\u001b[49m\u001b[43m)\u001b[49m\n",
      "\u001b[0;31mTypeError\u001b[0m: 'int' object is not callable"
     ]
    }
   ],
   "source": [
    "class Circle:\n",
    "\tdef __init__(self, radius):\n",
    "\t\tif radius > 0:\n",
    "\t\t\tself.radius = radius\n",
    "\t\telse:\n",
    "\t\t\traise ValueError(\"Radius must be greater than 0!\")\n",
    "\tdef radius(self):\n",
    "\t\treturn self.radius\n",
    "\t\n",
    "circle1 = Circle(30)\n",
    "circle1.radius()"
   ]
  },
  {
   "cell_type": "code",
   "execution_count": 13,
   "metadata": {},
   "outputs": [],
   "source": [
    "class Label:\n",
    "    def __init__(self, text, font):\n",
    "        self._text = text\n",
    "        self._font = font\n",
    "    \n",
    "    def get_text(self):\n",
    "        return self._text\n",
    "    \n",
    "    def set_text(self, new_text):\n",
    "        self._text = new_text\n",
    "\n",
    "    def get_font(self):\n",
    "        return self._font\n",
    "    \n",
    "    def set_font(self, new_font):\n",
    "        self._font = new_font"
   ]
  },
  {
   "cell_type": "code",
   "execution_count": 15,
   "metadata": {},
   "outputs": [
    {
     "name": "stdout",
     "output_type": "stream",
     "text": [
      "FRUITS\n",
      "VEGETABLES\n"
     ]
    }
   ],
   "source": [
    "class Label:\n",
    "    def __init__(self, text, font):\n",
    "        self.set_text(text)\n",
    "        self._font = font\n",
    "\n",
    "    def get_text(self):\n",
    "        return self._text\n",
    "    \n",
    "    def set_text(self, text_value):\n",
    "        self._text = text_value.upper()\n",
    "\n",
    "\n",
    "label1 = Label(\"Fruits\", \"JeyBrains Mono NL\")\n",
    "print(label1.get_text())\n",
    "\n",
    "label1.set_text(\"Vegetables\")\n",
    "print(label1.get_text())"
   ]
  },
  {
   "cell_type": "code",
   "execution_count": 16,
   "metadata": {},
   "outputs": [],
   "source": [
    "class Employee:\n",
    "\tdef __init__(self, name, birth_date):\n",
    "\t\tself.name = name\n",
    "\t\tself.birth_date = birth_date"
   ]
  },
  {
   "cell_type": "code",
   "execution_count": 29,
   "metadata": {},
   "outputs": [
    {
     "name": "stdout",
     "output_type": "stream",
     "text": [
      "SIMONE\n",
      "<class 'datetime.date'>\n",
      "FABIO\n"
     ]
    }
   ],
   "source": [
    "from datetime import date\n",
    "\n",
    "class Employee:\n",
    "\tdef __init__(self, name, birth_date):\n",
    "\t\tself.name = name\n",
    "\t\tself.birth_date = birth_date\n",
    "\t\n",
    "\t@property\n",
    "\tdef name(self):\n",
    "\t\treturn self._name\n",
    "\n",
    "\t@name.setter\n",
    "\tdef name(self, value):\n",
    "\t\tself._name = value.upper()\n",
    "\n",
    "\t@property\n",
    "\tdef birth_date(self):\n",
    "\t\treturn self._birth_date\n",
    "\n",
    "\t@birth_date.setter\n",
    "\tdef birth_date(self, value):\n",
    "\t\tself._birth_date = date.fromisoformat(value)\n",
    "\t\t\n",
    "\n",
    "employee = Employee(\"simone\", \"2025-01-01\")\n",
    "print(employee.name)\n",
    "print(type(employee.birth_date))\n",
    "\n",
    "employee.name = \"Fabio\"\n",
    "print(employee.name)"
   ]
  },
  {
   "cell_type": "code",
   "execution_count": 43,
   "metadata": {},
   "outputs": [
    {
     "name": "stdout",
     "output_type": "stream",
     "text": [
      "Retrieving New Page...\n"
     ]
    }
   ],
   "source": [
    "from urllib.request import urlopen\n",
    "from typing import Optional\n",
    "\n",
    "class WebPage:\n",
    "    def __init__(self, url: str) -> None:\n",
    "        self.url = url\n",
    "        self._content: Optional[bytes] = None\n",
    "\n",
    "    @property\n",
    "    def content(self) -> bytes:\n",
    "        if self._content is None:  \n",
    "            print(\"Retrieving New Page...\")\n",
    "            with urlopen(self.url) as response:\n",
    "                self._content = response.read()\n",
    "        return self._content"
   ]
  },
  {
   "cell_type": "code",
   "execution_count": 45,
   "metadata": {},
   "outputs": [
    {
     "name": "stdout",
     "output_type": "stream",
     "text": [
      "Retrieving New Page...\n",
      "First fetch: 0.27059\n",
      "Second fetch: 3.325e-05\n"
     ]
    }
   ],
   "source": [
    "import time\n",
    "\n",
    "webpage = WebPage(\"http://ccphillips.net/\")\n",
    "\n",
    "now = time.perf_counter()\n",
    "content1 = webpage.content\n",
    "first_fetch = time.perf_counter() - now\n",
    "\n",
    "\n",
    "now = time.perf_counter()\n",
    "content2 = webpage.content\n",
    "second_fetch = time.perf_counter() - now\n",
    "\n",
    "assert content2 == content1\n",
    "print(f\"First fetch: {first_fetch:.5}\")\n",
    "print(f\"Second fetch: {second_fetch:.5}\")"
   ]
  },
  {
   "cell_type": "code",
   "execution_count": 39,
   "metadata": {},
   "outputs": [
    {
     "name": "stdout",
     "output_type": "stream",
     "text": [
      "Retrieving New Page...\n",
      "CPU times: user 14.3 ms, sys: 4.69 ms, total: 19 ms\n",
      "Wall time: 265 ms\n"
     ]
    },
    {
     "data": {
      "text/plain": [
       "b'<!doctype html><html data-current=\"home\" lang=\"en\"><head><meta charset=\"utf-8\"><link rel=\"dns-prefetch\" href=\"https://identity.netlify.com\"><meta name=\"viewport\" content=\"width=device-width,initial-scale=1\"><title>C. C. Phillips</title><meta name=\"description\" content=\"Canadian Author\"><script async src=\"https://identity.netlify.com/v1/netlify-identity-widget.js\"></script><link rel=\"preconnect\" href=\"https://fonts.googleapis.com\"><link rel=\"preconnect\" href=\"https://fonts.gstatic.com\" crossorigin><link rel=\"icon\" href=\"/static/img/flyingpbar.png\"><style>/*! normalize.css v5.0.0 | MIT License | github.com/necolas/normalize.css */html{font-family:sans-serif;line-height:1.15;-ms-text-size-adjust:100%;-webkit-text-size-adjust:100%}body{margin:0}article,aside,footer,header,nav,section{display:block}h1{font-size:2em;margin:.67em 0}figcaption,figure,main{display:block}figure{margin:1em 40px}hr{box-sizing:content-box;height:0;overflow:visible}pre{font-family:monospace,monospace;font-size:1em}a{background-color:transparent;-webkit-text-decoration-skip:objects}a:active,a:hover{outline-width:0}abbr[title]{border-bottom:none;text-decoration:underline;text-decoration:underline dotted}b,strong{font-weight:inherit}b,strong{font-weight:bolder}code,kbd,samp{font-family:monospace,monospace;font-size:1em}dfn{font-style:italic}mark{background-color:#ff0;color:#000}small{font-size:80%}sub,sup{font-size:75%;line-height:0;position:relative;vertical-align:baseline}sub{bottom:-.25em}sup{top:-.5em}audio,video{display:inline-block}audio:not([controls]){display:none;height:0}img{border-style:none}svg:not(:root){overflow:hidden}button,input,optgroup,select,textarea{font-family:sans-serif;font-size:100%;line-height:1.15;margin:0}button,input{overflow:visible}button,select{text-transform:none}[type=reset],[type=submit],button,html [type=button]{-webkit-appearance:button}[type=button]::-moz-focus-inner,[type=reset]::-moz-focus-inner,[type=submit]::-moz-focus-inner,button::-moz-focus-inner{border-style:none;padding:0}[type=button]:-moz-focusring,[type=reset]:-moz-focusring,[type=submit]:-moz-focusring,button:-moz-focusring{outline:1px dotted ButtonText}fieldset{border:1px solid silver;margin:0 2px;padding:.35em .625em .75em}legend{box-sizing:border-box;color:inherit;display:table;max-width:100%;padding:0;white-space:normal}progress{display:inline-block;vertical-align:baseline}textarea{overflow:auto}[type=checkbox],[type=radio]{box-sizing:border-box;padding:0}[type=number]::-webkit-inner-spin-button,[type=number]::-webkit-outer-spin-button{height:auto}[type=search]{-webkit-appearance:textfield;outline-offset:-2px}[type=search]::-webkit-search-cancel-button,[type=search]::-webkit-search-decoration{-webkit-appearance:none}::-webkit-file-upload-button{-webkit-appearance:button;font:inherit}details,menu{display:block}summary{display:list-item}canvas{display:inline-block}template{display:none}[hidden]{display:none}:root{--color-primary:#472a02;--color-secondary:#72631f;--color-bg:#fffbf9;--color-bg-secondary:rgb(229, 223, 193);--color-bg-accent:#ddcdaa;--color-text:#472a02;--color-text-alt:#ffffff;--color-border:rgba(0, 0, 0, 0.18);--color-danger:#e03e3e;--font-family-base:- \"Georgia\",serif;--font-family-heading:var(--font-family-base);--site-width:850px;--border-radius:12px;--border-radius-sm:5px}@font-face{font-family:Inter;font-style:normal;font-weight:800;font-display:swap;src:url(https://fonts.gstatic.com/s/inter/v3/UcCO3FwrK3iLTeHuS_fvQtMwCp50KnMw2boKoduKmMEVuDyYAZJhjp-Ek-_EeAmM.woff) format(\\'woff\\');unicode-range:U+0460-052F,U+1C80-1C88,U+20B4,U+2DE0-2DFF,U+A640-A69F,U+FE2E-FE2F}@font-face{font-family:Inter;font-style:normal;font-weight:800;font-display:swap;src:url(https://fonts.gstatic.com/s/inter/v3/UcCO3FwrK3iLTeHuS_fvQtMwCp50KnMw2boKoduKmMEVuDyYAZthjp-Ek-_EeAmM.woff) format(\\'woff\\');unicode-range:U+0400-045F,U+0490-0491,U+04B0-04B1,U+2116}@font-face{font-family:Inter;font-style:normal;font-weight:800;font-display:swap;src:url(https://fonts.gstatic.com/s/inter/v3/UcCO3FwrK3iLTeHuS_fvQtMwCp50KnMw2boKoduKmMEVuDyYAZNhjp-Ek-_EeAmM.woff) format(\\'woff\\');unicode-range:U+1F00-1FFF}@font-face{font-family:Inter;font-style:normal;font-weight:800;font-display:swap;src:url(https://fonts.gstatic.com/s/inter/v3/UcCO3FwrK3iLTeHuS_fvQtMwCp50KnMw2boKoduKmMEVuDyYAZxhjp-Ek-_EeAmM.woff) format(\\'woff\\');unicode-range:U+0370-03FF}@font-face{font-family:Inter;font-style:normal;font-weight:800;font-display:swap;src:url(https://fonts.gstatic.com/s/inter/v3/UcCO3FwrK3iLTeHuS_fvQtMwCp50KnMw2boKoduKmMEVuDyYAZBhjp-Ek-_EeAmM.woff) format(\\'woff\\');unicode-range:U+0102-0103,U+0110-0111,U+0128-0129,U+0168-0169,U+01A0-01A1,U+01AF-01B0,U+1EA0-1EF9,U+20AB}@font-face{font-family:Inter;font-style:normal;font-weight:800;font-display:swap;src:url(https://fonts.gstatic.com/s/inter/v3/UcCO3FwrK3iLTeHuS_fvQtMwCp50KnMw2boKoduKmMEVuDyYAZFhjp-Ek-_EeAmM.woff) format(\\'woff\\');unicode-range:U+0100-024F,U+0259,U+1E00-1EFF,U+2020,U+20A0-20AB,U+20AD-20CF,U+2113,U+2C60-2C7F,U+A720-A7FF}@font-face{font-family:Inter;font-style:normal;font-weight:800;font-display:swap;src:url(https://fonts.gstatic.com/s/inter/v3/UcCO3FwrK3iLTeHuS_fvQtMwCp50KnMw2boKoduKmMEVuDyYAZ9hjp-Ek-_EeA.woff) format(\\'woff\\');unicode-range:U+0000-00FF,U+0131,U+0152-0153,U+02BB-02BC,U+02C6,U+02DA,U+02DC,U+2000-206F,U+2074,U+20AC,U+2122,U+2191,U+2193,U+2212,U+2215,U+FEFF,U+FFFD}html{font-size:62.5%;font-family:var(--font-family-base)}body{display:flex;flex-direction:column;min-height:100vh;margin:0;font-size:1.8rem;line-height:1.618;color:var(--color-text);background-color:var(--color-bg)}main{padding:13px}@media (max-width:684px){body{font-size:1.53rem}}@media (max-width:382px){body{font-size:1.35rem}}footer{margin-top:auto}h1,h2,h3,h4,h5,h6{line-height:1.1;font-family:var(--font-family-heading);font-weight:700;margin-top:3rem;margin-bottom:1.5rem;overflow-wrap:break-word;word-wrap:break-word;-ms-word-break:break-all;word-break:break-word}h1{font-size:2.35em}h2{font-size:2em}h3{font-size:1.75em}h4{font-size:1.5em}h5{font-size:1.25em}h6{font-size:1em}p{margin-top:0;margin-bottom:2.5rem}small,sub,sup{font-size:75%}hr{border-color:var(--color-border)}a{text-decoration:none;color:var(--color-secondary)}a:hover{color:var(--color-secondary);border-bottom:2px solid var(--color-secondary)}ul{padding-left:1.4em;margin-top:0;margin-bottom:2.5rem}li{margin-bottom:.4em}blockquote{margin-left:0;margin-right:0;padding-left:1em;padding-top:.8em;padding-bottom:.8em;padding-right:.8em;border-left:5px solid var(--color-primary);margin-bottom:2.5rem;background-color:var(--color-bg-secondary)}blockquote h1,blockquote h2,blockquote h3,blockquote h4,blockquote h5,blockquote h6{margin:.4em 0}blockquote p{margin-bottom:0}img,video{height:auto;max-width:100%;margin-top:0;margin-bottom:2.5rem}pre{background-color:var(--color-bg-secondary);display:block;padding:1em;overflow-x:auto;margin-top:0;margin-bottom:2.5rem}code{font-size:.9em;padding:0 .5em;background-color:var(--color-bg-secondary);white-space:pre-wrap}pre>code{padding:0;background-color:transparent;white-space:pre}table{text-align:justify;width:100%;border-collapse:collapse}td,th{padding:.5em;border-bottom:1px solid var(--color-bg-secondary)}input,textarea{border:1px solid var(--color-text)}input:focus,textarea:focus{border:1px solid var(--color-primary)}textarea{width:100%;max-width:100%;min-height:35px}.btn,button,input[type=button],input[type=reset],input[type=submit]{display:inline-block;padding:5px 10px;text-align:center;text-decoration:none;white-space:nowrap;background-color:var(--color-primary);color:var(--color-bg);border-radius:1px;cursor:pointer;box-sizing:border-box}.btn[disabled],button[disabled],input[type=button][disabled],input[type=reset][disabled],input[type=submit][disabled]{cursor:default;opacity:.5}.btn:focus:enabled,.btn:hover:enabled,button:focus:enabled,button:hover:enabled,input[type=button]:focus:enabled,input[type=button]:hover:enabled,input[type=reset]:focus:enabled,input[type=reset]:hover:enabled,input[type=submit]:focus:enabled,input[type=submit]:hover:enabled{outline:0}input,select,textarea{color:var(--color-text);padding:6px 10px;margin-bottom:10px;background-color:var(--color-bg-secondary);border:1px solid var(--color-bg-secondary);border-radius:4px;box-shadow:none;box-sizing:border-box}input:focus,select:focus,textarea:focus{border:1px solid var(--color-primary);outline:0}input[type=checkbox]:focus{outline:1px dotted var(--color-primary)}fieldset,label,legend{display:block;margin-bottom:.5rem;font-weight:600}.book-list,.page-container{max-width:var(--site-width);margin-right:auto;margin-left:auto;padding:1rem}.page-container img{display:flex;width:100%;max-width:700px;margin:4rem auto}.book-list img{float:left;margin-right:3rem;width:100px}.book-list h2{border-top:solid 1px var(--color-border);padding-top:12px;font-size:24px;clear:both}.poetry-list img{float:right;margin-right:8rem;margin-left:3rem;width:100px}.shadow{box-shadow:0 10px 15px -3px rgba(0,0,0,.1),0 4px 6px -2px rgba(0,0,0,.05)}.gradient-text{background:linear-gradient(130deg,#472a02,#72631f 41.07%,#462901 76.05%);-webkit-background-clip:text;-webkit-text-fill-color:transparent}.btn{padding:10px 15px;border:none;border-radius:var(--border-radius-sm);background-color:var(--color-secondary);color:var(--color-text-alt);font-size:14px;white-space:nowrap}.btn:focus,.btn:hover{border:none;filter:brightness(90%)}.btn--danger{background-color:var(--color-danger);color:var(--color-text-alt)}.btn--danger:focus,.btn--danger:hover{border:none;background-color:var(--color-danger);color:var(--color-text-alt);filter:brightness(90%)}.site-header{display:flex;flex-wrap:wrap;align-items:center;justify-content:space-between;padding:15px;border-top:3px solid var(--color-secondary)}@media (min-width:1024px){.site-header{padding:15px 30px}}.site-header__logo-container{margin:0 auto;font-weight:700}@media (min-width:1024px){.site-header__logo-container{margin:0}}.site-header__logo{width:25px;height:25px;margin:0 10px 0 0}.site-header__nav{width:100%;margin-top:15px;padding-bottom:5px;border-bottom:1px solid var(--color-secondary)}@media (min-width:1024px){.site-header__nav{width:auto;margin-top:0}}.site-header__items{display:flex;align-items:center;flex-wrap:wrap;justify-content:center;margin:0;padding:0;list-style:none}.site-header__item{margin:0 6px;font-weight:500;font-size:1rem}@media (min-width:1024px){.site-header__item{margin:0 20px;font-size:1.5rem}}.site-header__link{display:flex;align-items:center;color:var(--color-text)}.site-header__link:hover{border-bottom:none}.site-footer{display:flex;flex-wrap:wrap;align-items:center;justify-content:center;padding:15px;border-top:1px solid var(--color-border)}@media (min-width:1024px){.site-footer{padding:15px 30px}}.article-card{margin-top:35px}.article-card__title{color:var(--color-text)}.article-card__summary{margin-bottom:15px}.tag-list{display:flex;flex-wrap:wrap}.tag-list--no-wrap{display:flex;flex-wrap:wrap;align-items:center;padding:40px 0 30px;border-bottom:2px solid var(--color-border)}@media (min-width:1024px){.tag-list--no-wrap{flex-wrap:nowrap;justify-content:space-between}}.tag-list__title{width:100%;margin-top:0;margin-right:20px;margin-bottom:20px}@media (min-width:1024px){.tag-list__title{margin-bottom:0}}.tag{margin:10px 10px 0 0;padding:6px 8px;background-color:var(--color-bg-secondary);border-radius:var(--border-radius-sm);color:var(--color-secondary);white-space:nowrap;font-size:13px;font-weight:500}.tag:hover{border:none}.tag:first-child{margin-left:0}.home-page{max-width:900px;margin:0 auto;padding:0 20px 20px}@media (min-width:1024px){.home-page{padding:20px 40px}}.home-page__bg-square{display:none}@media (min-width:1024px){.home-page__bg-square{display:none;position:absolute;left:auto;top:60px;right:0;bottom:auto;width:100%;height:100%;max-height:70%;max-width:35%;min-width:300px;border-radius:var(--border-radius);background-color:var(--color-bg-accent);z-index:-1}}.hero{display:grid;grid-auto-columns:1fr;grid-template-rows:auto auto;grid-row-gap:50px;grid-column-gap:70px;max-width:1100px;margin:0 auto}@media (min-width:1024px){.hero{grid-template-columns:1fr 1fr;grid-row-gap:20px;margin:50px auto}}.hero__col{display:flex;flex-direction:column;justify-content:center}.hero__image{margin-bottom:0;border-radius:var(--border-radius);transition:filter .4s ease-out}.hero__title{margin-top:0}@media (min-width:1024px){.hero__title{font-size:3.3em}}.hero__subtitle{margin-top:0}@media (min-width:1024px){.hero__subtitle{margin-top:3rem}}</style><script>window.netlifyIdentity&&window.netlifyIdentity.on(\"init\",n=>{n||window.netlifyIdentity.on(\"login\",()=>{document.location.href=\"/admin/\"})});</script></head><body><header class=\"site-header\"><span class=\"site-header__logo-container\"><a class=\"site-header__link\" href=\"/\"><img class=\"site-header__logo\" src=\"/static/img/flyingpbar.png\" alt=\"flying p bar\" width=\"25px\" height=\"25px\" loading=\"lazy\"> C. C. Phillips</a></span><nav class=\"site-header__nav\"><ul class=\"site-header__items\"><li class=\"site-header__item\"><a class=\"site-header__link\" href=\"/\">Home</a></li><li class=\"site-header__item\"><a class=\"site-header__link\" href=\"/books/\">Books</a></li><li class=\"site-header__item\"><a class=\"site-header__link\" href=\"/bio/\">Bio</a></li><li class=\"site-header__item\"><a class=\"site-header__link\" href=\"/poetry/\">Poetry</a></li><li class=\"site-header__item\"><a class=\"site-header__link\" href=\"/blog/\">News</a></li><li class=\"site-header__item\"><a class=\"site-header__link\" href=\"/contact/\">Contact</a></li><li class=\"site-header__item\"><a class=\"site-header__link\" href=\"https://www.facebook.com/ccphillips.net/\">Facebook</a></li></ul></nav></header><main><div class=\"home-page\"><div class=\"home-page__bg-square\"></div><div class=\"hero\"><div class=\"hero__col\"><h1 class=\"hero__title gradient-text\">C. C. Phillips</h1><h2 class=\"hero__subtitle\">Canadian Author</h2></div><div class=\"hero__col\"><img class=\"hero__image shadow\" src=\"/static/img/26b0a4af-5416-483d-b375-06e3377e8edd.jpeg\" alt=\"\" width=\"1000px\" height=\"1000px\" loading=\"lazy\"></div></div><hr><h2>Articles</h2><section><article class=\"article-card\"><h5><a class=\"article-card__title\" href=\"/posts/check-out-newly-published-poem-on-the-poetry-page...legends-of-castle-rouge!/\">Check out newly published poem on the Poetry page...Legends of Castle Rouge!</a></h5><p class=\"article-card__summary\">This is a lengthy poem so take your time...</p></article><article class=\"article-card\"><h5><a class=\"article-card__title\" href=\"/posts/uranium-city-somewhere-safe/\">URANIUM CITY - Somewhere Safe</a></h5><p class=\"article-card__summary\">Somewhere Safe: Uranium City - The Lure and the Lore</p></article><article class=\"article-card\"><h5><a class=\"article-card__title\" href=\"/posts/return-of-billy-the-kid!/\">RETURN OF BILLY THE KID!</a></h5><p class=\"article-card__summary\">Return of Billy the Kid! We have recently revisited Young Guns I (1988) and Young Guns II (1990) and, upon completing a piece of research, discovered that Emilio Estevez \\xe2\\x80\\x93 who portrays William Bonney, aka Henry McCarty \\xe2\\x80\\x93 is in the process of acting and directing Young Guns III: Alias Billy The Kid. The production, also written by Estevez, is to be released this year, the 35th anniversary of the original, a box office hit. The movies are especially interesting in that they renew the controversy as to whether Pat Garrett really did shoot and kill the hero of the Lincoln County War. I&#39;ll say this about that, \\xe2\\x80\\x9cThe author of the Jesse Sterling novel The Broken Buckle doesn&#39;t believe that Billy The Kid died at the hand of Specially Appointed Sheriff Pat Garrett, July 14, 1881.\\xe2\\x80\\x9d</p></article></section></div></main><footer class=\"site-footer\"><small>Copyright &copy; 2009-2022 C. C. Phillips</small></footer></body></html>'"
      ]
     },
     "execution_count": 39,
     "metadata": {},
     "output_type": "execute_result"
    }
   ],
   "source": [
    "%%time\n",
    "webpage.content"
   ]
  },
  {
   "cell_type": "code",
   "execution_count": 40,
   "metadata": {},
   "outputs": [
    {
     "name": "stdout",
     "output_type": "stream",
     "text": [
      "CPU times: user 5 μs, sys: 1e+03 ns, total: 6 μs\n",
      "Wall time: 6.91 μs\n"
     ]
    },
    {
     "data": {
      "text/plain": [
       "b'<!doctype html><html data-current=\"home\" lang=\"en\"><head><meta charset=\"utf-8\"><link rel=\"dns-prefetch\" href=\"https://identity.netlify.com\"><meta name=\"viewport\" content=\"width=device-width,initial-scale=1\"><title>C. C. Phillips</title><meta name=\"description\" content=\"Canadian Author\"><script async src=\"https://identity.netlify.com/v1/netlify-identity-widget.js\"></script><link rel=\"preconnect\" href=\"https://fonts.googleapis.com\"><link rel=\"preconnect\" href=\"https://fonts.gstatic.com\" crossorigin><link rel=\"icon\" href=\"/static/img/flyingpbar.png\"><style>/*! normalize.css v5.0.0 | MIT License | github.com/necolas/normalize.css */html{font-family:sans-serif;line-height:1.15;-ms-text-size-adjust:100%;-webkit-text-size-adjust:100%}body{margin:0}article,aside,footer,header,nav,section{display:block}h1{font-size:2em;margin:.67em 0}figcaption,figure,main{display:block}figure{margin:1em 40px}hr{box-sizing:content-box;height:0;overflow:visible}pre{font-family:monospace,monospace;font-size:1em}a{background-color:transparent;-webkit-text-decoration-skip:objects}a:active,a:hover{outline-width:0}abbr[title]{border-bottom:none;text-decoration:underline;text-decoration:underline dotted}b,strong{font-weight:inherit}b,strong{font-weight:bolder}code,kbd,samp{font-family:monospace,monospace;font-size:1em}dfn{font-style:italic}mark{background-color:#ff0;color:#000}small{font-size:80%}sub,sup{font-size:75%;line-height:0;position:relative;vertical-align:baseline}sub{bottom:-.25em}sup{top:-.5em}audio,video{display:inline-block}audio:not([controls]){display:none;height:0}img{border-style:none}svg:not(:root){overflow:hidden}button,input,optgroup,select,textarea{font-family:sans-serif;font-size:100%;line-height:1.15;margin:0}button,input{overflow:visible}button,select{text-transform:none}[type=reset],[type=submit],button,html [type=button]{-webkit-appearance:button}[type=button]::-moz-focus-inner,[type=reset]::-moz-focus-inner,[type=submit]::-moz-focus-inner,button::-moz-focus-inner{border-style:none;padding:0}[type=button]:-moz-focusring,[type=reset]:-moz-focusring,[type=submit]:-moz-focusring,button:-moz-focusring{outline:1px dotted ButtonText}fieldset{border:1px solid silver;margin:0 2px;padding:.35em .625em .75em}legend{box-sizing:border-box;color:inherit;display:table;max-width:100%;padding:0;white-space:normal}progress{display:inline-block;vertical-align:baseline}textarea{overflow:auto}[type=checkbox],[type=radio]{box-sizing:border-box;padding:0}[type=number]::-webkit-inner-spin-button,[type=number]::-webkit-outer-spin-button{height:auto}[type=search]{-webkit-appearance:textfield;outline-offset:-2px}[type=search]::-webkit-search-cancel-button,[type=search]::-webkit-search-decoration{-webkit-appearance:none}::-webkit-file-upload-button{-webkit-appearance:button;font:inherit}details,menu{display:block}summary{display:list-item}canvas{display:inline-block}template{display:none}[hidden]{display:none}:root{--color-primary:#472a02;--color-secondary:#72631f;--color-bg:#fffbf9;--color-bg-secondary:rgb(229, 223, 193);--color-bg-accent:#ddcdaa;--color-text:#472a02;--color-text-alt:#ffffff;--color-border:rgba(0, 0, 0, 0.18);--color-danger:#e03e3e;--font-family-base:- \"Georgia\",serif;--font-family-heading:var(--font-family-base);--site-width:850px;--border-radius:12px;--border-radius-sm:5px}@font-face{font-family:Inter;font-style:normal;font-weight:800;font-display:swap;src:url(https://fonts.gstatic.com/s/inter/v3/UcCO3FwrK3iLTeHuS_fvQtMwCp50KnMw2boKoduKmMEVuDyYAZJhjp-Ek-_EeAmM.woff) format(\\'woff\\');unicode-range:U+0460-052F,U+1C80-1C88,U+20B4,U+2DE0-2DFF,U+A640-A69F,U+FE2E-FE2F}@font-face{font-family:Inter;font-style:normal;font-weight:800;font-display:swap;src:url(https://fonts.gstatic.com/s/inter/v3/UcCO3FwrK3iLTeHuS_fvQtMwCp50KnMw2boKoduKmMEVuDyYAZthjp-Ek-_EeAmM.woff) format(\\'woff\\');unicode-range:U+0400-045F,U+0490-0491,U+04B0-04B1,U+2116}@font-face{font-family:Inter;font-style:normal;font-weight:800;font-display:swap;src:url(https://fonts.gstatic.com/s/inter/v3/UcCO3FwrK3iLTeHuS_fvQtMwCp50KnMw2boKoduKmMEVuDyYAZNhjp-Ek-_EeAmM.woff) format(\\'woff\\');unicode-range:U+1F00-1FFF}@font-face{font-family:Inter;font-style:normal;font-weight:800;font-display:swap;src:url(https://fonts.gstatic.com/s/inter/v3/UcCO3FwrK3iLTeHuS_fvQtMwCp50KnMw2boKoduKmMEVuDyYAZxhjp-Ek-_EeAmM.woff) format(\\'woff\\');unicode-range:U+0370-03FF}@font-face{font-family:Inter;font-style:normal;font-weight:800;font-display:swap;src:url(https://fonts.gstatic.com/s/inter/v3/UcCO3FwrK3iLTeHuS_fvQtMwCp50KnMw2boKoduKmMEVuDyYAZBhjp-Ek-_EeAmM.woff) format(\\'woff\\');unicode-range:U+0102-0103,U+0110-0111,U+0128-0129,U+0168-0169,U+01A0-01A1,U+01AF-01B0,U+1EA0-1EF9,U+20AB}@font-face{font-family:Inter;font-style:normal;font-weight:800;font-display:swap;src:url(https://fonts.gstatic.com/s/inter/v3/UcCO3FwrK3iLTeHuS_fvQtMwCp50KnMw2boKoduKmMEVuDyYAZFhjp-Ek-_EeAmM.woff) format(\\'woff\\');unicode-range:U+0100-024F,U+0259,U+1E00-1EFF,U+2020,U+20A0-20AB,U+20AD-20CF,U+2113,U+2C60-2C7F,U+A720-A7FF}@font-face{font-family:Inter;font-style:normal;font-weight:800;font-display:swap;src:url(https://fonts.gstatic.com/s/inter/v3/UcCO3FwrK3iLTeHuS_fvQtMwCp50KnMw2boKoduKmMEVuDyYAZ9hjp-Ek-_EeA.woff) format(\\'woff\\');unicode-range:U+0000-00FF,U+0131,U+0152-0153,U+02BB-02BC,U+02C6,U+02DA,U+02DC,U+2000-206F,U+2074,U+20AC,U+2122,U+2191,U+2193,U+2212,U+2215,U+FEFF,U+FFFD}html{font-size:62.5%;font-family:var(--font-family-base)}body{display:flex;flex-direction:column;min-height:100vh;margin:0;font-size:1.8rem;line-height:1.618;color:var(--color-text);background-color:var(--color-bg)}main{padding:13px}@media (max-width:684px){body{font-size:1.53rem}}@media (max-width:382px){body{font-size:1.35rem}}footer{margin-top:auto}h1,h2,h3,h4,h5,h6{line-height:1.1;font-family:var(--font-family-heading);font-weight:700;margin-top:3rem;margin-bottom:1.5rem;overflow-wrap:break-word;word-wrap:break-word;-ms-word-break:break-all;word-break:break-word}h1{font-size:2.35em}h2{font-size:2em}h3{font-size:1.75em}h4{font-size:1.5em}h5{font-size:1.25em}h6{font-size:1em}p{margin-top:0;margin-bottom:2.5rem}small,sub,sup{font-size:75%}hr{border-color:var(--color-border)}a{text-decoration:none;color:var(--color-secondary)}a:hover{color:var(--color-secondary);border-bottom:2px solid var(--color-secondary)}ul{padding-left:1.4em;margin-top:0;margin-bottom:2.5rem}li{margin-bottom:.4em}blockquote{margin-left:0;margin-right:0;padding-left:1em;padding-top:.8em;padding-bottom:.8em;padding-right:.8em;border-left:5px solid var(--color-primary);margin-bottom:2.5rem;background-color:var(--color-bg-secondary)}blockquote h1,blockquote h2,blockquote h3,blockquote h4,blockquote h5,blockquote h6{margin:.4em 0}blockquote p{margin-bottom:0}img,video{height:auto;max-width:100%;margin-top:0;margin-bottom:2.5rem}pre{background-color:var(--color-bg-secondary);display:block;padding:1em;overflow-x:auto;margin-top:0;margin-bottom:2.5rem}code{font-size:.9em;padding:0 .5em;background-color:var(--color-bg-secondary);white-space:pre-wrap}pre>code{padding:0;background-color:transparent;white-space:pre}table{text-align:justify;width:100%;border-collapse:collapse}td,th{padding:.5em;border-bottom:1px solid var(--color-bg-secondary)}input,textarea{border:1px solid var(--color-text)}input:focus,textarea:focus{border:1px solid var(--color-primary)}textarea{width:100%;max-width:100%;min-height:35px}.btn,button,input[type=button],input[type=reset],input[type=submit]{display:inline-block;padding:5px 10px;text-align:center;text-decoration:none;white-space:nowrap;background-color:var(--color-primary);color:var(--color-bg);border-radius:1px;cursor:pointer;box-sizing:border-box}.btn[disabled],button[disabled],input[type=button][disabled],input[type=reset][disabled],input[type=submit][disabled]{cursor:default;opacity:.5}.btn:focus:enabled,.btn:hover:enabled,button:focus:enabled,button:hover:enabled,input[type=button]:focus:enabled,input[type=button]:hover:enabled,input[type=reset]:focus:enabled,input[type=reset]:hover:enabled,input[type=submit]:focus:enabled,input[type=submit]:hover:enabled{outline:0}input,select,textarea{color:var(--color-text);padding:6px 10px;margin-bottom:10px;background-color:var(--color-bg-secondary);border:1px solid var(--color-bg-secondary);border-radius:4px;box-shadow:none;box-sizing:border-box}input:focus,select:focus,textarea:focus{border:1px solid var(--color-primary);outline:0}input[type=checkbox]:focus{outline:1px dotted var(--color-primary)}fieldset,label,legend{display:block;margin-bottom:.5rem;font-weight:600}.book-list,.page-container{max-width:var(--site-width);margin-right:auto;margin-left:auto;padding:1rem}.page-container img{display:flex;width:100%;max-width:700px;margin:4rem auto}.book-list img{float:left;margin-right:3rem;width:100px}.book-list h2{border-top:solid 1px var(--color-border);padding-top:12px;font-size:24px;clear:both}.poetry-list img{float:right;margin-right:8rem;margin-left:3rem;width:100px}.shadow{box-shadow:0 10px 15px -3px rgba(0,0,0,.1),0 4px 6px -2px rgba(0,0,0,.05)}.gradient-text{background:linear-gradient(130deg,#472a02,#72631f 41.07%,#462901 76.05%);-webkit-background-clip:text;-webkit-text-fill-color:transparent}.btn{padding:10px 15px;border:none;border-radius:var(--border-radius-sm);background-color:var(--color-secondary);color:var(--color-text-alt);font-size:14px;white-space:nowrap}.btn:focus,.btn:hover{border:none;filter:brightness(90%)}.btn--danger{background-color:var(--color-danger);color:var(--color-text-alt)}.btn--danger:focus,.btn--danger:hover{border:none;background-color:var(--color-danger);color:var(--color-text-alt);filter:brightness(90%)}.site-header{display:flex;flex-wrap:wrap;align-items:center;justify-content:space-between;padding:15px;border-top:3px solid var(--color-secondary)}@media (min-width:1024px){.site-header{padding:15px 30px}}.site-header__logo-container{margin:0 auto;font-weight:700}@media (min-width:1024px){.site-header__logo-container{margin:0}}.site-header__logo{width:25px;height:25px;margin:0 10px 0 0}.site-header__nav{width:100%;margin-top:15px;padding-bottom:5px;border-bottom:1px solid var(--color-secondary)}@media (min-width:1024px){.site-header__nav{width:auto;margin-top:0}}.site-header__items{display:flex;align-items:center;flex-wrap:wrap;justify-content:center;margin:0;padding:0;list-style:none}.site-header__item{margin:0 6px;font-weight:500;font-size:1rem}@media (min-width:1024px){.site-header__item{margin:0 20px;font-size:1.5rem}}.site-header__link{display:flex;align-items:center;color:var(--color-text)}.site-header__link:hover{border-bottom:none}.site-footer{display:flex;flex-wrap:wrap;align-items:center;justify-content:center;padding:15px;border-top:1px solid var(--color-border)}@media (min-width:1024px){.site-footer{padding:15px 30px}}.article-card{margin-top:35px}.article-card__title{color:var(--color-text)}.article-card__summary{margin-bottom:15px}.tag-list{display:flex;flex-wrap:wrap}.tag-list--no-wrap{display:flex;flex-wrap:wrap;align-items:center;padding:40px 0 30px;border-bottom:2px solid var(--color-border)}@media (min-width:1024px){.tag-list--no-wrap{flex-wrap:nowrap;justify-content:space-between}}.tag-list__title{width:100%;margin-top:0;margin-right:20px;margin-bottom:20px}@media (min-width:1024px){.tag-list__title{margin-bottom:0}}.tag{margin:10px 10px 0 0;padding:6px 8px;background-color:var(--color-bg-secondary);border-radius:var(--border-radius-sm);color:var(--color-secondary);white-space:nowrap;font-size:13px;font-weight:500}.tag:hover{border:none}.tag:first-child{margin-left:0}.home-page{max-width:900px;margin:0 auto;padding:0 20px 20px}@media (min-width:1024px){.home-page{padding:20px 40px}}.home-page__bg-square{display:none}@media (min-width:1024px){.home-page__bg-square{display:none;position:absolute;left:auto;top:60px;right:0;bottom:auto;width:100%;height:100%;max-height:70%;max-width:35%;min-width:300px;border-radius:var(--border-radius);background-color:var(--color-bg-accent);z-index:-1}}.hero{display:grid;grid-auto-columns:1fr;grid-template-rows:auto auto;grid-row-gap:50px;grid-column-gap:70px;max-width:1100px;margin:0 auto}@media (min-width:1024px){.hero{grid-template-columns:1fr 1fr;grid-row-gap:20px;margin:50px auto}}.hero__col{display:flex;flex-direction:column;justify-content:center}.hero__image{margin-bottom:0;border-radius:var(--border-radius);transition:filter .4s ease-out}.hero__title{margin-top:0}@media (min-width:1024px){.hero__title{font-size:3.3em}}.hero__subtitle{margin-top:0}@media (min-width:1024px){.hero__subtitle{margin-top:3rem}}</style><script>window.netlifyIdentity&&window.netlifyIdentity.on(\"init\",n=>{n||window.netlifyIdentity.on(\"login\",()=>{document.location.href=\"/admin/\"})});</script></head><body><header class=\"site-header\"><span class=\"site-header__logo-container\"><a class=\"site-header__link\" href=\"/\"><img class=\"site-header__logo\" src=\"/static/img/flyingpbar.png\" alt=\"flying p bar\" width=\"25px\" height=\"25px\" loading=\"lazy\"> C. C. Phillips</a></span><nav class=\"site-header__nav\"><ul class=\"site-header__items\"><li class=\"site-header__item\"><a class=\"site-header__link\" href=\"/\">Home</a></li><li class=\"site-header__item\"><a class=\"site-header__link\" href=\"/books/\">Books</a></li><li class=\"site-header__item\"><a class=\"site-header__link\" href=\"/bio/\">Bio</a></li><li class=\"site-header__item\"><a class=\"site-header__link\" href=\"/poetry/\">Poetry</a></li><li class=\"site-header__item\"><a class=\"site-header__link\" href=\"/blog/\">News</a></li><li class=\"site-header__item\"><a class=\"site-header__link\" href=\"/contact/\">Contact</a></li><li class=\"site-header__item\"><a class=\"site-header__link\" href=\"https://www.facebook.com/ccphillips.net/\">Facebook</a></li></ul></nav></header><main><div class=\"home-page\"><div class=\"home-page__bg-square\"></div><div class=\"hero\"><div class=\"hero__col\"><h1 class=\"hero__title gradient-text\">C. C. Phillips</h1><h2 class=\"hero__subtitle\">Canadian Author</h2></div><div class=\"hero__col\"><img class=\"hero__image shadow\" src=\"/static/img/26b0a4af-5416-483d-b375-06e3377e8edd.jpeg\" alt=\"\" width=\"1000px\" height=\"1000px\" loading=\"lazy\"></div></div><hr><h2>Articles</h2><section><article class=\"article-card\"><h5><a class=\"article-card__title\" href=\"/posts/check-out-newly-published-poem-on-the-poetry-page...legends-of-castle-rouge!/\">Check out newly published poem on the Poetry page...Legends of Castle Rouge!</a></h5><p class=\"article-card__summary\">This is a lengthy poem so take your time...</p></article><article class=\"article-card\"><h5><a class=\"article-card__title\" href=\"/posts/uranium-city-somewhere-safe/\">URANIUM CITY - Somewhere Safe</a></h5><p class=\"article-card__summary\">Somewhere Safe: Uranium City - The Lure and the Lore</p></article><article class=\"article-card\"><h5><a class=\"article-card__title\" href=\"/posts/return-of-billy-the-kid!/\">RETURN OF BILLY THE KID!</a></h5><p class=\"article-card__summary\">Return of Billy the Kid! We have recently revisited Young Guns I (1988) and Young Guns II (1990) and, upon completing a piece of research, discovered that Emilio Estevez \\xe2\\x80\\x93 who portrays William Bonney, aka Henry McCarty \\xe2\\x80\\x93 is in the process of acting and directing Young Guns III: Alias Billy The Kid. The production, also written by Estevez, is to be released this year, the 35th anniversary of the original, a box office hit. The movies are especially interesting in that they renew the controversy as to whether Pat Garrett really did shoot and kill the hero of the Lincoln County War. I&#39;ll say this about that, \\xe2\\x80\\x9cThe author of the Jesse Sterling novel The Broken Buckle doesn&#39;t believe that Billy The Kid died at the hand of Specially Appointed Sheriff Pat Garrett, July 14, 1881.\\xe2\\x80\\x9d</p></article></section></div></main><footer class=\"site-footer\"><small>Copyright &copy; 2009-2022 C. C. Phillips</small></footer></body></html>'"
      ]
     },
     "execution_count": 40,
     "metadata": {},
     "output_type": "execute_result"
    }
   ],
   "source": [
    "%%time\n",
    "webpage.content\n"
   ]
  },
  {
   "cell_type": "code",
   "execution_count": 47,
   "metadata": {},
   "outputs": [
    {
     "data": {
      "text/plain": [
       "5.666666666666667"
      ]
     },
     "execution_count": 47,
     "metadata": {},
     "output_type": "execute_result"
    }
   ],
   "source": [
    "from typing import List\n",
    "\n",
    "class AverageList(List[int]):\n",
    "    @property\n",
    "    def average(self) -> float:\n",
    "        return sum(self) / len(self)\n",
    "    \n",
    "aList = AverageList([10, 5, 2])\n",
    "aList.average"
   ]
  },
  {
   "cell_type": "markdown",
   "metadata": {},
   "source": [
    "# 06. Abstract Base Classes and Operator Overloading"
   ]
  },
  {
   "cell_type": "code",
   "execution_count": 48,
   "metadata": {},
   "outputs": [],
   "source": [
    "from abc import ABC, abstractmethod\n",
    "\n",
    "class MediaLoader(ABC):\n",
    "    @abstractmethod\n",
    "    def play(self) -> None:\n",
    "        pass\n",
    "\n",
    "    @property\n",
    "    @abstractmethod\n",
    "    def ext(self) -> None:\n",
    "        pass"
   ]
  },
  {
   "cell_type": "code",
   "execution_count": 49,
   "metadata": {},
   "outputs": [
    {
     "data": {
      "text/plain": [
       "frozenset({'ext', 'play'})"
      ]
     },
     "execution_count": 49,
     "metadata": {},
     "output_type": "execute_result"
    }
   ],
   "source": [
    "MediaLoader.__abstractmethods__"
   ]
  },
  {
   "cell_type": "code",
   "execution_count": 51,
   "metadata": {},
   "outputs": [
    {
     "ename": "TypeError",
     "evalue": "Can't instantiate abstract class Wav with abstract methods ext, play",
     "output_type": "error",
     "traceback": [
      "\u001b[0;31m---------------------------------------------------------------------------\u001b[0m",
      "\u001b[0;31mTypeError\u001b[0m                                 Traceback (most recent call last)",
      "Cell \u001b[0;32mIn[51], line 4\u001b[0m\n\u001b[1;32m      1\u001b[0m \u001b[38;5;28;01mclass\u001b[39;00m \u001b[38;5;21;01mWav\u001b[39;00m(MediaLoader):\n\u001b[1;32m      2\u001b[0m \t\u001b[38;5;28;01mpass\u001b[39;00m\n\u001b[0;32m----> 4\u001b[0m x \u001b[38;5;241m=\u001b[39m \u001b[43mWav\u001b[49m\u001b[43m(\u001b[49m\u001b[43m)\u001b[49m\n",
      "\u001b[0;31mTypeError\u001b[0m: Can't instantiate abstract class Wav with abstract methods ext, play"
     ]
    }
   ],
   "source": [
    "class Wav(MediaLoader):\n",
    "\tpass\n",
    "\n",
    "x = Wav()"
   ]
  },
  {
   "cell_type": "code",
   "execution_count": 53,
   "metadata": {},
   "outputs": [],
   "source": [
    "class Ogg(MediaLoader):\n",
    "    ext = '.ogg'\n",
    "    def play(self):\n",
    "        pass\n",
    "\n",
    "o = Ogg()"
   ]
  },
  {
   "cell_type": "code",
   "execution_count": 56,
   "metadata": {},
   "outputs": [
    {
     "data": {
      "text/plain": [
       "frozenset({'__contains__'})"
      ]
     },
     "execution_count": 56,
     "metadata": {},
     "output_type": "execute_result"
    }
   ],
   "source": [
    "from collections.abc import Container\n",
    "\n",
    "Container.__abstractmethods__"
   ]
  },
  {
   "cell_type": "code",
   "execution_count": 58,
   "metadata": {},
   "outputs": [
    {
     "name": "stdout",
     "output_type": "stream",
     "text": [
      "Help on function __contains__ in module collections.abc:\n",
      "\n",
      "__contains__(self, x)\n",
      "\n"
     ]
    }
   ],
   "source": [
    "help(Container.__contains__)"
   ]
  },
  {
   "cell_type": "code",
   "execution_count": 65,
   "metadata": {},
   "outputs": [],
   "source": [
    "class OddIntegers:\n",
    "    def __contains__(self, value: int) -> bool:\n",
    "        return value % 2 != 0\n",
    "    \n",
    "odd = OddIntegers()"
   ]
  },
  {
   "cell_type": "code",
   "execution_count": 66,
   "metadata": {},
   "outputs": [
    {
     "data": {
      "text/plain": [
       "True"
      ]
     },
     "execution_count": 66,
     "metadata": {},
     "output_type": "execute_result"
    }
   ],
   "source": [
    "isinstance(odd, Container)"
   ]
  },
  {
   "cell_type": "code",
   "execution_count": 67,
   "metadata": {},
   "outputs": [
    {
     "data": {
      "text/plain": [
       "True"
      ]
     },
     "execution_count": 67,
     "metadata": {},
     "output_type": "execute_result"
    }
   ],
   "source": [
    "issubclass(OddIntegers, Container)"
   ]
  },
  {
   "cell_type": "code",
   "execution_count": 70,
   "metadata": {},
   "outputs": [
    {
     "data": {
      "text/plain": [
       "True"
      ]
     },
     "execution_count": 70,
     "metadata": {},
     "output_type": "execute_result"
    }
   ],
   "source": [
    "odd = OddIntegers()\n",
    "\n",
    "1 in odd"
   ]
  },
  {
   "cell_type": "code",
   "execution_count": 71,
   "metadata": {},
   "outputs": [
    {
     "data": {
      "text/plain": [
       "False"
      ]
     },
     "execution_count": 71,
     "metadata": {},
     "output_type": "execute_result"
    }
   ],
   "source": [
    "2 in odd"
   ]
  },
  {
   "cell_type": "code",
   "execution_count": 72,
   "metadata": {},
   "outputs": [
    {
     "data": {
      "text/plain": [
       "True"
      ]
     },
     "execution_count": 72,
     "metadata": {},
     "output_type": "execute_result"
    }
   ],
   "source": [
    "3 in odd"
   ]
  },
  {
   "cell_type": "code",
   "execution_count": 74,
   "metadata": {},
   "outputs": [
    {
     "data": {
      "text/plain": [
       "False"
      ]
     },
     "execution_count": 74,
     "metadata": {},
     "output_type": "execute_result"
    }
   ],
   "source": [
    "isinstance(2, int)"
   ]
  },
  {
   "cell_type": "code",
   "execution_count": 77,
   "metadata": {},
   "outputs": [
    {
     "name": "stdout",
     "output_type": "stream",
     "text": [
      "['a', 'b', 'c']\n"
     ]
    }
   ],
   "source": [
    "from collections.abc import MutableMapping\n",
    "\n",
    "class BinaryTreeDict(MutableMapping):\n",
    "    def __init__(self):\n",
    "        self._tree = {}  # A simple example; real implementation would use a binary tree\n",
    "\n",
    "    def __getitem__(self, key):\n",
    "        # Implement lookup in the binary tree structure\n",
    "        return self._tree[key]\n",
    "\n",
    "    def __setitem__(self, key, value):\n",
    "        # Implement insertion in the binary tree structure\n",
    "        self._tree[key] = value\n",
    "\n",
    "    def __delitem__(self, key):\n",
    "        # Implement deletion in the binary tree structure\n",
    "        del self._tree[key]\n",
    "\n",
    "    def __iter__(self):\n",
    "        # Implement an iterator that traverses the tree in sorted order\n",
    "        return iter(sorted(self._tree))\n",
    "\n",
    "    def __len__(self):\n",
    "        # Return the number of items in the tree\n",
    "        return len(self._tree)\n",
    "\n",
    "# Usage\n",
    "bt_dict = BinaryTreeDict()\n",
    "bt_dict['c'] = 3\n",
    "bt_dict['a'] = 1\n",
    "bt_dict['b'] = 2\n",
    "\n",
    "print(list(bt_dict))  # Output will be in sorted order: ['a', 'b', 'c']"
   ]
  },
  {
   "cell_type": "code",
   "execution_count": 1,
   "metadata": {},
   "outputs": [
    {
     "data": {
      "text/plain": [
       "True"
      ]
     },
     "execution_count": 1,
     "metadata": {},
     "output_type": "execute_result"
    }
   ],
   "source": [
    "x = dict({\"a\": 42, \"b\": 7, \"c\": 6}) # (1)\n",
    "y = dict([(\"a\", 42), (\"b\", 7), (\"c\", 6)]) # (2)\n",
    "\n",
    "x == y # Output: True"
   ]
  },
  {
   "cell_type": "code",
   "execution_count": 76,
   "metadata": {},
   "outputs": [
    {
     "name": "stdout",
     "output_type": "stream",
     "text": [
      "The source is of Sequence type\n",
      "Clara\n",
      "The source is of Mapping type\n",
      "Clara\n"
     ]
    }
   ],
   "source": [
    "from collections.abc import Mapping, Iterable, Iterator\n",
    "from typing import Any, overload, Union, Sequence\n",
    "from __future__ import annotations\n",
    "import bisect\n",
    "from typing import Protocol\n",
    "\n",
    "\n",
    "class Comparable(Protocol):\n",
    "    def __eq__(self, other: Any) -> bool: ...\n",
    "    def __ne__(self, other: Any) -> bool: ...\n",
    "    def __le__(self, other: Any) -> bool: ...\n",
    "    def __lt__(self, other: Any) -> bool: ...\n",
    "    def __ge__(self, other: Any) -> bool: ...\n",
    "    def __gt__(self, other: Any) -> bool: ...\n",
    "\n",
    "\n",
    "class Lookup(Mapping[Comparable, Any]):\n",
    "    @overload\n",
    "    def __init__(self, source: Iterable[tuple[Comparable, Any]]) -> None:\n",
    "        ...\n",
    "\n",
    "    @overload\n",
    "    def __init__(self, source: Mapping[Comparable, Any]) -> None:\n",
    "        ...\n",
    "\n",
    "    def __init__(self, source: Union[Iterable[tuple[Comparable, Any]], Mapping[Comparable, Any], None] = None) -> None:\n",
    "        sorted_pairs: Sequence[tuple[Comparable, Any]]\n",
    "        if isinstance(source, Sequence):\n",
    "            print(\"The source is of Sequence type\")\n",
    "            sorted_pairs = sorted(source)\n",
    "        elif isinstance(source, Mapping):\n",
    "            print(\"The source is of Mapping type\")\n",
    "            sorted_pairs = sorted(source.items())\n",
    "        else:\n",
    "            sorted_pairs = []\n",
    "        self.key_list = [p[0] for p in sorted_pairs]\n",
    "        self.value_list = [p[1] for p in sorted_pairs]\n",
    "\n",
    "        \n",
    "    def __len__(self) -> int:\n",
    "        return len(self.key_list)\n",
    "    \n",
    "    def __iter__(self) -> Iterator[Comparable]:\n",
    "        return iter(self.key_list)\n",
    "    \n",
    "    def __contains__(self, key: object) -> bool:\n",
    "        index = bisect.bisect_left(self.key_list, key)\n",
    "        return key == self.key_list[index]\n",
    "    \n",
    "    def __getitem__(self, key: Comparable) -> Any:\n",
    "        index = bisect.bisect_left(self.key_list, key)\n",
    "        if key == self.key_list[index]:\n",
    "            return self.value_list[index]\n",
    "        raise KeyError(key)\n",
    "    \n",
    "\n",
    "sequence_source = Lookup(\n",
    "    [\n",
    "        [\"z\",\"Zillah\"],\n",
    "        [\"a\", \"Amy\"],\n",
    "        [\"c\", \"Clara\"],\n",
    "        [\"b\", \"Basil\"]\n",
    "    ]\n",
    ")\n",
    "print(sequence_source[\"c\"])\n",
    "mapping_source = Lookup(\n",
    "    {\n",
    "        \"z\": \"Zillah\",\n",
    "        \"a\": \"Amy\",\n",
    "        \"c\": \"Clara\",\n",
    "        \"b\": \"Basil\"\n",
    "    }\n",
    ")\n",
    "print(mapping_source[\"c\"])"
   ]
  },
  {
   "cell_type": "code",
   "execution_count": 55,
   "metadata": {},
   "outputs": [
    {
     "ename": "TypeError",
     "evalue": "'Lookup' object does not support item assignment",
     "output_type": "error",
     "traceback": [
      "\u001b[0;31m---------------------------------------------------------------------------\u001b[0m",
      "\u001b[0;31mTypeError\u001b[0m                                 Traceback (most recent call last)",
      "Cell \u001b[0;32mIn[55], line 1\u001b[0m\n\u001b[0;32m----> 1\u001b[0m \u001b[43mx\u001b[49m\u001b[43m[\u001b[49m\u001b[38;5;124;43m\"\u001b[39;49m\u001b[38;5;124;43mm\u001b[39;49m\u001b[38;5;124;43m\"\u001b[39;49m\u001b[43m]\u001b[49m \u001b[38;5;241m=\u001b[39m \u001b[38;5;124m\"\u001b[39m\u001b[38;5;124mMaud\u001b[39m\u001b[38;5;124m\"\u001b[39m\n",
      "\u001b[0;31mTypeError\u001b[0m: 'Lookup' object does not support item assignment"
     ]
    }
   ],
   "source": [
    "x[\"m\"] = \"Maud\""
   ]
  },
  {
   "cell_type": "code",
   "execution_count": 78,
   "metadata": {},
   "outputs": [],
   "source": [
    "from abc import ABC, abstractmethod\n",
    "\n",
    "class Die(ABC):\n",
    "    def __init__(self) -> None:\n",
    "        self.face: int\n",
    "        self.roll()\n",
    "\n",
    "    @abstractmethod\n",
    "    def roll(self) -> None:\n",
    "        pass\n",
    "\n",
    "    def __repr__(self) -> str:\n",
    "        return f\"{self.face}\""
   ]
  },
  {
   "cell_type": "code",
   "execution_count": 80,
   "metadata": {},
   "outputs": [],
   "source": [
    "import random\n",
    "\n",
    "class D4(Die):\n",
    "    def roll(self) -> None:\n",
    "        self.face = random.choice((1, 2, 3, 4))\n",
    "\n",
    "class D6(Die):\n",
    "    def roll(self) -> None:\n",
    "        self.face = random.randint(1,6)"
   ]
  },
  {
   "cell_type": "code",
   "execution_count": 108,
   "metadata": {},
   "outputs": [],
   "source": [
    "from typing import Type\n",
    "\n",
    "class Dice(ABC):\n",
    "    def __init__(self, n: int, die_class: Type[Die]) -> None:\n",
    "        self.dice = [die_class() for _ in range(n)]\n",
    "\n",
    "    @abstractmethod\n",
    "    def roll(self) -> None:\n",
    "        pass\n",
    "\n",
    "    @property\n",
    "    def total(self) -> int:\n",
    "        return sum(d.face for d in self.dice)"
   ]
  },
  {
   "cell_type": "code",
   "execution_count": 109,
   "metadata": {},
   "outputs": [],
   "source": [
    "class SimpleDice(Dice):\n",
    "    def roll(self) -> None:\n",
    "        for d in self.dice:\n",
    "            d.roll()"
   ]
  },
  {
   "cell_type": "code",
   "execution_count": 110,
   "metadata": {},
   "outputs": [
    {
     "data": {
      "text/plain": [
       "21"
      ]
     },
     "execution_count": 110,
     "metadata": {},
     "output_type": "execute_result"
    }
   ],
   "source": [
    "sd = SimpleDice(6, D6)\n",
    "sd.roll()\n",
    "sd.total"
   ]
  },
  {
   "cell_type": "code",
   "execution_count": 201,
   "metadata": {},
   "outputs": [],
   "source": [
    "from collections.abc import Set\n",
    "\n",
    "\n",
    "class YachtDice(Dice):\n",
    "    def __init__(self) -> None:\n",
    "        super().__init__(5, D6)\n",
    "        self.saved: Set[int] = set()\n",
    "\n",
    "    def saving(self, positions: Iterable[int]) -> YachtDice:\n",
    "        if not all(0 <= n < 6 for n in positions):\n",
    "            raise ValueError(\"Invalid position\")\n",
    "        self.saved = set(positions)\n",
    "        return self\n",
    "\n",
    "    def roll(self) -> None:\n",
    "        for i, d in enumerate(self.dice):\n",
    "            if i not in self.saved:\n",
    "                d.roll()\n",
    "        self.saved = set()\n",
    "\n"
   ]
  },
  {
   "cell_type": "code",
   "execution_count": 203,
   "metadata": {},
   "outputs": [
    {
     "name": "stdout",
     "output_type": "stream",
     "text": [
      "[3, 3, 1, 4, 2]\n",
      "[3, 3, 1, 3, 4]\n"
     ]
    }
   ],
   "source": [
    "sd = YachtDice()\n",
    "\n",
    "sd.roll()\n",
    "print(sd.dice)\n",
    "sd.saving([0, 1, 2]).roll()\n",
    "print(sd.dice)"
   ]
  },
  {
   "cell_type": "markdown",
   "metadata": {},
   "source": [
    "# 7. Python Data Structures"
   ]
  },
  {
   "cell_type": "code",
   "execution_count": 17,
   "metadata": {},
   "outputs": [
    {
     "ename": "AttributeError",
     "evalue": "'object' object has no attribute 'x'",
     "output_type": "error",
     "traceback": [
      "\u001b[0;31m---------------------------------------------------------------------------\u001b[0m",
      "\u001b[0;31mAttributeError\u001b[0m                            Traceback (most recent call last)",
      "Cell \u001b[0;32mIn[17], line 2\u001b[0m\n\u001b[1;32m      1\u001b[0m o \u001b[38;5;241m=\u001b[39m \u001b[38;5;28mobject\u001b[39m()\n\u001b[0;32m----> 2\u001b[0m \u001b[43mo\u001b[49m\u001b[38;5;241;43m.\u001b[39;49m\u001b[43mx\u001b[49m \u001b[38;5;241m=\u001b[39m \u001b[38;5;241m5\u001b[39m\n",
      "\u001b[0;31mAttributeError\u001b[0m: 'object' object has no attribute 'x'"
     ]
    }
   ],
   "source": [
    "o = object()\n",
    "o.x = 5"
   ]
  },
  {
   "cell_type": "code",
   "execution_count": 18,
   "metadata": {},
   "outputs": [],
   "source": [
    "tuple1 = (42,)\n",
    "tuple2 = 42,"
   ]
  },
  {
   "cell_type": "code",
   "execution_count": 21,
   "metadata": {},
   "outputs": [
    {
     "data": {
      "text/plain": [
       "53.15"
      ]
     },
     "execution_count": 21,
     "metadata": {},
     "output_type": "execute_result"
    }
   ],
   "source": [
    "tuple1 = (\"AAPL\", 133.52, 53.15, 137.98)\n",
    "tuple1[2]"
   ]
  },
  {
   "cell_type": "code",
   "execution_count": 22,
   "metadata": {},
   "outputs": [
    {
     "data": {
      "text/plain": [
       "(133.52, 53.15)"
      ]
     },
     "execution_count": 22,
     "metadata": {},
     "output_type": "execute_result"
    }
   ],
   "source": [
    "tuple1[1:3]"
   ]
  },
  {
   "cell_type": "code",
   "execution_count": 49,
   "metadata": {},
   "outputs": [],
   "source": [
    "d = {\n",
    "    \"key1\": \"value1\",\n",
    "    \"key2\": \"value2\",\n",
    "}"
   ]
  },
  {
   "cell_type": "code",
   "execution_count": 51,
   "metadata": {},
   "outputs": [],
   "source": [
    "from dataclasses import dataclass\n",
    "\n",
    "@dataclass\n",
    "class test:\n",
    "    key1: float\n",
    "    key2: str\n",
    "\n",
    "test1 = test(key1=3, key2=\"ciao\")"
   ]
  }
 ],
 "metadata": {
  "kernelspec": {
   "display_name": "Python 3",
   "language": "python",
   "name": "python3"
  },
  "language_info": {
   "codemirror_mode": {
    "name": "ipython",
    "version": 3
   },
   "file_extension": ".py",
   "mimetype": "text/x-python",
   "name": "python",
   "nbconvert_exporter": "python",
   "pygments_lexer": "ipython3",
   "version": "3.10.9"
  }
 },
 "nbformat": 4,
 "nbformat_minor": 2
}
