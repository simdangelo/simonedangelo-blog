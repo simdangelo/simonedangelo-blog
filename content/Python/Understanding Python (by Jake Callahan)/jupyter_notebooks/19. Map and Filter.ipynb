{
 "cells": [
  {
   "cell_type": "markdown",
   "metadata": {},
   "source": [
    "**Map** and **filter** are two built-in functions that make it easier to modifies iterables. These two functions are great for people working with **data**.\n",
    "\n",
    "Map applies a function to all values in one or more iterables and filter runs each value through a function and creates an iterable with all truthy values."
   ]
  },
  {
   "cell_type": "markdown",
   "metadata": {},
   "source": [
    "## `map`"
   ]
  },
  {
   "cell_type": "markdown",
   "metadata": {},
   "source": [
    "Let's create a few lists and we want a function that takes the two lists and returns a new list where each element is the sum of the corresponding elements from the input lists:"
   ]
  },
  {
   "cell_type": "code",
   "execution_count": 1,
   "metadata": {},
   "outputs": [],
   "source": [
    "a_list = list(range(10))\n",
    "b_list = list(range(10, 30))\n",
    "\n",
    "def add(value1, value2):\n",
    "    return value1 + value2"
   ]
  },
  {
   "cell_type": "markdown",
   "metadata": {},
   "source": [
    "Many beginner programmers would approach the problem of adding the values in these two lists together would be via a for loop (note that the two lists have different length and the iterable that `zip` creates will always return the values up to the shortest iterables):"
   ]
  },
  {
   "cell_type": "code",
   "execution_count": 4,
   "metadata": {},
   "outputs": [],
   "source": [
    "added = []\n",
    "\n",
    "for value1, value2 in zip(a_list, b_list):\n",
    "    added.append(add(value1, value2))"
   ]
  },
  {
   "cell_type": "markdown",
   "metadata": {},
   "source": [
    "Alternatively, we can use list comprehension:"
   ]
  },
  {
   "cell_type": "code",
   "execution_count": 5,
   "metadata": {},
   "outputs": [],
   "source": [
    "added_comp = [add(value1, value2) for value1, value2 in zip(a_list, b_list)]"
   ]
  },
  {
   "cell_type": "markdown",
   "metadata": {},
   "source": [
    "Actually, `map` function is able to make this easier:"
   ]
  },
  {
   "cell_type": "code",
   "execution_count": 38,
   "metadata": {},
   "outputs": [],
   "source": [
    "added_map = map(add, a_list, b_list)"
   ]
  },
  {
   "cell_type": "markdown",
   "metadata": {},
   "source": [
    "* `map` function has the same `zip` functionality of stopping the iteration as soon as he reaches the end of the shortest list.\n",
    "* obviosuly, if you're passing multiple iterables, the function that you're passing them into must be able to accept the same number of arguments (`add` function accepts two arguments, so we give two iterables int the map function).\n",
    "\n",
    "Let's see all the results:"
   ]
  },
  {
   "cell_type": "code",
   "execution_count": 39,
   "metadata": {},
   "outputs": [
    {
     "name": "stdout",
     "output_type": "stream",
     "text": [
      "[10, 12, 14, 16, 18, 20, 22, 24, 26, 28]\n",
      "[10, 12, 14, 16, 18, 20, 22, 24, 26, 28]\n",
      "<map object at 0x103246050>\n"
     ]
    }
   ],
   "source": [
    "print(added)\n",
    "print(added_comp)\n",
    "print(added_map)"
   ]
  },
  {
   "cell_type": "markdown",
   "metadata": {},
   "source": [
    "`added_map` is different from the other ones because the `map` function returns an iterator so we loop through each value in `map` to get it out:"
   ]
  },
  {
   "cell_type": "code",
   "execution_count": 40,
   "metadata": {},
   "outputs": [
    {
     "name": "stdout",
     "output_type": "stream",
     "text": [
      "10\n",
      "12\n",
      "14\n",
      "16\n",
      "18\n",
      "20\n",
      "22\n",
      "24\n",
      "26\n",
      "28\n"
     ]
    }
   ],
   "source": [
    "for value in added_map:\n",
    "    print(value)"
   ]
  },
  {
   "cell_type": "markdown",
   "metadata": {},
   "source": [
    "A more preferable and concise way:"
   ]
  },
  {
   "cell_type": "code",
   "execution_count": 41,
   "metadata": {},
   "outputs": [
    {
     "data": {
      "text/plain": [
       "[10, 12, 14, 16, 18, 20, 22, 24, 26, 28]"
      ]
     },
     "execution_count": 41,
     "metadata": {},
     "output_type": "execute_result"
    }
   ],
   "source": [
    "added_map = map(add, a_list, b_list)\n",
    "list(added_map)"
   ]
  },
  {
   "cell_type": "markdown",
   "metadata": {},
   "source": [
    "Note that we needed to recreate the `added_map` because the iterator is consumed after the for loop. Once we've iterated through all its elements, the iterator is exhausted. Therefore, if you try to convert it to a list with `list(added_map)` without recreating it, you'll get an empty list since there's nothing left to iterate over."
   ]
  },
  {
   "cell_type": "markdown",
   "metadata": {},
   "source": [
    "We can optimize even further with **lambda function** that allows us to define the function that we want in the `map` call signature. With this method we insert into a just line all the functionality we need:"
   ]
  },
  {
   "cell_type": "code",
   "execution_count": 46,
   "metadata": {},
   "outputs": [],
   "source": [
    "added_lambda = list(map(lambda x, y: x + y, a_list, b_list))"
   ]
  },
  {
   "cell_type": "code",
   "execution_count": 47,
   "metadata": {},
   "outputs": [
    {
     "data": {
      "text/plain": [
       "[10, 12, 14, 16, 18, 20, 22, 24, 26, 28]"
      ]
     },
     "execution_count": 47,
     "metadata": {},
     "output_type": "execute_result"
    }
   ],
   "source": [
    "added_lambda"
   ]
  },
  {
   "cell_type": "markdown",
   "metadata": {},
   "source": [
    "## `filter`\n",
    "\n",
    "This function runs through each value in an iterable and creates an iterator containing only the values of the iterable that is truthy wehn run through the function. The function we'll use is:"
   ]
  },
  {
   "cell_type": "code",
   "execution_count": 55,
   "metadata": {},
   "outputs": [],
   "source": [
    "def div_by_3(value):\n",
    "    return not value % 3"
   ]
  },
  {
   "cell_type": "markdown",
   "metadata": {},
   "source": [
    "Let's complete this task with a for loop:"
   ]
  },
  {
   "cell_type": "code",
   "execution_count": 56,
   "metadata": {},
   "outputs": [
    {
     "data": {
      "text/plain": [
       "[0, 3, 6, 9]"
      ]
     },
     "execution_count": 56,
     "metadata": {},
     "output_type": "execute_result"
    }
   ],
   "source": [
    "by_3 = []\n",
    "for value in a_list:\n",
    "    if div_by_3(value):\n",
    "        by_3.append(value)\n",
    "\n",
    "by_3"
   ]
  },
  {
   "cell_type": "markdown",
   "metadata": {},
   "source": [
    "Now, let's do the same in a `filter` version:"
   ]
  },
  {
   "cell_type": "code",
   "execution_count": 57,
   "metadata": {},
   "outputs": [
    {
     "data": {
      "text/plain": [
       "[0, 3, 6, 9]"
      ]
     },
     "execution_count": 57,
     "metadata": {},
     "output_type": "execute_result"
    }
   ],
   "source": [
    "by_3_filter = list(filter(div_by_3, a_list))\n",
    "by_3_filter"
   ]
  },
  {
   "cell_type": "markdown",
   "metadata": {},
   "source": [
    "Note that the `filter` function returns an iterator, so we need to use the `list` function to convert it into a list.\n",
    "\n",
    "We reduced the code length, but we can reduce even more with a lambda:"
   ]
  },
  {
   "cell_type": "code",
   "execution_count": 58,
   "metadata": {},
   "outputs": [
    {
     "data": {
      "text/plain": [
       "[0, 3, 6, 9]"
      ]
     },
     "execution_count": 58,
     "metadata": {},
     "output_type": "execute_result"
    }
   ],
   "source": [
    "by_3_lambda = list(filter(lambda value: not value % 3, a_list))\n",
    "by_3_lambda"
   ]
  },
  {
   "cell_type": "markdown",
   "metadata": {},
   "source": [
    "To get a better understanding of how this is working, let's use `map` to see our boolean values for this list:"
   ]
  },
  {
   "cell_type": "code",
   "execution_count": 60,
   "metadata": {},
   "outputs": [
    {
     "data": {
      "text/plain": [
       "[True, False, False, True, False, False, True, False, False, True]"
      ]
     },
     "execution_count": 60,
     "metadata": {},
     "output_type": "execute_result"
    }
   ],
   "source": [
    "by_3_map = list(map(div_by_3, a_list))\n",
    "by_3_map"
   ]
  },
  {
   "cell_type": "markdown",
   "metadata": {},
   "source": [
    "## `map` and `filter` together\n",
    "\n",
    "Let's create a new list and a new function. We wanto this function to be flexible because we want to handle cases where you're only passing in either an `x` value, an `x, y` value as well as `x, y, z` value (so `y` and `z` are `None` by default): "
   ]
  },
  {
   "cell_type": "code",
   "execution_count": 83,
   "metadata": {},
   "outputs": [],
   "source": [
    "c_list = list(range(30, 60))\n",
    "\n",
    "def to_point(x, y=None, z=None):\n",
    "    _x = f\"x: {x}\"\n",
    "    _y = f\"y: {y}\" if y else None\n",
    "    _z = f\"z: {z}\" if z else None\n",
    "    return \", \".join(filter(None, [_x, _y, _z]))"
   ]
  },
  {
   "cell_type": "markdown",
   "metadata": {},
   "source": [
    "We used a trick for the return statement because we want to have our `x`, `y`, and `z` values separated by a comma and a space. We'll use the `join` function with a comma and a space, but we don't want to add an extra comma when there isn't a value that goes there and also `join` doesn't reallt like if you pass in a value that is not a string, which could be the case for `_y` and `_z` if those values aren't passed in. So, we can use `filter` to decide which values are being passed into `join`: the `filter(None, [_x, _y, _z])` filters out any `None` values from the list `[_x, _y, _z]` because `None` checks the thruty values, so if you filter with `None` as function, its going to do just a simply thruty check. Then, `\", \".join(...)` combines the remaining non-None values into a single string, separated by commas.\n",
    "\n",
    "To demonstrate that we're going to use `map`:"
   ]
  },
  {
   "cell_type": "code",
   "execution_count": 84,
   "metadata": {},
   "outputs": [],
   "source": [
    "x_points = list(map(to_point, a_list))\n",
    "xy_points = list(map(to_point, a_list, b_list))\n",
    "xyz_points = list(map(to_point, a_list, b_list, c_list))"
   ]
  },
  {
   "cell_type": "code",
   "execution_count": 85,
   "metadata": {},
   "outputs": [
    {
     "data": {
      "text/plain": [
       "['x: 0',\n",
       " 'x: 1',\n",
       " 'x: 2',\n",
       " 'x: 3',\n",
       " 'x: 4',\n",
       " 'x: 5',\n",
       " 'x: 6',\n",
       " 'x: 7',\n",
       " 'x: 8',\n",
       " 'x: 9']"
      ]
     },
     "execution_count": 85,
     "metadata": {},
     "output_type": "execute_result"
    }
   ],
   "source": [
    "x_points"
   ]
  },
  {
   "cell_type": "code",
   "execution_count": 86,
   "metadata": {},
   "outputs": [
    {
     "data": {
      "text/plain": [
       "['x: 0, y: 10',\n",
       " 'x: 1, y: 11',\n",
       " 'x: 2, y: 12',\n",
       " 'x: 3, y: 13',\n",
       " 'x: 4, y: 14',\n",
       " 'x: 5, y: 15',\n",
       " 'x: 6, y: 16',\n",
       " 'x: 7, y: 17',\n",
       " 'x: 8, y: 18',\n",
       " 'x: 9, y: 19']"
      ]
     },
     "execution_count": 86,
     "metadata": {},
     "output_type": "execute_result"
    }
   ],
   "source": [
    "xy_points"
   ]
  },
  {
   "cell_type": "code",
   "execution_count": 87,
   "metadata": {},
   "outputs": [
    {
     "data": {
      "text/plain": [
       "['x: 0, y: 10, z: 30',\n",
       " 'x: 1, y: 11, z: 31',\n",
       " 'x: 2, y: 12, z: 32',\n",
       " 'x: 3, y: 13, z: 33',\n",
       " 'x: 4, y: 14, z: 34',\n",
       " 'x: 5, y: 15, z: 35',\n",
       " 'x: 6, y: 16, z: 36',\n",
       " 'x: 7, y: 17, z: 37',\n",
       " 'x: 8, y: 18, z: 38',\n",
       " 'x: 9, y: 19, z: 39']"
      ]
     },
     "execution_count": 87,
     "metadata": {},
     "output_type": "execute_result"
    }
   ],
   "source": [
    "xyz_points"
   ]
  },
  {
   "cell_type": "markdown",
   "metadata": {},
   "source": [
    "So, basically we created a flexible system using both `map` and `filter` to combine three different lists into a formatted coordinate system."
   ]
  }
 ],
 "metadata": {
  "kernelspec": {
   "display_name": "myenv",
   "language": "python",
   "name": "python3"
  },
  "language_info": {
   "codemirror_mode": {
    "name": "ipython",
    "version": 3
   },
   "file_extension": ".py",
   "mimetype": "text/x-python",
   "name": "python",
   "nbconvert_exporter": "python",
   "pygments_lexer": "ipython3",
   "version": "3.10.9"
  }
 },
 "nbformat": 4,
 "nbformat_minor": 2
}
