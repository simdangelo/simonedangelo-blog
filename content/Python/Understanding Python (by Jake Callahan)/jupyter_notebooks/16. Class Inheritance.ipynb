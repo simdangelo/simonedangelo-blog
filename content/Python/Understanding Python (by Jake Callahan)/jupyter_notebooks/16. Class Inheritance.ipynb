{
 "cells": [
  {
   "cell_type": "markdown",
   "metadata": {},
   "source": [
    "Inheritance is a powerful feature that allows us to use functionality from another class or from multiple classes.\n",
    "\n",
    "Let's define a simple class that we can initialize by passing any keyword arguments that we want and it will add those arguments to the class's dictionary attribute, allowsing them to be dot-accessible:"
   ]
  },
  {
   "cell_type": "code",
   "execution_count": 1,
   "metadata": {},
   "outputs": [],
   "source": [
    "class LooseInit:\n",
    "    def __init__(self, **kwargs) -> None:\n",
    "        self.__dict__.update(kwargs)"
   ]
  },
  {
   "cell_type": "markdown",
   "metadata": {},
   "source": [
    "If we want to use this functionality in another class, we have to inherit from this class:"
   ]
  },
  {
   "cell_type": "code",
   "execution_count": 2,
   "metadata": {},
   "outputs": [],
   "source": [
    "class Child(LooseInit):\n",
    "    pass"
   ]
  },
  {
   "cell_type": "markdown",
   "metadata": {},
   "source": [
    "We can create an instance of this class to use this functionality:"
   ]
  },
  {
   "cell_type": "code",
   "execution_count": 3,
   "metadata": {},
   "outputs": [
    {
     "name": "stdout",
     "output_type": "stream",
     "text": [
      "Kiara is 13 years old.\n",
      "Hunter is 15 years old.\n"
     ]
    }
   ],
   "source": [
    "sister = Child(name=\"Kiara\", age=13)\n",
    "brother = Child(name=\"Hunter\", age=15)\n",
    "\n",
    "print(f\"{sister.name} is {sister.age} years old.\")\n",
    "print(f\"{brother.name} is {brother.age} years old.\")"
   ]
  },
  {
   "cell_type": "markdown",
   "metadata": {},
   "source": [
    "Inheritance becomes more powerful when you inherit from multiple classes. So let's define another class:"
   ]
  },
  {
   "cell_type": "code",
   "execution_count": 4,
   "metadata": {},
   "outputs": [],
   "source": [
    "class Utils:\n",
    "    @classmethod\n",
    "    def from_dict(cls, arg_dict):\n",
    "        return cls(**arg_dict)\n",
    "    \n",
    "    def to_dict(self):\n",
    "        return {\n",
    "            key: value for key, value in self.__dict__.items() if not key.startswith(\"_\")\n",
    "        }"
   ]
  },
  {
   "cell_type": "markdown",
   "metadata": {},
   "source": [
    "* `from_dict` method allows us to create an instance of a class by passing in a dictionary of key to value arguments\n",
    "* `to_dict` method allows us to create a dictionary with all non-private attributes of a class.\n",
    "\n",
    "Now, let our `Child` class to inherit from this new class too:"
   ]
  },
  {
   "cell_type": "code",
   "execution_count": 5,
   "metadata": {},
   "outputs": [],
   "source": [
    "class Child(LooseInit, Utils):\n",
    "    pass"
   ]
  },
  {
   "cell_type": "markdown",
   "metadata": {},
   "source": [
    "Now let's use both these two new methods:"
   ]
  },
  {
   "cell_type": "code",
   "execution_count": 6,
   "metadata": {},
   "outputs": [
    {
     "name": "stdout",
     "output_type": "stream",
     "text": [
      "Amanda is 16 years old.\n",
      "sister dict: {'name': 'Kiara', 'age': 13}\n"
     ]
    }
   ],
   "source": [
    "cousin = Child.from_dict({\"name\": \"Amanda\", \"age\": 16})\n",
    "sister = Child(name=\"Kiara\", age=13)\n",
    "\n",
    "print(f\"{cousin.name} is {cousin.age} years old.\")\n",
    "print(f\"sister dict: {sister.to_dict()}\")"
   ]
  },
  {
   "cell_type": "markdown",
   "metadata": {},
   "source": [
    "Say we want to control the input that's going into the class during the instantiation, without touching the `LooseInit` class. To do so, we'll define a new class before the `Child` class:"
   ]
  },
  {
   "cell_type": "code",
   "execution_count": 7,
   "metadata": {},
   "outputs": [],
   "source": [
    "class StrictInit(LooseInit):\n",
    "    def __init__(self, **kwargs) -> None:\n",
    "        sanitized_args = {\n",
    "            key: value for key, value in kwargs.items() if not key.startswith(\"bad\")\n",
    "        }"
   ]
  },
  {
   "cell_type": "markdown",
   "metadata": {},
   "source": [
    "What we have done here is to store unwanted arguments that were passed into our class and store into a new variable called `sanitized_args`. However, we lost the funcionality of `LooseInit`, that is add all keyword arguments to the class's dictionary attribute. Instead of we-writing that functionality, Python provides the `super()` method:"
   ]
  },
  {
   "cell_type": "code",
   "execution_count": 8,
   "metadata": {},
   "outputs": [],
   "source": [
    "class StrictInit(LooseInit):\n",
    "    def __init__(self, **kwargs) -> None:\n",
    "        sanitized_args = {\n",
    "            key: value for key, value in kwargs.items() if not key.startswith(\"bad\")\n",
    "        }\n",
    "        super().__init__(**sanitized_args)"
   ]
  },
  {
   "cell_type": "code",
   "execution_count": 9,
   "metadata": {},
   "outputs": [
    {
     "name": "stdout",
     "output_type": "stream",
     "text": [
      "sister dict: {'name': 'Kiara', 'age': 13}\n"
     ]
    }
   ],
   "source": [
    "class Child(StrictInit, Utils):\n",
    "    pass\n",
    "\n",
    "sister = Child(name=\"Kiara\", age=13, bad_args=\"asdf\")\n",
    "print(f\"sister dict: {sister.to_dict()}\")"
   ]
  },
  {
   "cell_type": "markdown",
   "metadata": {},
   "source": [
    "As we can see the keyword argument `bad_args` was not stored into the class's dictionary attribute."
   ]
  },
  {
   "cell_type": "markdown",
   "metadata": {},
   "source": [
    "Let's say now we don't like all these print statements, so we'll write a new class that allows us to print things a bit better by overriding the `__repr__` dunder method, which is part of every class in Python:"
   ]
  },
  {
   "cell_type": "code",
   "execution_count": 10,
   "metadata": {},
   "outputs": [],
   "source": [
    "class BetterRepr(Utils):\n",
    "    def __repr__(self) -> str:\n",
    "        output = ''\n",
    "        for key, value in self.to_dict().items():\n",
    "            output += f\"{key}: {value}, \"\n",
    "        return f\"<{output[:-2]}>\""
   ]
  },
  {
   "cell_type": "markdown",
   "metadata": {},
   "source": [
    "What `__repr__` does is it controls what's returned when you call for a string representation of an object. Notice that we're using `to_dict()` method of `Utils` class because we're inheriting from class and so we can use all methods of that class.\n",
    "\n",
    "Now let's let the `Child` class inherit from `BetterRepr` as well and then we'll create some instances of that class:"
   ]
  },
  {
   "cell_type": "code",
   "execution_count": 11,
   "metadata": {},
   "outputs": [
    {
     "name": "stdout",
     "output_type": "stream",
     "text": [
      "sister - <name: Kiara, age: 13>\n",
      "brother - <name: Hunter, age: 15>\n",
      "cousin - <name: Amanda, age: 17>\n"
     ]
    }
   ],
   "source": [
    "class Child(StrictInit, BetterRepr):\n",
    "    pass\n",
    "\n",
    "sister = Child(name=\"Kiara\", age=13, bad_arg=\"asdf\")\n",
    "brother = Child(name=\"Hunter\", age=15)\n",
    "cousin = Child.from_dict({\"name\": \"Amanda\", \"age\": 17})\n",
    "\n",
    "print(f\"sister - {sister}\")\n",
    "print(f\"brother - {brother}\")\n",
    "print(f\"cousin - {cousin}\")"
   ]
  },
  {
   "cell_type": "markdown",
   "metadata": {},
   "source": [
    "We can also add one of these instances as attribute of any other instances:"
   ]
  },
  {
   "cell_type": "code",
   "execution_count": 12,
   "metadata": {},
   "outputs": [
    {
     "name": "stdout",
     "output_type": "stream",
     "text": [
      "sister - <name: Kiara, age: 13, cousin: <name: Amanda, age: 17>>\n",
      "brother - <name: Hunter, age: 15, cousin: <name: Amanda, age: 17>>\n"
     ]
    }
   ],
   "source": [
    "sister.cousin = cousin\n",
    "brother.cousin = cousin\n",
    "\n",
    "print(f\"sister - {sister}\")\n",
    "print(f\"brother - {brother}\")"
   ]
  },
  {
   "cell_type": "markdown",
   "metadata": {},
   "source": [
    "Now let's add a new method to `StrictInit` as well as `BetterRepr` classes:"
   ]
  },
  {
   "cell_type": "code",
   "execution_count": 18,
   "metadata": {},
   "outputs": [
    {
     "name": "stdout",
     "output_type": "stream",
     "text": [
      "Calling print_cls method\n",
      "StrictInit\n"
     ]
    }
   ],
   "source": [
    "class StrictInit(LooseInit):\n",
    "    def __init__(self, **kwargs) -> None:\n",
    "        sanitized_args = {\n",
    "            key: value for key, value in kwargs.items() if not key.startswith(\"bad\")\n",
    "        }\n",
    "        super().__init__(**sanitized_args)\n",
    "\n",
    "    def print_cls(self):\n",
    "        print(\"StrictInit\")\n",
    "\n",
    "class BetterRepr(Utils):\n",
    "    def __repr__(self) -> str:\n",
    "        output = ''\n",
    "        for key, value in self.to_dict().items():\n",
    "            output += f\"{key}: {value}, \"\n",
    "        return f\"<{output[:-2]}>\"\n",
    "    \n",
    "    def print_cls(self):\n",
    "        print(\"BetterRepr\")\n",
    "\n",
    "class Child(StrictInit, BetterRepr):\n",
    "    pass\n",
    "\n",
    "sister = Child(name=\"Kiara\", age=13, bad_arg=\"asdf\")\n",
    "\n",
    "print(\"Calling print_cls method\")\n",
    "sister.print_cls()"
   ]
  },
  {
   "cell_type": "markdown",
   "metadata": {},
   "source": [
    "We can look that `Child` inherits from both `StrictInit` and `BetterRepr` classes, but it return `StrictInit` string when `print_cls()` method is called. That's because Python resolves `StrictInit` before it does `BetterRepr`. If we swap the twos in the `Child` class definition, the `print_cls` method will return `BetterRepr` string:"
   ]
  },
  {
   "cell_type": "code",
   "execution_count": 20,
   "metadata": {},
   "outputs": [
    {
     "name": "stdout",
     "output_type": "stream",
     "text": [
      "Calling print_cls method\n",
      "BetterRepr\n"
     ]
    }
   ],
   "source": [
    "class Child(BetterRepr, StrictInit):\n",
    "    pass\n",
    "\n",
    "sister = Child(name=\"Kiara\", age=13, bad_arg=\"asdf\")\n",
    "\n",
    "print(\"Calling print_cls method\")\n",
    "sister.print_cls()"
   ]
  },
  {
   "cell_type": "markdown",
   "metadata": {},
   "source": [
    "Let's understand why this happens. Let's paste all the classes we wrote so far and then let's print the **MRO** of the `Child` class, that tells us which order Python looks to find the funcionality in the class:"
   ]
  },
  {
   "cell_type": "code",
   "execution_count": 23,
   "metadata": {},
   "outputs": [
    {
     "data": {
      "text/plain": [
       "[__main__.Child,\n",
       " __main__.BetterRepr,\n",
       " __main__.Utils,\n",
       " __main__.StrictInit,\n",
       " __main__.LooseInit,\n",
       " object]"
      ]
     },
     "execution_count": 23,
     "metadata": {},
     "output_type": "execute_result"
    }
   ],
   "source": [
    "class LooseInit:\n",
    "    def __init__(self, **kwargs):\n",
    "        self.__dict__.update(kwargs)\n",
    "\n",
    "class StrictInit(LooseInit):\n",
    "    def __init__(self, **kwargs):\n",
    "        sanitized_args = {\n",
    "            key: value for key, value in kwargs.items()\n",
    "            if not key.startswith(\"bad\")\n",
    "        }\n",
    "        super().__init__(**sanitized_args)\n",
    "\n",
    "    def print_cls(self):\n",
    "        print(\"StrictInit\")\n",
    "\n",
    "class Utils:\n",
    "    @classmethod\n",
    "    def from_dict(cls, arg_dict):\n",
    "        return cls(**arg_dict)\n",
    "\n",
    "    def to_dict(self):\n",
    "        return {\n",
    "            key: value\n",
    "            for key, value in self.__dict__.items()\n",
    "            if not key.startswith(\"_\")\n",
    "        }\n",
    "\n",
    "class BetterRepr(Utils):\n",
    "    def __repr__(self):\n",
    "        output = \"\"\n",
    "        for key, value in self.to_dict().items():\n",
    "            output += f\"{key}: {value}, \"\n",
    "        return f\"<{output[:-2]}>\"\n",
    "\n",
    "    def print_cls(self):\n",
    "        print(\"BetterRepr\")\n",
    "\n",
    "\n",
    "class Child(BetterRepr, StrictInit):\n",
    "    pass\n",
    "\n",
    "Child.mro()"
   ]
  },
  {
   "cell_type": "markdown",
   "metadata": {},
   "source": [
    "We can see that:\n",
    "* it starts from the `Child`\n",
    "* then it goes to `BetterRepr`, because `Child` inherits from `BetterRepr`\n",
    "* then it goes to `Utils`, because `BetterRepr` inherits from `Utils`\n",
    "\n",
    "So far, it's going to the left-side of the inheritance. Now it will go to the right-side:\n",
    "* it goes to `StrictInit`\n",
    "* then it goes to `LooseInit`, because `StrictInit` inherits from `LooseInit`\n",
    "* then all classes within Python eventually inherit from the `object` class, which is a built-in class in Python and it provides a lot of base funcionalities.\n",
    "\n",
    "Let's represent it graphically:\n",
    "\n",
    "  Utils         LooseInit\n",
    "    |               |\n",
    " BetterRepr    StrictInit\n",
    "         \\     /\n",
    "          Child"
   ]
  },
  {
   "cell_type": "markdown",
   "metadata": {},
   "source": [
    "There's another thing that can trip you up when it comes to the MRO order. We'll make a new `Nothing` class and lets the `BetterRepr` inherits from it:"
   ]
  },
  {
   "cell_type": "code",
   "execution_count": 25,
   "metadata": {},
   "outputs": [
    {
     "data": {
      "text/plain": [
       "[__main__.Child,\n",
       " __main__.BetterRepr,\n",
       " __main__.Nothing,\n",
       " __main__.Utils,\n",
       " __main__.StrictInit,\n",
       " __main__.LooseInit,\n",
       " object]"
      ]
     },
     "execution_count": 25,
     "metadata": {},
     "output_type": "execute_result"
    }
   ],
   "source": [
    "class Nothing:\n",
    "    pass\n",
    "\n",
    "class BetterRepr(Nothing, Utils):\n",
    "    def __repr__(self):\n",
    "        output = \"\"\n",
    "        for key, value in self.to_dict().items():\n",
    "            output += f\"{key}: {value}, \"\n",
    "        return f\"<{output[:-2]}>\"\n",
    "\n",
    "    def print_cls(self):\n",
    "        print(\"BetterRepr\")\n",
    "\n",
    "\n",
    "class Child(BetterRepr, StrictInit):\n",
    "    pass\n",
    "\n",
    "Child.mro()"
   ]
  },
  {
   "cell_type": "markdown",
   "metadata": {},
   "source": [
    "This result is what we expected and we can see graphically as well:\n",
    "\n",
    "Nothing  Utils     LooseInit\n",
    "  \\       /           |\n",
    "  BetterRepr    StrictInit\n",
    "         \\     /\n",
    "          Child\n",
    "\n",
    "\n",
    "But, what happens if `StrictInit` inherits from `Nothing` as well?"
   ]
  },
  {
   "cell_type": "code",
   "execution_count": 28,
   "metadata": {},
   "outputs": [
    {
     "data": {
      "text/plain": [
       "[__main__.Child,\n",
       " __main__.BetterRepr,\n",
       " __main__.StrictInit,\n",
       " __main__.LooseInit,\n",
       " __main__.Nothing,\n",
       " __main__.Utils,\n",
       " object]"
      ]
     },
     "execution_count": 28,
     "metadata": {},
     "output_type": "execute_result"
    }
   ],
   "source": [
    "class Nothing:\n",
    "    pass\n",
    "\n",
    "class LooseInit:\n",
    "    def __init__(self, **kwargs):\n",
    "        self.__dict__.update(kwargs)\n",
    "\n",
    "class StrictInit(LooseInit, Nothing):\n",
    "    def __init__(self, **kwargs):\n",
    "        sanitized_args = {\n",
    "            key: value for key, value in kwargs.items()\n",
    "            if not key.startswith(\"bad\")\n",
    "        }\n",
    "        super().__init__(**sanitized_args)\n",
    "\n",
    "    def print_cls(self):\n",
    "        print(\"StrictInit\")\n",
    "\n",
    "class Utils:\n",
    "    @classmethod\n",
    "    def from_dict(cls, arg_dict):\n",
    "        return cls(**arg_dict)\n",
    "\n",
    "    def to_dict(self):\n",
    "        return {\n",
    "            key: value\n",
    "            for key, value in self.__dict__.items()\n",
    "            if not key.startswith(\"_\")\n",
    "        }\n",
    "\n",
    "class BetterRepr(Nothing, Utils):\n",
    "    def __repr__(self):\n",
    "        output = \"\"\n",
    "        for key, value in self.to_dict().items():\n",
    "            output += f\"{key}: {value}, \"\n",
    "        return f\"<{output[:-2]}>\"\n",
    "\n",
    "    def print_cls(self):\n",
    "        print(\"BetterRepr\")\n",
    "\n",
    "\n",
    "class Child(BetterRepr, StrictInit):\n",
    "    pass\n",
    "\n",
    "Child.mro()"
   ]
  },
  {
   "cell_type": "markdown",
   "metadata": {},
   "source": [
    "Before giving explanation, let's represent it graphically:\n",
    "\n",
    "Nothing    Utils   LooseInit   Nothing\n",
    "    \\       /          \\      /\n",
    "    BetterRepr      StrictInit\n",
    "             \\     /\n",
    "              Child\n",
    "\n",
    "The result now is different from what we expected. Since MRO goes from the left-side to the right-side we expected to see `Nothing` after `BetterRepr`. What happens is that adding the `Nothing` to `StrictInit` brought the `Nothing` class higher in the MRO; actually it will put as high as possible. So, Python will wait to resolve `Nothing` until all other classes (`StrictInit` and its ancestors) are also considered.\n",
    "\n",
    "As a rule you have to remember that when it comes to the MRO, when you have common parents, those parents will be moved above any other parents on the same level."
   ]
  }
 ],
 "metadata": {
  "kernelspec": {
   "display_name": "myenv",
   "language": "python",
   "name": "python3"
  },
  "language_info": {
   "codemirror_mode": {
    "name": "ipython",
    "version": 3
   },
   "file_extension": ".py",
   "mimetype": "text/x-python",
   "name": "python",
   "nbconvert_exporter": "python",
   "pygments_lexer": "ipython3",
   "version": "3.10.9"
  }
 },
 "nbformat": 4,
 "nbformat_minor": 2
}
