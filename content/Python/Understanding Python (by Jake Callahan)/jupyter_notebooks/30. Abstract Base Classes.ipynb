{
 "cells": [
  {
   "cell_type": "markdown",
   "metadata": {},
   "source": [
    "One of the simplest and most common ways you'll see **Abstract Base Classes** (or **ABCs**) be used is the combination of the `ABC` class and `abstractmethod` that Python provides in its `abc` module. Let's use those:"
   ]
  },
  {
   "cell_type": "code",
   "execution_count": 2,
   "metadata": {},
   "outputs": [],
   "source": [
    "from abc import ABC, abstractmethod\n",
    "\n",
    "class Shape(ABC):\n",
    "    @abstractmethod\n",
    "    def area(self):\n",
    "        pass\n",
    "\n",
    "    @abstractmethod\n",
    "    def perimeter(self):\n",
    "        pass"
   ]
  },
  {
   "cell_type": "markdown",
   "metadata": {},
   "source": [
    "The reason why we can just have `pass` for both area and perimeter is because these don't actually do anything in this class definition, but what we're telling Python is that, in order for a subclass of `Shape` to be valid, it has to overwrite `area` and `perimeter` methods. So, if we were to implement a child class that doesn't override those, it can't be actually be created (Python raise an error). Let's demonstrate it:"
   ]
  },
  {
   "cell_type": "code",
   "execution_count": 3,
   "metadata": {},
   "outputs": [],
   "source": [
    "class Cirlce(Shape):\n",
    "    def __init__(self, radius) -> None:\n",
    "        self.radius = radius\n",
    "\n",
    "    def area(self):\n",
    "        return 3.14 * self.radius ** 2\n",
    "\n",
    "    def perimeter(self):\n",
    "        return 2 * 3.14 * self.radius"
   ]
  },
  {
   "cell_type": "markdown",
   "metadata": {},
   "source": [
    "At this point we have a valid subclass `Circle`:"
   ]
  },
  {
   "cell_type": "code",
   "execution_count": 4,
   "metadata": {},
   "outputs": [
    {
     "name": "stdout",
     "output_type": "stream",
     "text": [
      "78.5\n",
      "31.400000000000002\n"
     ]
    }
   ],
   "source": [
    "c1 = Cirlce(5)\n",
    "\n",
    "print(c1.area())\n",
    "print(c1.perimeter())"
   ]
  },
  {
   "cell_type": "markdown",
   "metadata": {},
   "source": [
    "What if we don't create a valid sublcass? Let's create another class:"
   ]
  },
  {
   "cell_type": "code",
   "execution_count": 5,
   "metadata": {},
   "outputs": [
    {
     "ename": "TypeError",
     "evalue": "Can't instantiate abstract class Triangle with abstract method area",
     "output_type": "error",
     "traceback": [
      "\u001b[0;31m---------------------------------------------------------------------------\u001b[0m",
      "\u001b[0;31mTypeError\u001b[0m                                 Traceback (most recent call last)",
      "Cell \u001b[0;32mIn[5], line 10\u001b[0m\n\u001b[1;32m      7\u001b[0m     \u001b[38;5;28;01mdef\u001b[39;00m \u001b[38;5;21mperimeter\u001b[39m(\u001b[38;5;28mself\u001b[39m):\n\u001b[1;32m      8\u001b[0m         \u001b[38;5;28;01mreturn\u001b[39;00m \u001b[38;5;28msum\u001b[39m(\u001b[38;5;28mself\u001b[39m\u001b[38;5;241m.\u001b[39msides)\n\u001b[0;32m---> 10\u001b[0m t1 \u001b[38;5;241m=\u001b[39m \u001b[43mTriangle\u001b[49m\u001b[43m(\u001b[49m\u001b[38;5;241;43m5\u001b[39;49m\u001b[43m,\u001b[49m\u001b[43m \u001b[49m\u001b[38;5;241;43m13\u001b[39;49m\u001b[43m,\u001b[49m\u001b[43m \u001b[49m\u001b[43m[\u001b[49m\u001b[38;5;241;43m3\u001b[39;49m\u001b[43m,\u001b[49m\u001b[38;5;241;43m4\u001b[39;49m\u001b[43m,\u001b[49m\u001b[38;5;241;43m5\u001b[39;49m\u001b[43m]\u001b[49m\u001b[43m)\u001b[49m\n",
      "\u001b[0;31mTypeError\u001b[0m: Can't instantiate abstract class Triangle with abstract method area"
     ]
    }
   ],
   "source": [
    "class Triangle(Shape):\n",
    "    def __init__(self, base, height, sides) -> None:\n",
    "        self.base = base\n",
    "        self.height = height\n",
    "        self.sides = sides\n",
    "\n",
    "    def perimeter(self):\n",
    "        return sum(self.sides)\n",
    "    \n",
    "t1 = Triangle(5, 13, [3,4,5])"
   ]
  },
  {
   "cell_type": "markdown",
   "metadata": {},
   "source": [
    "Because we didn't override the `area` method, it gives you an error. This is one of the big values of abstract classes, especially if you are a library author; you can define the minimum amount of funcionality that needs to be defined on child classes for them to be considered valid child classes. Let's fix this class:"
   ]
  },
  {
   "cell_type": "code",
   "execution_count": 6,
   "metadata": {},
   "outputs": [
    {
     "name": "stdout",
     "output_type": "stream",
     "text": [
      "12\n",
      "32.5\n"
     ]
    }
   ],
   "source": [
    "class Triangle(Shape):\n",
    "    def __init__(self, base, height, sides) -> None:\n",
    "        self.base = base\n",
    "        self.height = height\n",
    "        self.sides = sides\n",
    "\n",
    "    def perimeter(self):\n",
    "        return sum(self.sides)\n",
    "    \n",
    "    def area(self):\n",
    "        return 0.5 * self.base * self.height\n",
    "    \n",
    "t1 = Triangle(5, 13, [3,4,5])\n",
    "\n",
    "print(t1.perimeter())\n",
    "print(t1.area())"
   ]
  },
  {
   "cell_type": "code",
   "execution_count": null,
   "metadata": {},
   "outputs": [],
   "source": []
  },
  {
   "cell_type": "markdown",
   "metadata": {},
   "source": [
    "How exactly is this working? In the lesson about metaclasses (*TODO: inserisci link*), near the end we defined a class that was effectively the reverse version of an abstract base class and in that example if a child class tried to override a method that was defined on the parent, it would stop it from being created. What Python does is it has ABC, which has a metaclass defined of ABC.meta and that metaclass will check through and see if there's any abtract methods that are still in the class that's trying to be instantiated and, if they are, it's going to raise that `TypeError`. For the very same reason, we can't create an instance of `Shape` because it has two of these abstract methofs intact. On the other hand, the reason why `Circle` and `Triangle` can be instantiated is because they're overriding the definition that's provided on their parent."
   ]
  },
  {
   "cell_type": "markdown",
   "metadata": {},
   "source": [
    "*(The following part talks about more complex examples, but it involves metaclass, that I didn't study yet. So, I'll come back on this video as soon as I study that topic)*\n",
    "\n",
    "Let's give a more complex example. We can do many interesting things with abstract base classes, especially if you're trying to write some type of plug-in interface. Let's first create the class and then we give some explanations:"
   ]
  },
  {
   "cell_type": "code",
   "execution_count": 7,
   "metadata": {},
   "outputs": [],
   "source": [
    "import abc\n",
    "\n",
    "class ServicePlugin(metaclass=abc.ABCMeta):\n",
    "    plugins = {}"
   ]
  },
  {
   "cell_type": "markdown",
   "metadata": {},
   "source": [
    "We're going to create class `ServicePlugin` and we specify that it's a metaclass. This helps to collapse the inheritance tree a little bit more where, instead of having `ABC` as a parent class of whatever your plug-in systems is, you can just have `ServicePlugin` be the top level (of course below `object`). I want `ServicePlugin` to be the primary interface for the plugins in the application and, in order to do that, we're going to kkep track of whatever plugins are available by creating a class level attribute `plugins`"
   ]
  }
 ],
 "metadata": {
  "kernelspec": {
   "display_name": "myenv",
   "language": "python",
   "name": "python3"
  },
  "language_info": {
   "codemirror_mode": {
    "name": "ipython",
    "version": 3
   },
   "file_extension": ".py",
   "mimetype": "text/x-python",
   "name": "python",
   "nbconvert_exporter": "python",
   "pygments_lexer": "ipython3",
   "version": "3.10.9"
  }
 },
 "nbformat": 4,
 "nbformat_minor": 2
}
