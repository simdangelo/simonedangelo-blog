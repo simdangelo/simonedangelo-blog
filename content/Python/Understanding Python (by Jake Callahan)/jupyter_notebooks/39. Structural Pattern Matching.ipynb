{
 "cells": [
  {
   "cell_type": "code",
   "execution_count": 66,
   "metadata": {},
   "outputs": [],
   "source": [
    "import random\n",
    "\n",
    "match random.randint(0, 10):\n",
    "    case 5:\n",
    "        print(\"Lucky!\")"
   ]
  },
  {
   "cell_type": "code",
   "execution_count": 67,
   "metadata": {},
   "outputs": [],
   "source": [
    "match random.randint(0, 10):\n",
    "    case 5:\n",
    "        print(\"Lucky!\")\n",
    "    case 4 | 6 as num:\n",
    "        print(\"You got close!\")"
   ]
  },
  {
   "cell_type": "code",
   "execution_count": null,
   "metadata": {},
   "outputs": [
    {
     "name": "stdout",
     "output_type": "stream",
     "text": [
      "at least 1 was odd.\n"
     ]
    }
   ],
   "source": [
    "import random\n",
    "\n",
    "match random.randint(0, 10):\n",
    "    case 5:\n",
    "        print(\"Lucky!\")\n",
    "    case 4 | 6 as num:\n",
    "        print(f\"You got close with {num}!\")\n",
    "    case num if num % 2 != 0:\n",
    "        print(f\"at least {num} was odd.\")"
   ]
  },
  {
   "cell_type": "code",
   "execution_count": 71,
   "metadata": {},
   "outputs": [
    {
     "name": "stdout",
     "output_type": "stream",
     "text": [
      "You missed!\n"
     ]
    }
   ],
   "source": [
    "import random\n",
    "\n",
    "match random.randint(0, 10):\n",
    "    case 5:\n",
    "        print(\"Lucky!\")\n",
    "    case 4 | 6 as num:\n",
    "        print(f\"You got close with {num}!\")\n",
    "    case num if num % 2 != 0:\n",
    "        print(f\"at least {num} was odd.\")\n",
    "    case _:\n",
    "        print(\"You missed!\")"
   ]
  },
  {
   "cell_type": "code",
   "execution_count": 72,
   "metadata": {},
   "outputs": [
    {
     "ename": "SyntaxError",
     "evalue": "name capture 'miss' makes remaining patterns unreachable (2852953069.py, line 10)",
     "output_type": "error",
     "traceback": [
      "\u001b[0;36m  Cell \u001b[0;32mIn[72], line 10\u001b[0;36m\u001b[0m\n\u001b[0;31m    case miss:\u001b[0m\n\u001b[0m         ^\u001b[0m\n\u001b[0;31mSyntaxError\u001b[0m\u001b[0;31m:\u001b[0m name capture 'miss' makes remaining patterns unreachable\n"
     ]
    }
   ],
   "source": [
    "import random\n",
    "\n",
    "match random.randint(0, 10):\n",
    "    case 5:\n",
    "        print(\"Lucky!\")\n",
    "    case 4 | 6 as num:\n",
    "        print(f\"You got close with {num}!\")\n",
    "    case num if num % 2 != 0:\n",
    "        print(f\"at least {num} was odd.\")\n",
    "    case miss:\n",
    "        print(f\"You missed with {miss}!\")\n",
    "    case _:\n",
    "        print(\"Fail\")"
   ]
  },
  {
   "cell_type": "code",
   "execution_count": 74,
   "metadata": {},
   "outputs": [],
   "source": [
    "class Vars:\n",
    "    x = int(input())\n",
    "    y = int(input())\n",
    "    z = int(input())\n",
    "match Vars.x:\n",
    "    case Vars.y:\n",
    "        print(\"something\")\n",
    "    case Vars.z:\n",
    "        print(\"anything\")"
   ]
  },
  {
   "cell_type": "code",
   "execution_count": null,
   "metadata": {},
   "outputs": [],
   "source": []
  }
 ],
 "metadata": {
  "kernelspec": {
   "display_name": "myenv",
   "language": "python",
   "name": "python3"
  },
  "language_info": {
   "codemirror_mode": {
    "name": "ipython",
    "version": 3
   },
   "file_extension": ".py",
   "mimetype": "text/x-python",
   "name": "python",
   "nbconvert_exporter": "python",
   "pygments_lexer": "ipython3",
   "version": "3.10.9"
  }
 },
 "nbformat": 4,
 "nbformat_minor": 2
}
