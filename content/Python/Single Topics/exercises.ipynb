{
 "cells": [
  {
   "cell_type": "markdown",
   "metadata": {},
   "source": [
    "# Setters and Getters"
   ]
  },
  {
   "cell_type": "code",
   "execution_count": 1,
   "metadata": {},
   "outputs": [
    {
     "name": "stdout",
     "output_type": "stream",
     "text": [
      "30\n"
     ]
    }
   ],
   "source": [
    "class Circle:\n",
    "\tdef __init__(self, radius):\n",
    "\t\tself.radius = radius\n",
    "\t\t\n",
    "    \n",
    "circle1 = Circle(30)\n",
    "print(circle1.radius) # Output: 30"
   ]
  },
  {
   "cell_type": "code",
   "execution_count": 9,
   "metadata": {},
   "outputs": [
    {
     "name": "stdout",
     "output_type": "stream",
     "text": [
      "30\n",
      "-1\n"
     ]
    }
   ],
   "source": [
    "class Circle:\n",
    "\tdef __init__(self, radius):\n",
    "\t\tif radius > 0:\n",
    "\t\t\tself.radius = radius\n",
    "\t\telse:\n",
    "\t\t\traise ValueError(\"Radius must be greater than 0!\")\n",
    "\t\n",
    "\t# def radius(self):\n",
    "\t# \treturn self._radius\n",
    "\t\n",
    "circle1 = Circle(30)\n",
    "print(circle1.radius) # Output: 30\n",
    "circle1.radius = -1\n",
    "print(circle1.radius)"
   ]
  },
  {
   "cell_type": "code",
   "execution_count": null,
   "metadata": {},
   "outputs": [],
   "source": []
  },
  {
   "cell_type": "code",
   "execution_count": 35,
   "metadata": {},
   "outputs": [],
   "source": [
    "class Circle:\n",
    "\tdef __init__(self, radius):\n",
    "\t\tif radius > 0:\n",
    "\t\t\tself.radius = radius\n",
    "\t\telse:\n",
    "\t\t\traise ValueError(\"Radius must be greater than 0.\")\n",
    "\t\t\n",
    "circle1 = Circle(30)\n",
    "circle1.radius = -3"
   ]
  },
  {
   "cell_type": "code",
   "execution_count": 12,
   "metadata": {},
   "outputs": [
    {
     "ename": "TypeError",
     "evalue": "'int' object is not callable",
     "output_type": "error",
     "traceback": [
      "\u001b[0;31m---------------------------------------------------------------------------\u001b[0m",
      "\u001b[0;31mTypeError\u001b[0m                                 Traceback (most recent call last)",
      "Cell \u001b[0;32mIn[12], line 11\u001b[0m\n\u001b[1;32m      8\u001b[0m \t\t\u001b[38;5;28;01mreturn\u001b[39;00m \u001b[38;5;28mself\u001b[39m\u001b[38;5;241m.\u001b[39mradius\n\u001b[1;32m     10\u001b[0m circle1 \u001b[38;5;241m=\u001b[39m Circle(\u001b[38;5;241m30\u001b[39m)\n\u001b[0;32m---> 11\u001b[0m \u001b[43mcircle1\u001b[49m\u001b[38;5;241;43m.\u001b[39;49m\u001b[43mradius\u001b[49m\u001b[43m(\u001b[49m\u001b[43m)\u001b[49m\n",
      "\u001b[0;31mTypeError\u001b[0m: 'int' object is not callable"
     ]
    }
   ],
   "source": [
    "class Circle:\n",
    "\tdef __init__(self, radius):\n",
    "\t\tif radius > 0:\n",
    "\t\t\tself.radius = radius\n",
    "\t\telse:\n",
    "\t\t\traise ValueError(\"Radius must be greater than 0!\")\n",
    "\tdef radius(self):\n",
    "\t\treturn self.radius\n",
    "\t\n",
    "circle1 = Circle(30)\n",
    "circle1.radius()"
   ]
  },
  {
   "cell_type": "code",
   "execution_count": 13,
   "metadata": {},
   "outputs": [],
   "source": [
    "class Label:\n",
    "    def __init__(self, text, font):\n",
    "        self._text = text\n",
    "        self._font = font\n",
    "    \n",
    "    def get_text(self):\n",
    "        return self._text\n",
    "    \n",
    "    def set_text(self, new_text):\n",
    "        self._text = new_text\n",
    "\n",
    "    def get_font(self):\n",
    "        return self._font\n",
    "    \n",
    "    def set_font(self, new_font):\n",
    "        self._font = new_font"
   ]
  },
  {
   "cell_type": "code",
   "execution_count": 15,
   "metadata": {},
   "outputs": [
    {
     "name": "stdout",
     "output_type": "stream",
     "text": [
      "FRUITS\n",
      "VEGETABLES\n"
     ]
    }
   ],
   "source": [
    "class Label:\n",
    "    def __init__(self, text, font):\n",
    "        self.set_text(text)\n",
    "        self._font = font\n",
    "\n",
    "    def get_text(self):\n",
    "        return self._text\n",
    "    \n",
    "    def set_text(self, text_value):\n",
    "        self._text = text_value.upper()\n",
    "\n",
    "\n",
    "label1 = Label(\"Fruits\", \"JeyBrains Mono NL\")\n",
    "print(label1.get_text())\n",
    "\n",
    "label1.set_text(\"Vegetables\")\n",
    "print(label1.get_text())"
   ]
  },
  {
   "cell_type": "code",
   "execution_count": 16,
   "metadata": {},
   "outputs": [],
   "source": [
    "class Employee:\n",
    "\tdef __init__(self, name, birth_date):\n",
    "\t\tself.name = name\n",
    "\t\tself.birth_date = birth_date"
   ]
  },
  {
   "cell_type": "code",
   "execution_count": 29,
   "metadata": {},
   "outputs": [
    {
     "name": "stdout",
     "output_type": "stream",
     "text": [
      "SIMONE\n",
      "<class 'datetime.date'>\n",
      "FABIO\n"
     ]
    }
   ],
   "source": [
    "from datetime import date\n",
    "\n",
    "class Employee:\n",
    "\tdef __init__(self, name, birth_date):\n",
    "\t\tself.name = name\n",
    "\t\tself.birth_date = birth_date\n",
    "\t\n",
    "\t@property\n",
    "\tdef name(self):\n",
    "\t\treturn self._name\n",
    "\n",
    "\t@name.setter\n",
    "\tdef name(self, value):\n",
    "\t\tself._name = value.upper()\n",
    "\n",
    "\t@property\n",
    "\tdef birth_date(self):\n",
    "\t\treturn self._birth_date\n",
    "\n",
    "\t@birth_date.setter\n",
    "\tdef birth_date(self, value):\n",
    "\t\tself._birth_date = date.fromisoformat(value)\n",
    "\t\t\n",
    "\n",
    "employee = Employee(\"simone\", \"2025-01-01\")\n",
    "print(employee.name)\n",
    "print(type(employee.birth_date))\n",
    "\n",
    "employee.name = \"Fabio\"\n",
    "print(employee.name)"
   ]
  },
  {
   "cell_type": "markdown",
   "metadata": {},
   "source": [
    "# Properties"
   ]
  },
  {
   "cell_type": "code",
   "execution_count": 1,
   "metadata": {},
   "outputs": [],
   "source": [
    "class Point:\n",
    "    def __init__(self, x, y) -> None:\n",
    "        self._x = x\n",
    "        self._y = y\n",
    "\n",
    "    def get_x(self):\n",
    "        return self._x\n",
    "    \n",
    "    def set_x(self, value):\n",
    "        self._x = value\n",
    "\n",
    "    def get_y(self):\n",
    "        return self._y\n",
    "    \n",
    "    def set_y(self, value):\n",
    "        self._y = value"
   ]
  },
  {
   "cell_type": "code",
   "execution_count": 2,
   "metadata": {},
   "outputs": [],
   "source": [
    "class Circle:\n",
    "    def __init__(self, radius) -> None:\n",
    "        self._radius = radius\n",
    "\n",
    "    def _get_radius(self):\n",
    "        print(\"Get radius\")\n",
    "        return self._radius\n",
    "    \n",
    "    def _set_radius(self, value):\n",
    "        print(\"Set radius\")\n",
    "        self._radius = value\n",
    "\n",
    "    def _del_radius(self):\n",
    "        print(\"Delete radius\")\n",
    "        del self._radius\n",
    "\n",
    "    radius = property(\n",
    "        fget=_get_radius,\n",
    "        fset=_set_radius,\n",
    "        fdel=_del_radius,\n",
    "        doc=\"The radius property.\"\n",
    "    )"
   ]
  },
  {
   "cell_type": "code",
   "execution_count": 13,
   "metadata": {},
   "outputs": [],
   "source": [
    "class Circle:\n",
    "    def __init__(self, radius) -> None:\n",
    "        self._radius = radius\n",
    "\n",
    "    @property\n",
    "    def radius(self):\n",
    "        print(\"Get radius\")\n",
    "        return self._radius\n",
    "    \n",
    "    # @radius.setter\n",
    "    # def radius(self, value):\n",
    "    #     print(\"Set radius\")\n",
    "    #     self._radius = value\n",
    "\n",
    "    # @radius.deleter\n",
    "    # def radius(self):\n",
    "    #     print(\"Delete radius\")\n",
    "    #     del self._radius"
   ]
  },
  {
   "cell_type": "code",
   "execution_count": 7,
   "metadata": {},
   "outputs": [
    {
     "data": {
      "text/plain": [
       "['__class__',\n",
       " '__delattr__',\n",
       " '__delete__',\n",
       " '__dir__',\n",
       " '__doc__',\n",
       " '__eq__',\n",
       " '__format__',\n",
       " '__ge__',\n",
       " '__get__',\n",
       " '__getattribute__',\n",
       " '__gt__',\n",
       " '__hash__',\n",
       " '__init__',\n",
       " '__init_subclass__',\n",
       " '__isabstractmethod__',\n",
       " '__le__',\n",
       " '__lt__',\n",
       " '__ne__',\n",
       " '__new__',\n",
       " '__reduce__',\n",
       " '__reduce_ex__',\n",
       " '__repr__',\n",
       " '__set__',\n",
       " '__set_name__',\n",
       " '__setattr__',\n",
       " '__sizeof__',\n",
       " '__str__',\n",
       " '__subclasshook__',\n",
       " 'deleter',\n",
       " 'fdel',\n",
       " 'fget',\n",
       " 'fset',\n",
       " 'getter',\n",
       " 'setter']"
      ]
     },
     "execution_count": 7,
     "metadata": {},
     "output_type": "execute_result"
    }
   ],
   "source": [
    "dir(Circle.radius)"
   ]
  },
  {
   "cell_type": "code",
   "execution_count": 14,
   "metadata": {},
   "outputs": [
    {
     "data": {
      "text/plain": [
       "['__class__',\n",
       " '__delattr__',\n",
       " '__delete__',\n",
       " '__dir__',\n",
       " '__doc__',\n",
       " '__eq__',\n",
       " '__format__',\n",
       " '__ge__',\n",
       " '__get__',\n",
       " '__getattribute__',\n",
       " '__gt__',\n",
       " '__hash__',\n",
       " '__init__',\n",
       " '__init_subclass__',\n",
       " '__isabstractmethod__',\n",
       " '__le__',\n",
       " '__lt__',\n",
       " '__ne__',\n",
       " '__new__',\n",
       " '__reduce__',\n",
       " '__reduce_ex__',\n",
       " '__repr__',\n",
       " '__set__',\n",
       " '__set_name__',\n",
       " '__setattr__',\n",
       " '__sizeof__',\n",
       " '__str__',\n",
       " '__subclasshook__',\n",
       " 'deleter',\n",
       " 'fdel',\n",
       " 'fget',\n",
       " 'fset',\n",
       " 'getter',\n",
       " 'setter']"
      ]
     },
     "execution_count": 14,
     "metadata": {},
     "output_type": "execute_result"
    }
   ],
   "source": [
    "dir(Circle.radius)"
   ]
  },
  {
   "cell_type": "code",
   "execution_count": 17,
   "metadata": {},
   "outputs": [
    {
     "data": {
      "text/plain": [
       "<function property.setter>"
      ]
     },
     "execution_count": 17,
     "metadata": {},
     "output_type": "execute_result"
    }
   ],
   "source": [
    "Circle.radius.setter"
   ]
  },
  {
   "cell_type": "code",
   "execution_count": 26,
   "metadata": {},
   "outputs": [
    {
     "data": {
      "text/plain": [
       "<function property.getter>"
      ]
     },
     "execution_count": 26,
     "metadata": {},
     "output_type": "execute_result"
    }
   ],
   "source": [
    "property().getter"
   ]
  },
  {
   "cell_type": "code",
   "execution_count": null,
   "metadata": {},
   "outputs": [],
   "source": []
  }
 ],
 "metadata": {
  "kernelspec": {
   "display_name": "Python 3",
   "language": "python",
   "name": "python3"
  },
  "language_info": {
   "codemirror_mode": {
    "name": "ipython",
    "version": 3
   },
   "file_extension": ".py",
   "mimetype": "text/x-python",
   "name": "python",
   "nbconvert_exporter": "python",
   "pygments_lexer": "ipython3",
   "version": "2.7.undefined"
  }
 },
 "nbformat": 4,
 "nbformat_minor": 2
}
