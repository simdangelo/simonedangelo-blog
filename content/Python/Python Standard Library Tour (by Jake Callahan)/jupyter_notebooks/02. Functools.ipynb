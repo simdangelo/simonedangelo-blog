{
 "cells": [
  {
   "cell_type": "code",
   "execution_count": 35,
   "metadata": {},
   "outputs": [],
   "source": [
    "from functools import lru_cache"
   ]
  },
  {
   "cell_type": "code",
   "execution_count": 36,
   "metadata": {},
   "outputs": [],
   "source": [
    "@lru_cache(maxsize=3)\n",
    "def add_5(num):\n",
    "    print(f\"Adding 5 to {num}\")\n",
    "    return num + 5"
   ]
  },
  {
   "cell_type": "code",
   "execution_count": 37,
   "metadata": {},
   "outputs": [
    {
     "name": "stdout",
     "output_type": "stream",
     "text": [
      "Adding 5 to 15\n"
     ]
    },
    {
     "data": {
      "text/plain": [
       "20"
      ]
     },
     "execution_count": 37,
     "metadata": {},
     "output_type": "execute_result"
    }
   ],
   "source": [
    "add_5(15)"
   ]
  },
  {
   "cell_type": "code",
   "execution_count": 38,
   "metadata": {},
   "outputs": [
    {
     "data": {
      "text/plain": [
       "20"
      ]
     },
     "execution_count": 38,
     "metadata": {},
     "output_type": "execute_result"
    }
   ],
   "source": [
    "add_5(15)"
   ]
  },
  {
   "cell_type": "code",
   "execution_count": 39,
   "metadata": {},
   "outputs": [
    {
     "name": "stdout",
     "output_type": "stream",
     "text": [
      "Adding 5 to 12\n"
     ]
    },
    {
     "data": {
      "text/plain": [
       "17"
      ]
     },
     "execution_count": 39,
     "metadata": {},
     "output_type": "execute_result"
    }
   ],
   "source": [
    "add_5(12)"
   ]
  },
  {
   "cell_type": "code",
   "execution_count": 40,
   "metadata": {},
   "outputs": [
    {
     "data": {
      "text/plain": [
       "20"
      ]
     },
     "execution_count": 40,
     "metadata": {},
     "output_type": "execute_result"
    }
   ],
   "source": [
    "add_5(15)"
   ]
  },
  {
   "cell_type": "code",
   "execution_count": 41,
   "metadata": {},
   "outputs": [
    {
     "name": "stdout",
     "output_type": "stream",
     "text": [
      "Adding 5 to 27\n"
     ]
    },
    {
     "data": {
      "text/plain": [
       "32"
      ]
     },
     "execution_count": 41,
     "metadata": {},
     "output_type": "execute_result"
    }
   ],
   "source": [
    "add_5(27)"
   ]
  },
  {
   "cell_type": "code",
   "execution_count": 42,
   "metadata": {},
   "outputs": [
    {
     "name": "stdout",
     "output_type": "stream",
     "text": [
      "Adding 5 to 30\n"
     ]
    },
    {
     "data": {
      "text/plain": [
       "35"
      ]
     },
     "execution_count": 42,
     "metadata": {},
     "output_type": "execute_result"
    }
   ],
   "source": [
    "add_5(30)"
   ]
  },
  {
   "cell_type": "code",
   "execution_count": 43,
   "metadata": {},
   "outputs": [
    {
     "name": "stdout",
     "output_type": "stream",
     "text": [
      "Adding 5 to 12\n"
     ]
    },
    {
     "data": {
      "text/plain": [
       "17"
      ]
     },
     "execution_count": 43,
     "metadata": {},
     "output_type": "execute_result"
    }
   ],
   "source": [
    "add_5(12)"
   ]
  },
  {
   "cell_type": "code",
   "execution_count": 44,
   "metadata": {},
   "outputs": [
    {
     "data": {
      "text/plain": [
       "CacheInfo(hits=2, misses=5, maxsize=3, currsize=3)"
      ]
     },
     "execution_count": 44,
     "metadata": {},
     "output_type": "execute_result"
    }
   ],
   "source": [
    "add_5.cache_info()"
   ]
  },
  {
   "cell_type": "code",
   "execution_count": 45,
   "metadata": {},
   "outputs": [
    {
     "data": {
      "text/plain": [
       "{'maxsize': 3, 'typed': False}"
      ]
     },
     "execution_count": 45,
     "metadata": {},
     "output_type": "execute_result"
    }
   ],
   "source": [
    "add_5.cache_parameters()"
   ]
  },
  {
   "cell_type": "code",
   "execution_count": 46,
   "metadata": {},
   "outputs": [],
   "source": [
    "add_5.cache_clear()"
   ]
  },
  {
   "cell_type": "code",
   "execution_count": 47,
   "metadata": {},
   "outputs": [
    {
     "data": {
      "text/plain": [
       "CacheInfo(hits=0, misses=0, maxsize=3, currsize=0)"
      ]
     },
     "execution_count": 47,
     "metadata": {},
     "output_type": "execute_result"
    }
   ],
   "source": [
    "add_5.cache_info()"
   ]
  },
  {
   "cell_type": "code",
   "execution_count": 48,
   "metadata": {},
   "outputs": [],
   "source": [
    "def fib(n):\n",
    "    if n <= 1:\n",
    "        return n\n",
    "    return fib(n-1) + fib(n-2)"
   ]
  },
  {
   "cell_type": "code",
   "execution_count": 50,
   "metadata": {},
   "outputs": [],
   "source": [
    "from functools import cache\n",
    "\n",
    "@cache\n",
    "def cached_fib(n):\n",
    "    if n <= 1:\n",
    "        return n\n",
    "    return cached_fib(n-1) + cached_fib(n-2)"
   ]
  },
  {
   "cell_type": "code",
   "execution_count": 51,
   "metadata": {},
   "outputs": [],
   "source": [
    "import time\n",
    "\n",
    "def bench_fib():\n",
    "    goal = 38\n",
    "    start = time.time()\n",
    "    fib(goal)\n",
    "    print(f\"Time taken without caching: {time.time() - start:.5f} seconds\")\n",
    "\n",
    "    start = time.time()\n",
    "    cached_fib(goal)\n",
    "    print(f\"Time taken with caching: {time.time() - start:.5f} seconds\")"
   ]
  },
  {
   "cell_type": "code",
   "execution_count": 52,
   "metadata": {},
   "outputs": [
    {
     "name": "stdout",
     "output_type": "stream",
     "text": [
      "Time taken without caching: 6.17687 seconds\n",
      "Time taken with caching: 0.00002 seconds\n"
     ]
    }
   ],
   "source": [
    "bench_fib()"
   ]
  },
  {
   "cell_type": "code",
   "execution_count": 64,
   "metadata": {},
   "outputs": [],
   "source": [
    "import json\n",
    "import urllib.request\n",
    "\n",
    "\n",
    "class METAR:\n",
    "    def __init__(self, icao):\n",
    "        self.icao = icao.upper()\n",
    "\n",
    "    @property\n",
    "    def data(self):\n",
    "        print(f\"Getting METAR for {self.icao}\")\n",
    "        res = urllib.request.urlopen(\n",
    "            f'https://api.weather.gov/stations/{self.icao.upper()}/observations/latest'\n",
    "        ).read()\n",
    "        return json.loads(res)\n",
    "\n",
    "    @property\n",
    "    def raw(self):\n",
    "        return self.data['properties']['rawMessage']\n",
    "\n",
    "    @property\n",
    "    def temp(self):\n",
    "        return self.data['properties']['temperature']['value']\n",
    "\n",
    "    @property\n",
    "    def dewpoint(self):\n",
    "        return self.data['properties']['dewpoint']['value']\n",
    "\n",
    "    @property\n",
    "    def wind(self):\n",
    "        return \"{direction}{speed}KT\".format(\n",
    "            direction=self.data['properties']['windDirection']['value'],\n",
    "            speed=self.data['properties']['windSpeed']['value']\n",
    "        )"
   ]
  },
  {
   "cell_type": "code",
   "execution_count": 65,
   "metadata": {},
   "outputs": [
    {
     "name": "stdout",
     "output_type": "stream",
     "text": [
      "Getting METAR for KRDU\n"
     ]
    },
    {
     "data": {
      "text/plain": [
       "{'@context': ['https://geojson.org/geojson-ld/geojson-context.jsonld',\n",
       "  {'@version': '1.1',\n",
       "   'wx': 'https://api.weather.gov/ontology#',\n",
       "   's': 'https://schema.org/',\n",
       "   'geo': 'http://www.opengis.net/ont/geosparql#',\n",
       "   'unit': 'http://codes.wmo.int/common/unit/',\n",
       "   '@vocab': 'https://api.weather.gov/ontology#',\n",
       "   'geometry': {'@id': 's:GeoCoordinates', '@type': 'geo:wktLiteral'},\n",
       "   'city': 's:addressLocality',\n",
       "   'state': 's:addressRegion',\n",
       "   'distance': {'@id': 's:Distance', '@type': 's:QuantitativeValue'},\n",
       "   'bearing': {'@type': 's:QuantitativeValue'},\n",
       "   'value': {'@id': 's:value'},\n",
       "   'unitCode': {'@id': 's:unitCode', '@type': '@id'},\n",
       "   'forecastOffice': {'@type': '@id'},\n",
       "   'forecastGridData': {'@type': '@id'},\n",
       "   'publicZone': {'@type': '@id'},\n",
       "   'county': {'@type': '@id'}}],\n",
       " 'id': 'https://api.weather.gov/stations/KRDU/observations/2024-11-03T12:51:00+00:00',\n",
       " 'type': 'Feature',\n",
       " 'geometry': {'type': 'Point', 'coordinates': [-78.78, 35.86]},\n",
       " 'properties': {'@id': 'https://api.weather.gov/stations/KRDU/observations/2024-11-03T12:51:00+00:00',\n",
       "  '@type': 'wx:ObservationStation',\n",
       "  'elevation': {'unitCode': 'wmoUnit:m', 'value': 134},\n",
       "  'station': 'https://api.weather.gov/stations/KRDU',\n",
       "  'timestamp': '2024-11-03T12:51:00+00:00',\n",
       "  'rawMessage': 'KRDU 031251Z 03004KT 10SM FEW060 SCT250 11/07 A3038 RMK AO2 SLP289 T01060072 $',\n",
       "  'textDescription': 'Partly Cloudy',\n",
       "  'icon': 'https://api.weather.gov/icons/land/day/sct?size=medium',\n",
       "  'presentWeather': [],\n",
       "  'temperature': {'unitCode': 'wmoUnit:degC',\n",
       "   'value': 10.6,\n",
       "   'qualityControl': 'V'},\n",
       "  'dewpoint': {'unitCode': 'wmoUnit:degC',\n",
       "   'value': 7.2,\n",
       "   'qualityControl': 'V'},\n",
       "  'windDirection': {'unitCode': 'wmoUnit:degree_(angle)',\n",
       "   'value': 30,\n",
       "   'qualityControl': 'V'},\n",
       "  'windSpeed': {'unitCode': 'wmoUnit:km_h-1',\n",
       "   'value': 7.56,\n",
       "   'qualityControl': 'V'},\n",
       "  'windGust': {'unitCode': 'wmoUnit:km_h-1',\n",
       "   'value': None,\n",
       "   'qualityControl': 'Z'},\n",
       "  'barometricPressure': {'unitCode': 'wmoUnit:Pa',\n",
       "   'value': 102880,\n",
       "   'qualityControl': 'V'},\n",
       "  'seaLevelPressure': {'unitCode': 'wmoUnit:Pa',\n",
       "   'value': 102890,\n",
       "   'qualityControl': 'V'},\n",
       "  'visibility': {'unitCode': 'wmoUnit:m',\n",
       "   'value': 16090,\n",
       "   'qualityControl': 'C'},\n",
       "  'maxTemperatureLast24Hours': {'unitCode': 'wmoUnit:degC', 'value': None},\n",
       "  'minTemperatureLast24Hours': {'unitCode': 'wmoUnit:degC', 'value': None},\n",
       "  'precipitationLastHour': {'unitCode': 'wmoUnit:mm',\n",
       "   'value': None,\n",
       "   'qualityControl': 'Z'},\n",
       "  'precipitationLast3Hours': {'unitCode': 'wmoUnit:mm',\n",
       "   'value': None,\n",
       "   'qualityControl': 'Z'},\n",
       "  'precipitationLast6Hours': {'unitCode': 'wmoUnit:mm',\n",
       "   'value': None,\n",
       "   'qualityControl': 'Z'},\n",
       "  'relativeHumidity': {'unitCode': 'wmoUnit:percent',\n",
       "   'value': 79.496094610696,\n",
       "   'qualityControl': 'V'},\n",
       "  'windChill': {'unitCode': 'wmoUnit:degC',\n",
       "   'value': None,\n",
       "   'qualityControl': 'V'},\n",
       "  'heatIndex': {'unitCode': 'wmoUnit:degC',\n",
       "   'value': None,\n",
       "   'qualityControl': 'V'},\n",
       "  'cloudLayers': [{'base': {'unitCode': 'wmoUnit:m', 'value': 1830},\n",
       "    'amount': 'FEW'},\n",
       "   {'base': {'unitCode': 'wmoUnit:m', 'value': 7620}, 'amount': 'SCT'}]}}"
      ]
     },
     "execution_count": 65,
     "metadata": {},
     "output_type": "execute_result"
    }
   ],
   "source": [
    "krdu = METAR(\"krdu\")\n",
    "krdu.data"
   ]
  },
  {
   "cell_type": "code",
   "execution_count": 66,
   "metadata": {},
   "outputs": [
    {
     "name": "stdout",
     "output_type": "stream",
     "text": [
      "Getting METAR for KRDU\n"
     ]
    },
    {
     "data": {
      "text/plain": [
       "'KRDU 031251Z 03004KT 10SM FEW060 SCT250 11/07 A3038 RMK AO2 SLP289 T01060072 $'"
      ]
     },
     "execution_count": 66,
     "metadata": {},
     "output_type": "execute_result"
    }
   ],
   "source": [
    "krdu.raw"
   ]
  },
  {
   "cell_type": "code",
   "execution_count": 67,
   "metadata": {},
   "outputs": [
    {
     "name": "stdout",
     "output_type": "stream",
     "text": [
      "Getting METAR for KRDU\n",
      "Getting METAR for KRDU\n"
     ]
    },
    {
     "data": {
      "text/plain": [
       "'307.56KT'"
      ]
     },
     "execution_count": 67,
     "metadata": {},
     "output_type": "execute_result"
    }
   ],
   "source": [
    "krdu.wind"
   ]
  },
  {
   "cell_type": "code",
   "execution_count": 68,
   "metadata": {},
   "outputs": [],
   "source": [
    "from functools import cached_property\n",
    "import json\n",
    "import urllib.request\n",
    "\n",
    "\n",
    "class METAR:\n",
    "    def __init__(self, icao):\n",
    "        self.icao = icao.upper()\n",
    "\n",
    "    @cached_property\n",
    "    def data(self):\n",
    "        print(f\"Getting METAR for {self.icao}\")\n",
    "        res = urllib.request.urlopen(\n",
    "            f'https://api.weather.gov/stations/{self.icao.upper()}/observations/latest'\n",
    "        ).read()\n",
    "        return json.loads(res)\n",
    "\n",
    "    @property\n",
    "    def raw(self):\n",
    "        return self.data['properties']['rawMessage']\n",
    "\n",
    "    @property\n",
    "    def temp(self):\n",
    "        return self.data['properties']['temperature']['value']\n",
    "\n",
    "    @property\n",
    "    def dewpoint(self):\n",
    "        return self.data['properties']['dewpoint']['value']\n",
    "\n",
    "    @property\n",
    "    def wind(self):\n",
    "        return \"{direction}{speed}KT\".format(\n",
    "            direction=self.data['properties']['windDirection']['value'],\n",
    "            speed=self.data['properties']['windSpeed']['value']\n",
    "        )"
   ]
  },
  {
   "cell_type": "code",
   "execution_count": 73,
   "metadata": {},
   "outputs": [],
   "source": [
    "krdu = METAR(\"krdu\")"
   ]
  },
  {
   "cell_type": "code",
   "execution_count": 74,
   "metadata": {},
   "outputs": [
    {
     "name": "stdout",
     "output_type": "stream",
     "text": [
      "Getting METAR for KRDU\n"
     ]
    },
    {
     "data": {
      "text/plain": [
       "'KRDU 031251Z 03004KT 10SM FEW060 SCT250 11/07 A3038 RMK AO2 SLP289 T01060072 $'"
      ]
     },
     "execution_count": 74,
     "metadata": {},
     "output_type": "execute_result"
    }
   ],
   "source": [
    "krdu.raw"
   ]
  },
  {
   "cell_type": "code",
   "execution_count": 75,
   "metadata": {},
   "outputs": [
    {
     "data": {
      "text/plain": [
       "'307.56KT'"
      ]
     },
     "execution_count": 75,
     "metadata": {},
     "output_type": "execute_result"
    }
   ],
   "source": [
    "krdu.wind"
   ]
  },
  {
   "cell_type": "code",
   "execution_count": 76,
   "metadata": {},
   "outputs": [],
   "source": [
    "from urllib.request import urlopen\n",
    "\n",
    "def get_site_status(url):\n",
    "    try:\n",
    "        return urlopen(url).getcode()\n",
    "    except:\n",
    "        return"
   ]
  },
  {
   "cell_type": "code",
   "execution_count": 77,
   "metadata": {},
   "outputs": [
    {
     "data": {
      "text/plain": [
       "200"
      ]
     },
     "execution_count": 77,
     "metadata": {},
     "output_type": "execute_result"
    }
   ],
   "source": [
    "get_site_status(\"https://google.com\")"
   ]
  },
  {
   "cell_type": "code",
   "execution_count": 79,
   "metadata": {},
   "outputs": [
    {
     "data": {
      "text/plain": [
       "200"
      ]
     },
     "execution_count": 79,
     "metadata": {},
     "output_type": "execute_result"
    }
   ],
   "source": [
    "get_site_status(\"https://facebook.com\")"
   ]
  },
  {
   "cell_type": "code",
   "execution_count": 80,
   "metadata": {},
   "outputs": [],
   "source": [
    "from functools import partial\n",
    "\n",
    "get_google_status = partial(get_site_status, \"https://google.com\")"
   ]
  },
  {
   "cell_type": "code",
   "execution_count": 82,
   "metadata": {},
   "outputs": [
    {
     "data": {
      "text/plain": [
       "200"
      ]
     },
     "execution_count": 82,
     "metadata": {},
     "output_type": "execute_result"
    }
   ],
   "source": [
    "get_google_status()"
   ]
  },
  {
   "cell_type": "code",
   "execution_count": 87,
   "metadata": {},
   "outputs": [],
   "source": [
    "from functools import partialmethod\n",
    "class VMManager:\n",
    "    def toggle_power(self, to_state):\n",
    "        if to_state == \"on\":\n",
    "            print(\"Powering on VM\")\n",
    "        elif to_state == \"off\":\n",
    "            print(\"Powering off VM\")\n",
    "\n",
    "    power_on = partialmethod(toggle_power, \"on\")\n",
    "    power_off = partialmethod(toggle_power, \"off\")"
   ]
  },
  {
   "cell_type": "code",
   "execution_count": 88,
   "metadata": {},
   "outputs": [
    {
     "name": "stdout",
     "output_type": "stream",
     "text": [
      "Powering on VM\n"
     ]
    }
   ],
   "source": [
    "vm = VMManager()\n",
    "\n",
    "vm.power_on()"
   ]
  },
  {
   "cell_type": "code",
   "execution_count": 89,
   "metadata": {},
   "outputs": [
    {
     "name": "stdout",
     "output_type": "stream",
     "text": [
      "Powering off VM\n"
     ]
    }
   ],
   "source": [
    "vm.power_off()"
   ]
  },
  {
   "cell_type": "code",
   "execution_count": 90,
   "metadata": {},
   "outputs": [
    {
     "name": "stdout",
     "output_type": "stream",
     "text": [
      "\u001b[0;31mDocstring:\u001b[0m\n",
      "reduce(function, iterable[, initial]) -> value\n",
      "\n",
      "Apply a function of two arguments cumulatively to the items of a sequence\n",
      "or iterable, from left to right, so as to reduce the iterable to a single\n",
      "value.  For example, reduce(lambda x, y: x+y, [1, 2, 3, 4, 5]) calculates\n",
      "((((1+2)+3)+4)+5).  If initial is present, it is placed before the items\n",
      "of the iterable in the calculation, and serves as a default when the\n",
      "iterable is empty.\n",
      "\u001b[0;31mType:\u001b[0m      builtin_function_or_method"
     ]
    }
   ],
   "source": [
    "from functools import reduce\n",
    "\n",
    "reduce?"
   ]
  },
  {
   "cell_type": "code",
   "execution_count": 93,
   "metadata": {},
   "outputs": [],
   "source": [
    "def multiply(num1, num2):\n",
    "    print(f\"Multiplying {num1=} by {num2=}\")\n",
    "    return num1*num2"
   ]
  },
  {
   "cell_type": "code",
   "execution_count": 94,
   "metadata": {},
   "outputs": [
    {
     "name": "stdout",
     "output_type": "stream",
     "text": [
      "Multiplying num1=1 by num2=2\n",
      "Multiplying num1=2 by num2=3\n",
      "Multiplying num1=6 by num2=4\n"
     ]
    },
    {
     "data": {
      "text/plain": [
       "24"
      ]
     },
     "execution_count": 94,
     "metadata": {},
     "output_type": "execute_result"
    }
   ],
   "source": [
    "reduce(multiply, range(1,5))"
   ]
  },
  {
   "cell_type": "code",
   "execution_count": 95,
   "metadata": {},
   "outputs": [
    {
     "name": "stdout",
     "output_type": "stream",
     "text": [
      "Multiplying num1=1 by num2=2\n",
      "Multiplying num1=2 by num2=3\n",
      "Multiplying num1=6 by num2=4\n",
      "Multiplying num1=24 by num2=5\n",
      "Multiplying num1=120 by num2=6\n",
      "Multiplying num1=720 by num2=7\n",
      "Multiplying num1=5040 by num2=8\n",
      "Multiplying num1=40320 by num2=9\n",
      "Multiplying num1=362880 by num2=10\n",
      "Multiplying num1=3628800 by num2=11\n",
      "Multiplying num1=39916800 by num2=12\n",
      "Multiplying num1=479001600 by num2=13\n",
      "Multiplying num1=6227020800 by num2=14\n",
      "Multiplying num1=87178291200 by num2=15\n",
      "Multiplying num1=1307674368000 by num2=16\n",
      "Multiplying num1=20922789888000 by num2=17\n",
      "Multiplying num1=355687428096000 by num2=18\n",
      "Multiplying num1=6402373705728000 by num2=19\n"
     ]
    },
    {
     "data": {
      "text/plain": [
       "121645100408832000"
      ]
     },
     "execution_count": 95,
     "metadata": {},
     "output_type": "execute_result"
    }
   ],
   "source": [
    "factorial = partial(reduce, multiply)\n",
    "factorial(range(1, 20))"
   ]
  },
  {
   "cell_type": "code",
   "execution_count": 110,
   "metadata": {},
   "outputs": [],
   "source": [
    "def print_time(f):\n",
    "    def wrapper(*args, **kwargs):\n",
    "        start_time = time.time()\n",
    "        result = f(*args, **kwargs)\n",
    "        print(f\"Function {f.__name__} took {time.time() - start_time:.2f} seconds to execute\")\n",
    "        return result\n",
    "    return wrapper\n",
    "\n",
    "def perfect_function():\n",
    "    \"\"\"This is a perfect docstring.\"\"\"\n",
    "    time.sleep(1)\n",
    "    print(\"Finished being perfect\")"
   ]
  },
  {
   "cell_type": "code",
   "execution_count": 111,
   "metadata": {},
   "outputs": [
    {
     "data": {
      "text/plain": [
       "'This is a perfect docstring.'"
      ]
     },
     "execution_count": 111,
     "metadata": {},
     "output_type": "execute_result"
    }
   ],
   "source": [
    "perfect_function.__doc__"
   ]
  },
  {
   "cell_type": "code",
   "execution_count": 112,
   "metadata": {},
   "outputs": [
    {
     "data": {
      "text/plain": [
       "'perfect_function'"
      ]
     },
     "execution_count": 112,
     "metadata": {},
     "output_type": "execute_result"
    }
   ],
   "source": [
    "perfect_function.__name__"
   ]
  },
  {
   "cell_type": "code",
   "execution_count": 113,
   "metadata": {},
   "outputs": [],
   "source": [
    "perfect_function = print_time(perfect_function)"
   ]
  },
  {
   "cell_type": "code",
   "execution_count": 114,
   "metadata": {},
   "outputs": [
    {
     "data": {
      "text/plain": [
       "<function __main__.print_time.<locals>.wrapper(*args, **kwargs)>"
      ]
     },
     "execution_count": 114,
     "metadata": {},
     "output_type": "execute_result"
    }
   ],
   "source": [
    "perfect_function"
   ]
  },
  {
   "cell_type": "code",
   "execution_count": 115,
   "metadata": {},
   "outputs": [],
   "source": [
    "perfect_function.__doc__"
   ]
  },
  {
   "cell_type": "code",
   "execution_count": 116,
   "metadata": {},
   "outputs": [
    {
     "data": {
      "text/plain": [
       "'wrapper'"
      ]
     },
     "execution_count": 116,
     "metadata": {},
     "output_type": "execute_result"
    }
   ],
   "source": [
    "perfect_function.__name__"
   ]
  },
  {
   "cell_type": "code",
   "execution_count": 103,
   "metadata": {},
   "outputs": [],
   "source": [
    "decorated = print_time(perfect_function)"
   ]
  },
  {
   "cell_type": "code",
   "execution_count": 104,
   "metadata": {},
   "outputs": [
    {
     "data": {
      "text/plain": [
       "'wrapper'"
      ]
     },
     "execution_count": 104,
     "metadata": {},
     "output_type": "execute_result"
    }
   ],
   "source": [
    "decorated.__name__"
   ]
  },
  {
   "cell_type": "code",
   "execution_count": 119,
   "metadata": {},
   "outputs": [
    {
     "data": {
      "text/plain": [
       "<function __main__.perfect_function()>"
      ]
     },
     "execution_count": 119,
     "metadata": {},
     "output_type": "execute_result"
    }
   ],
   "source": [
    "from functools import update_wrapper\n",
    "\n",
    "def perfect_function():\n",
    "    \"\"\"This is a perfect docstring.\"\"\"\n",
    "    time.sleep(1)\n",
    "    print(\"Finished being perfect\")\n",
    "\n",
    "update_wrapper(decorated, perfect_function)"
   ]
  },
  {
   "cell_type": "code",
   "execution_count": 120,
   "metadata": {},
   "outputs": [
    {
     "data": {
      "text/plain": [
       "'perfect_function'"
      ]
     },
     "execution_count": 120,
     "metadata": {},
     "output_type": "execute_result"
    }
   ],
   "source": [
    "decorated.__name__"
   ]
  },
  {
   "cell_type": "code",
   "execution_count": 121,
   "metadata": {},
   "outputs": [
    {
     "name": "stdout",
     "output_type": "stream",
     "text": [
      "\u001b[0;31mSignature:\u001b[0m\n",
      "\u001b[0mupdate_wrapper\u001b[0m\u001b[0;34m(\u001b[0m\u001b[0;34m\u001b[0m\n",
      "\u001b[0;34m\u001b[0m    \u001b[0mwrapper\u001b[0m\u001b[0;34m,\u001b[0m\u001b[0;34m\u001b[0m\n",
      "\u001b[0;34m\u001b[0m    \u001b[0mwrapped\u001b[0m\u001b[0;34m,\u001b[0m\u001b[0;34m\u001b[0m\n",
      "\u001b[0;34m\u001b[0m    \u001b[0massigned\u001b[0m\u001b[0;34m=\u001b[0m\u001b[0;34m(\u001b[0m\u001b[0;34m'__module__'\u001b[0m\u001b[0;34m,\u001b[0m \u001b[0;34m'__name__'\u001b[0m\u001b[0;34m,\u001b[0m \u001b[0;34m'__qualname__'\u001b[0m\u001b[0;34m,\u001b[0m \u001b[0;34m'__doc__'\u001b[0m\u001b[0;34m,\u001b[0m \u001b[0;34m'__annotations__'\u001b[0m\u001b[0;34m)\u001b[0m\u001b[0;34m,\u001b[0m\u001b[0;34m\u001b[0m\n",
      "\u001b[0;34m\u001b[0m    \u001b[0mupdated\u001b[0m\u001b[0;34m=\u001b[0m\u001b[0;34m(\u001b[0m\u001b[0;34m'__dict__'\u001b[0m\u001b[0;34m,\u001b[0m\u001b[0;34m)\u001b[0m\u001b[0;34m,\u001b[0m\u001b[0;34m\u001b[0m\n",
      "\u001b[0;34m\u001b[0m\u001b[0;34m)\u001b[0m\u001b[0;34m\u001b[0m\u001b[0;34m\u001b[0m\u001b[0m\n",
      "\u001b[0;31mDocstring:\u001b[0m\n",
      "Update a wrapper function to look like the wrapped function\n",
      "\n",
      "wrapper is the function to be updated\n",
      "wrapped is the original function\n",
      "assigned is a tuple naming the attributes assigned directly\n",
      "from the wrapped function to the wrapper function (defaults to\n",
      "functools.WRAPPER_ASSIGNMENTS)\n",
      "updated is a tuple naming the attributes of the wrapper that\n",
      "are updated with the corresponding attribute from the wrapped\n",
      "function (defaults to functools.WRAPPER_UPDATES)\n",
      "\u001b[0;31mFile:\u001b[0m      /Library/Frameworks/Python.framework/Versions/3.10/lib/python3.10/functools.py\n",
      "\u001b[0;31mType:\u001b[0m      function"
     ]
    }
   ],
   "source": [
    "update_wrapper?"
   ]
  },
  {
   "cell_type": "code",
   "execution_count": 122,
   "metadata": {},
   "outputs": [
    {
     "data": {
      "text/plain": [
       "{}"
      ]
     },
     "execution_count": 122,
     "metadata": {},
     "output_type": "execute_result"
    }
   ],
   "source": [
    "perfect_function.__dict__"
   ]
  },
  {
   "cell_type": "code",
   "execution_count": 123,
   "metadata": {},
   "outputs": [],
   "source": [
    "perfect_function.something = \"test\""
   ]
  },
  {
   "cell_type": "code",
   "execution_count": 124,
   "metadata": {},
   "outputs": [
    {
     "data": {
      "text/plain": [
       "'test'"
      ]
     },
     "execution_count": 124,
     "metadata": {},
     "output_type": "execute_result"
    }
   ],
   "source": [
    "perfect_function.something"
   ]
  },
  {
   "cell_type": "code",
   "execution_count": 125,
   "metadata": {},
   "outputs": [
    {
     "data": {
      "text/plain": [
       "{'something': 'test'}"
      ]
     },
     "execution_count": 125,
     "metadata": {},
     "output_type": "execute_result"
    }
   ],
   "source": [
    "perfect_function.__dict__"
   ]
  },
  {
   "cell_type": "code",
   "execution_count": 126,
   "metadata": {},
   "outputs": [
    {
     "ename": "AttributeError",
     "evalue": "'function' object has no attribute 'something'",
     "output_type": "error",
     "traceback": [
      "\u001b[0;31m---------------------------------------------------------------------------\u001b[0m",
      "\u001b[0;31mAttributeError\u001b[0m                            Traceback (most recent call last)",
      "Cell \u001b[0;32mIn[126], line 1\u001b[0m\n\u001b[0;32m----> 1\u001b[0m \u001b[43mdecorated\u001b[49m\u001b[38;5;241;43m.\u001b[39;49m\u001b[43msomething\u001b[49m\n",
      "\u001b[0;31mAttributeError\u001b[0m: 'function' object has no attribute 'something'"
     ]
    }
   ],
   "source": [
    "decorated.something"
   ]
  },
  {
   "cell_type": "code",
   "execution_count": 127,
   "metadata": {},
   "outputs": [
    {
     "data": {
      "text/plain": [
       "<function __main__.perfect_function()>"
      ]
     },
     "execution_count": 127,
     "metadata": {},
     "output_type": "execute_result"
    }
   ],
   "source": [
    "update_wrapper(decorated, perfect_function)"
   ]
  },
  {
   "cell_type": "code",
   "execution_count": 128,
   "metadata": {},
   "outputs": [
    {
     "data": {
      "text/plain": [
       "'test'"
      ]
     },
     "execution_count": 128,
     "metadata": {},
     "output_type": "execute_result"
    }
   ],
   "source": [
    "decorated.something"
   ]
  },
  {
   "cell_type": "code",
   "execution_count": 129,
   "metadata": {},
   "outputs": [],
   "source": [
    "def print_time(f):\n",
    "    def wrapper(*args, **kwargs):\n",
    "        start_time = time.time()\n",
    "        result = f(*args, **kwargs)\n",
    "        print(f\"Function {f.__name__} took {time.time() - start_time:.2f} seconds to execute\")\n",
    "        return result\n",
    "    update_wrapper(wrapper, f)\n",
    "    return wrapper\n",
    "\n",
    "def perfect_function():\n",
    "    \"\"\"This is a perfect docstring.\"\"\"\n",
    "    time.sleep(1)\n",
    "    print(\"Finished being perfect\")"
   ]
  },
  {
   "cell_type": "code",
   "execution_count": null,
   "metadata": {},
   "outputs": [],
   "source": [
    "decorated = print_time(perfect_function)"
   ]
  },
  {
   "cell_type": "code",
   "execution_count": 131,
   "metadata": {},
   "outputs": [
    {
     "data": {
      "text/plain": [
       "'perfect_function'"
      ]
     },
     "execution_count": 131,
     "metadata": {},
     "output_type": "execute_result"
    }
   ],
   "source": [
    "decorated.__name__"
   ]
  },
  {
   "cell_type": "code",
   "execution_count": 140,
   "metadata": {},
   "outputs": [],
   "source": [
    "from functools import wraps\n",
    "\n",
    "def print_time(f):\n",
    "    @wraps(f)\n",
    "    def wrapper(*args, **kwargs):\n",
    "        start_time = time.time()\n",
    "        result = f(*args, **kwargs)\n",
    "        print(f\"Function {f.__name__} took {time.time() - start_time:.2f} seconds to execute\")\n",
    "        return result\n",
    "    return wrapper\n",
    "\n",
    "@print_time\n",
    "def perfect_function():\n",
    "    \"\"\"This is a perfect docstring.\"\"\"\n",
    "    time.sleep(1)\n",
    "    print(\"Finished being perfect\")"
   ]
  },
  {
   "cell_type": "code",
   "execution_count": 141,
   "metadata": {},
   "outputs": [
    {
     "data": {
      "text/plain": [
       "'This is a perfect docstring.'"
      ]
     },
     "execution_count": 141,
     "metadata": {},
     "output_type": "execute_result"
    }
   ],
   "source": [
    "perfect_function.__doc__"
   ]
  },
  {
   "cell_type": "code",
   "execution_count": 142,
   "metadata": {},
   "outputs": [
    {
     "data": {
      "text/plain": [
       "'perfect_function'"
      ]
     },
     "execution_count": 142,
     "metadata": {},
     "output_type": "execute_result"
    }
   ],
   "source": [
    "perfect_function.__name__"
   ]
  },
  {
   "cell_type": "code",
   "execution_count": 143,
   "metadata": {},
   "outputs": [
    {
     "name": "stdout",
     "output_type": "stream",
     "text": [
      "Finished being perfect\n",
      "Function perfect_function took 1.00 seconds to execute\n"
     ]
    }
   ],
   "source": [
    "perfect_function()"
   ]
  },
  {
   "cell_type": "code",
   "execution_count": 149,
   "metadata": {},
   "outputs": [],
   "source": [
    "from functools import singledispatch\n",
    "\n",
    "@singledispatch\n",
    "def handle_error(error):\n",
    "    raise NotImplementedError(\"Can't handle this error type\")"
   ]
  },
  {
   "cell_type": "code",
   "execution_count": 150,
   "metadata": {},
   "outputs": [],
   "source": [
    "@handle_error.register(TypeError)\n",
    "def _(error):\n",
    "    print(\"Handling TypeError\")\n",
    "    print(error)\n",
    "\n",
    "@handle_error.register(ValueError)\n",
    "def _(error):\n",
    "    print(\"Handling ValueError\")\n",
    "    print(error)\n",
    "\n",
    "@handle_error.register(ZeroDivisionError)\n",
    "def _(error):\n",
    "    print(\"Handling ZeroDivisionError\")\n",
    "    print(error)"
   ]
  },
  {
   "cell_type": "code",
   "execution_count": 158,
   "metadata": {},
   "outputs": [
    {
     "name": "stdout",
     "output_type": "stream",
     "text": [
      "Handling TypeError\n",
      "unsupported operand type(s) for +: 'int' and 'str'\n"
     ]
    }
   ],
   "source": [
    "try:\n",
    "    1 + \"1\"\n",
    "except Exception as e:\n",
    "    handle_error(e)"
   ]
  },
  {
   "cell_type": "code",
   "execution_count": 157,
   "metadata": {},
   "outputs": [
    {
     "name": "stdout",
     "output_type": "stream",
     "text": [
      "Handling ValueError\n",
      "invalid literal for int() with base 10: 'a'\n"
     ]
    }
   ],
   "source": [
    "try:\n",
    "    int(\"a\")\n",
    "except Exception as e:\n",
    "    handle_error(e)"
   ]
  },
  {
   "cell_type": "markdown",
   "metadata": {},
   "source": [
    "The following one is a `singledispatch` function use-case created by ChatGPT:"
   ]
  },
  {
   "cell_type": "code",
   "execution_count": 155,
   "metadata": {},
   "outputs": [
    {
     "name": "stdout",
     "output_type": "stream",
     "text": [
      "{\"key\": \"value\"}\n",
      "[\"1\", \"2\", \"3\"]\n",
      "\"Hello, World!\"\n",
      "42\n",
      "{\"name\": \"Alice\", \"age\": 30}\n"
     ]
    }
   ],
   "source": [
    "from functools import singledispatch\n",
    "import json\n",
    "\n",
    "@singledispatch\n",
    "def to_json(data):\n",
    "    raise TypeError(f\"Type {type(data)} not supported\")\n",
    "\n",
    "# Handling dictionaries\n",
    "@to_json.register(dict)\n",
    "def _(data):\n",
    "    return json.dumps(data)\n",
    "\n",
    "# Handling lists\n",
    "@to_json.register(list)\n",
    "def _(data):\n",
    "    return json.dumps([to_json(item) for item in data])\n",
    "\n",
    "# Handling strings\n",
    "@to_json.register(str)\n",
    "def _(data):\n",
    "    return json.dumps(data)\n",
    "\n",
    "# Handling integers and floats\n",
    "@to_json.register(int)\n",
    "@to_json.register(float)\n",
    "def _(data):\n",
    "    return json.dumps(data)\n",
    "\n",
    "# Custom class handling (for example, serializing objects with specific attributes)\n",
    "class Person:\n",
    "    def __init__(self, name, age):\n",
    "        self.name = name\n",
    "        self.age = age\n",
    "\n",
    "@to_json.register(Person)\n",
    "def _(person):\n",
    "    return json.dumps({\"name\": person.name, \"age\": person.age})\n",
    "\n",
    "# Usage examples\n",
    "print(to_json({\"key\": \"value\"}))             # {\"key\": \"value\"}\n",
    "print(to_json([1, 2, 3]))                    # [1, 2, 3]\n",
    "print(to_json(\"Hello, World!\"))              # \"Hello, World!\"\n",
    "print(to_json(42))                           # 42\n",
    "print(to_json(Person(\"Alice\", 30)))          # {\"name\": \"Alice\", \"age\": 30}"
   ]
  },
  {
   "cell_type": "code",
   "execution_count": 189,
   "metadata": {},
   "outputs": [],
   "source": [
    "from functools import singledispatchmethod\n",
    "\n",
    "class MyNum:\n",
    "    def __init__(self, num):\n",
    "        self.num = num\n",
    "    \n",
    "    @singledispatchmethod\n",
    "    def add_it(self, another):\n",
    "        raise NotImplemented(\"Can't add these two things!\")\n",
    "    \n",
    "    @add_it.register(int)\n",
    "    def _(self, another):\n",
    "        self.num += another\n",
    "    \n",
    "    @add_it.register(str)\n",
    "    def _(self, another):\n",
    "        self.num += int(another)\n",
    "\n",
    "    @add_it.register(list)\n",
    "    def _(self, another):\n",
    "        for item in another:\n",
    "            self.add_it(item)"
   ]
  },
  {
   "cell_type": "code",
   "execution_count": 191,
   "metadata": {},
   "outputs": [
    {
     "data": {
      "text/plain": [
       "5"
      ]
     },
     "execution_count": 191,
     "metadata": {},
     "output_type": "execute_result"
    }
   ],
   "source": [
    "the_num = MyNum(5)\n",
    "the_num.num"
   ]
  },
  {
   "cell_type": "code",
   "execution_count": 192,
   "metadata": {},
   "outputs": [
    {
     "data": {
      "text/plain": [
       "18"
      ]
     },
     "execution_count": 192,
     "metadata": {},
     "output_type": "execute_result"
    }
   ],
   "source": [
    "the_num.add_it(13)\n",
    "the_num.num"
   ]
  },
  {
   "cell_type": "code",
   "execution_count": 193,
   "metadata": {},
   "outputs": [
    {
     "data": {
      "text/plain": [
       "25"
      ]
     },
     "execution_count": 193,
     "metadata": {},
     "output_type": "execute_result"
    }
   ],
   "source": [
    "the_num.add_it(\"7\")\n",
    "the_num.num"
   ]
  },
  {
   "cell_type": "code",
   "execution_count": 194,
   "metadata": {},
   "outputs": [
    {
     "data": {
      "text/plain": [
       "31"
      ]
     },
     "execution_count": 194,
     "metadata": {},
     "output_type": "execute_result"
    }
   ],
   "source": [
    "the_num.add_it([1, \"2\", 3])\n",
    "the_num.num"
   ]
  },
  {
   "cell_type": "code",
   "execution_count": 195,
   "metadata": {},
   "outputs": [],
   "source": [
    "class BadInt:\n",
    "    def __init__(self, value):\n",
    "        self.value = value\n",
    "\n",
    "    def __eq__(self, other):\n",
    "        if isinstance(other, int | BadInt):\n",
    "            return len(str(self.value)) == len(str(other))\n",
    "        return NotImplemented\n",
    "        \n",
    "    def __lt__(self, other):\n",
    "        if isinstance(other, int | BadInt):\n",
    "            return len(str(self.value)) < len(str(other))\n",
    "        return NotImplemented"
   ]
  },
  {
   "cell_type": "code",
   "execution_count": 196,
   "metadata": {},
   "outputs": [
    {
     "data": {
      "text/plain": [
       "True"
      ]
     },
     "execution_count": 196,
     "metadata": {},
     "output_type": "execute_result"
    }
   ],
   "source": [
    "five = BadInt(5)\n",
    "five == 7"
   ]
  },
  {
   "cell_type": "code",
   "execution_count": 197,
   "metadata": {},
   "outputs": [
    {
     "ename": "TypeError",
     "evalue": "'>' not supported between instances of 'BadInt' and 'int'",
     "output_type": "error",
     "traceback": [
      "\u001b[0;31m---------------------------------------------------------------------------\u001b[0m",
      "\u001b[0;31mTypeError\u001b[0m                                 Traceback (most recent call last)",
      "Cell \u001b[0;32mIn[197], line 1\u001b[0m\n\u001b[0;32m----> 1\u001b[0m \u001b[43mfive\u001b[49m\u001b[43m \u001b[49m\u001b[38;5;241;43m>\u001b[39;49m\u001b[43m \u001b[49m\u001b[38;5;241;43m15\u001b[39;49m\n",
      "\u001b[0;31mTypeError\u001b[0m: '>' not supported between instances of 'BadInt' and 'int'"
     ]
    }
   ],
   "source": [
    "five > 15"
   ]
  },
  {
   "cell_type": "code",
   "execution_count": 198,
   "metadata": {},
   "outputs": [],
   "source": [
    "from functools import total_ordering\n",
    "\n",
    "@total_ordering\n",
    "class BadInt:\n",
    "    def __init__(self, value):\n",
    "        self.value = value\n",
    "\n",
    "    def __eq__(self, other):\n",
    "        if isinstance(other, int | BadInt):\n",
    "            return len(str(self.value)) == len(str(other))\n",
    "        return NotImplemented\n",
    "        \n",
    "    def __lt__(self, other):\n",
    "        if isinstance(other, int | BadInt):\n",
    "            return len(str(self.value)) < len(str(other))\n",
    "        return NotImplemented"
   ]
  },
  {
   "cell_type": "code",
   "execution_count": 199,
   "metadata": {},
   "outputs": [],
   "source": [
    "five = BadInt(5)"
   ]
  },
  {
   "cell_type": "code",
   "execution_count": 200,
   "metadata": {},
   "outputs": [
    {
     "data": {
      "text/plain": [
       "False"
      ]
     },
     "execution_count": 200,
     "metadata": {},
     "output_type": "execute_result"
    }
   ],
   "source": [
    "5 > 15"
   ]
  },
  {
   "cell_type": "code",
   "execution_count": 201,
   "metadata": {},
   "outputs": [],
   "source": [
    "bnw = (\"Brave New World\", \"Aldous Huxley\", 1931)"
   ]
  },
  {
   "cell_type": "code",
   "execution_count": null,
   "metadata": {},
   "outputs": [],
   "source": [
    "author = bnw[1]"
   ]
  },
  {
   "cell_type": "code",
   "execution_count": 202,
   "metadata": {},
   "outputs": [],
   "source": [
    "from collections import namedtuple\n",
    "\n",
    "Book = namedtuple(\"Book\", [\"title\", \"author\", \"year\"])\n",
    "\n",
    "bnw = Book(\"Brave New World\", \"Aldous Huxley\", 1931)"
   ]
  },
  {
   "cell_type": "code",
   "execution_count": 204,
   "metadata": {},
   "outputs": [
    {
     "data": {
      "text/plain": [
       "'Aldous Huxley'"
      ]
     },
     "execution_count": 204,
     "metadata": {},
     "output_type": "execute_result"
    }
   ],
   "source": [
    "bnw.author"
   ]
  },
  {
   "cell_type": "code",
   "execution_count": 205,
   "metadata": {},
   "outputs": [
    {
     "data": {
      "text/plain": [
       "'Brave New World'"
      ]
     },
     "execution_count": 205,
     "metadata": {},
     "output_type": "execute_result"
    }
   ],
   "source": [
    "bnw.title"
   ]
  },
  {
   "cell_type": "code",
   "execution_count": 206,
   "metadata": {},
   "outputs": [
    {
     "data": {
      "text/plain": [
       "1931"
      ]
     },
     "execution_count": 206,
     "metadata": {},
     "output_type": "execute_result"
    }
   ],
   "source": [
    "bnw.year"
   ]
  },
  {
   "cell_type": "code",
   "execution_count": 207,
   "metadata": {},
   "outputs": [
    {
     "data": {
      "text/plain": [
       "{'title': 'Brave New World', 'author': 'Aldous Huxley', 'year': 1931}"
      ]
     },
     "execution_count": 207,
     "metadata": {},
     "output_type": "execute_result"
    }
   ],
   "source": [
    "bnw._asdict()"
   ]
  },
  {
   "cell_type": "code",
   "execution_count": 208,
   "metadata": {},
   "outputs": [],
   "source": [
    "from collections import deque\n",
    "\n",
    "dq = deque((3,4,5))"
   ]
  },
  {
   "cell_type": "code",
   "execution_count": 209,
   "metadata": {},
   "outputs": [],
   "source": [
    "dq.append(6)\n",
    "dq.appendleft(2)"
   ]
  },
  {
   "cell_type": "code",
   "execution_count": 210,
   "metadata": {},
   "outputs": [
    {
     "data": {
      "text/plain": [
       "deque([2, 3, 4, 5, 6])"
      ]
     },
     "execution_count": 210,
     "metadata": {},
     "output_type": "execute_result"
    }
   ],
   "source": [
    "dq"
   ]
  },
  {
   "cell_type": "code",
   "execution_count": 213,
   "metadata": {},
   "outputs": [
    {
     "data": {
      "text/plain": [
       "2"
      ]
     },
     "execution_count": 213,
     "metadata": {},
     "output_type": "execute_result"
    }
   ],
   "source": [
    "dq.pop()\n",
    "dq.popleft()"
   ]
  },
  {
   "cell_type": "code",
   "execution_count": 214,
   "metadata": {},
   "outputs": [
    {
     "data": {
      "text/plain": [
       "deque([3, 4, 5])"
      ]
     },
     "execution_count": 214,
     "metadata": {},
     "output_type": "execute_result"
    }
   ],
   "source": [
    "dq"
   ]
  },
  {
   "cell_type": "code",
   "execution_count": 221,
   "metadata": {},
   "outputs": [],
   "source": [
    "def is_palindrome(word):\n",
    "    dq = deque(word)\n",
    "    while len(dq) > 1:\n",
    "        if dq.popleft() != dq.pop():\n",
    "            return False\n",
    "    return True"
   ]
  },
  {
   "cell_type": "code",
   "execution_count": 222,
   "metadata": {},
   "outputs": [
    {
     "data": {
      "text/plain": [
       "True"
      ]
     },
     "execution_count": 222,
     "metadata": {},
     "output_type": "execute_result"
    }
   ],
   "source": [
    "is_palindrome(\"racecar\")"
   ]
  },
  {
   "cell_type": "code",
   "execution_count": 223,
   "metadata": {},
   "outputs": [
    {
     "data": {
      "text/plain": [
       "False"
      ]
     },
     "execution_count": 223,
     "metadata": {},
     "output_type": "execute_result"
    }
   ],
   "source": [
    "is_palindrome(\"alphabet\")"
   ]
  },
  {
   "cell_type": "code",
   "execution_count": 228,
   "metadata": {},
   "outputs": [
    {
     "data": {
      "text/plain": [
       "'r'"
      ]
     },
     "execution_count": 228,
     "metadata": {},
     "output_type": "execute_result"
    }
   ],
   "source": [
    "deque(\"racecar\").pop()"
   ]
  },
  {
   "cell_type": "code",
   "execution_count": 226,
   "metadata": {},
   "outputs": [
    {
     "data": {
      "text/plain": [
       "'r'"
      ]
     },
     "execution_count": 226,
     "metadata": {},
     "output_type": "execute_result"
    }
   ],
   "source": [
    "deque(\"racecar\").popleft()"
   ]
  },
  {
   "cell_type": "code",
   "execution_count": 239,
   "metadata": {},
   "outputs": [
    {
     "data": {
      "text/plain": [
       "Counter({'l': 3,\n",
       "         'o': 2,\n",
       "         'H': 1,\n",
       "         'e': 1,\n",
       "         ' ': 1,\n",
       "         'w': 1,\n",
       "         'r': 1,\n",
       "         'd': 1,\n",
       "         '!': 1})"
      ]
     },
     "execution_count": 239,
     "metadata": {},
     "output_type": "execute_result"
    }
   ],
   "source": [
    "from collections import Counter\n",
    "\n",
    "count = Counter(\"Hello world!\")\n",
    "count"
   ]
  },
  {
   "cell_type": "code",
   "execution_count": 242,
   "metadata": {},
   "outputs": [
    {
     "data": {
      "text/plain": [
       "Counter({'Hello': 1, 'world!': 1})"
      ]
     },
     "execution_count": 242,
     "metadata": {},
     "output_type": "execute_result"
    }
   ],
   "source": [
    "count = Counter(\"Hello world!\".split())\n",
    "count"
   ]
  },
  {
   "cell_type": "code",
   "execution_count": 244,
   "metadata": {},
   "outputs": [
    {
     "data": {
      "text/plain": [
       "['H',\n",
       " 'e',\n",
       " 'e',\n",
       " 'e',\n",
       " 'l',\n",
       " 'l',\n",
       " 'l',\n",
       " 'o',\n",
       " 'o',\n",
       " 'o',\n",
       " ' ',\n",
       " ' ',\n",
       " ' ',\n",
       " ' ',\n",
       " ' ',\n",
       " 'w',\n",
       " 'r',\n",
       " 'd',\n",
       " ',',\n",
       " 'm',\n",
       " 'm',\n",
       " 'm',\n",
       " 'y',\n",
       " 'n',\n",
       " 'n',\n",
       " 'a',\n",
       " 'i',\n",
       " 'i',\n",
       " 's',\n",
       " 'S']"
      ]
     },
     "execution_count": 244,
     "metadata": {},
     "output_type": "execute_result"
    }
   ],
   "source": [
    "count = Counter(\"Hello world, my name is Simone\")\n",
    "list(count.elements())"
   ]
  },
  {
   "cell_type": "code",
   "execution_count": 245,
   "metadata": {},
   "outputs": [
    {
     "data": {
      "text/plain": [
       "['x', 'x', 'x', 'x', 'x', 'x', 'x', 'x', 'x', 'x']"
      ]
     },
     "execution_count": 245,
     "metadata": {},
     "output_type": "execute_result"
    }
   ],
   "source": [
    "list(Counter(x=10).elements())"
   ]
  },
  {
   "cell_type": "code",
   "execution_count": 246,
   "metadata": {},
   "outputs": [
    {
     "data": {
      "text/plain": [
       "[(' ', 5), ('e', 3), ('l', 3)]"
      ]
     },
     "execution_count": 246,
     "metadata": {},
     "output_type": "execute_result"
    }
   ],
   "source": [
    "count.most_common(3)"
   ]
  },
  {
   "cell_type": "code",
   "execution_count": 247,
   "metadata": {},
   "outputs": [
    {
     "data": {
      "text/plain": [
       "30"
      ]
     },
     "execution_count": 247,
     "metadata": {},
     "output_type": "execute_result"
    }
   ],
   "source": [
    "count.total()"
   ]
  },
  {
   "cell_type": "code",
   "execution_count": 249,
   "metadata": {},
   "outputs": [
    {
     "data": {
      "text/plain": [
       "{'orange': 1, 'apple': 3, 'watermelon': 2, 'grape': 1}"
      ]
     },
     "execution_count": 249,
     "metadata": {},
     "output_type": "execute_result"
    }
   ],
   "source": [
    "word_list = [\"orange\", \"apple\", \"watermelon\", \"apple\", \"watermelon\", \"grape\", \"apple\"]\n",
    "\n",
    "counter = {}\n",
    "for word in word_list:\n",
    "    if word in counter:\n",
    "        counter[word] +=1\n",
    "    else:\n",
    "        counter[word] = 1\n",
    "\n",
    "counter"
   ]
  },
  {
   "cell_type": "code",
   "execution_count": 250,
   "metadata": {},
   "outputs": [
    {
     "data": {
      "text/plain": [
       "defaultdict(int, {})"
      ]
     },
     "execution_count": 250,
     "metadata": {},
     "output_type": "execute_result"
    }
   ],
   "source": [
    "from collections import defaultdict\n",
    "\n",
    "ct = defaultdict(int)\n",
    "ct"
   ]
  },
  {
   "cell_type": "code",
   "execution_count": 251,
   "metadata": {},
   "outputs": [
    {
     "data": {
      "text/plain": [
       "0"
      ]
     },
     "execution_count": 251,
     "metadata": {},
     "output_type": "execute_result"
    }
   ],
   "source": [
    "ct[\"apple\"]"
   ]
  },
  {
   "cell_type": "code",
   "execution_count": 252,
   "metadata": {},
   "outputs": [
    {
     "data": {
      "text/plain": [
       "defaultdict(int, {'apple': 0})"
      ]
     },
     "execution_count": 252,
     "metadata": {},
     "output_type": "execute_result"
    }
   ],
   "source": [
    "ct"
   ]
  },
  {
   "cell_type": "code",
   "execution_count": 253,
   "metadata": {},
   "outputs": [],
   "source": [
    "ct[\"grape\"] += 1"
   ]
  },
  {
   "cell_type": "code",
   "execution_count": 254,
   "metadata": {},
   "outputs": [
    {
     "data": {
      "text/plain": [
       "defaultdict(int, {'apple': 0, 'grape': 1})"
      ]
     },
     "execution_count": 254,
     "metadata": {},
     "output_type": "execute_result"
    }
   ],
   "source": [
    "ct"
   ]
  },
  {
   "cell_type": "code",
   "execution_count": 255,
   "metadata": {},
   "outputs": [
    {
     "data": {
      "text/plain": [
       "defaultdict(int, {'orange': 1, 'apple': 3, 'watermelon': 2, 'grape': 1})"
      ]
     },
     "execution_count": 255,
     "metadata": {},
     "output_type": "execute_result"
    }
   ],
   "source": [
    "word_list = [\"orange\", \"apple\", \"watermelon\", \"apple\", \"watermelon\", \"grape\", \"apple\"]\n",
    "\n",
    "counter = defaultdict(int)\n",
    "for word in word_list:\n",
    "        counter[word] +=1\n",
    "\n",
    "counter"
   ]
  },
  {
   "cell_type": "code",
   "execution_count": 256,
   "metadata": {},
   "outputs": [],
   "source": [
    "from collections import OrderedDict\n",
    "\n",
    "tasks = [\n",
    "    (\"Task 1\", \"To do\"),\n",
    "    (\"Task 2\", \"To do\"),\n",
    "    (\"Task 3\", \"To do\")\n",
    "]\n",
    "\n",
    "task_dict = OrderedDict(tasks)"
   ]
  },
  {
   "cell_type": "code",
   "execution_count": 258,
   "metadata": {},
   "outputs": [],
   "source": [
    "task_dict[\"Task 2\"] = \"Complete\""
   ]
  },
  {
   "cell_type": "code",
   "execution_count": 259,
   "metadata": {},
   "outputs": [],
   "source": [
    "task_dict.move_to_end(\"Task 2\")"
   ]
  },
  {
   "cell_type": "code",
   "execution_count": 260,
   "metadata": {},
   "outputs": [
    {
     "data": {
      "text/plain": [
       "OrderedDict([('Task 1', 'To do'), ('Task 3', 'To do'), ('Task 2', 'Complete')])"
      ]
     },
     "execution_count": 260,
     "metadata": {},
     "output_type": "execute_result"
    }
   ],
   "source": [
    "task_dict"
   ]
  },
  {
   "cell_type": "code",
   "execution_count": null,
   "metadata": {},
   "outputs": [],
   "source": [
    "task_dict[\"Task 4\"] = \"To do\"\n",
    "task_dict.move_to_end(\"Task 4\", last=False)"
   ]
  },
  {
   "cell_type": "code",
   "execution_count": 264,
   "metadata": {},
   "outputs": [
    {
     "data": {
      "text/plain": [
       "OrderedDict([('Task 4', 'To do'),\n",
       "             ('Task 1', 'To do'),\n",
       "             ('Task 3', 'To do'),\n",
       "             ('Task 2', 'Complete')])"
      ]
     },
     "execution_count": 264,
     "metadata": {},
     "output_type": "execute_result"
    }
   ],
   "source": [
    "task_dict"
   ]
  },
  {
   "cell_type": "code",
   "execution_count": 265,
   "metadata": {},
   "outputs": [
    {
     "data": {
      "text/plain": [
       "ChainMap({'orange': 1, 'apple': 3, 'watermelon': 2, 'grape': 1}, {'banana': 1, 'apple': 2, 'grape': 1})"
      ]
     },
     "execution_count": 265,
     "metadata": {},
     "output_type": "execute_result"
    }
   ],
   "source": [
    "from collections import ChainMap\n",
    "\n",
    "d1 = {\"orange\": 1, \"apple\": 3, \"watermelon\": 2, \"grape\": 1}\n",
    "d2 = {\"banana\": 1, \"apple\": 2, \"grape\": 1}\n",
    "\n",
    "cm = ChainMap(d1, d2)\n",
    "cm"
   ]
  },
  {
   "cell_type": "code",
   "execution_count": 266,
   "metadata": {},
   "outputs": [
    {
     "data": {
      "text/plain": [
       "3"
      ]
     },
     "execution_count": 266,
     "metadata": {},
     "output_type": "execute_result"
    }
   ],
   "source": [
    "cm[\"apple\"]"
   ]
  },
  {
   "cell_type": "code",
   "execution_count": 267,
   "metadata": {},
   "outputs": [],
   "source": [
    "cm[\"apple\"] = 5"
   ]
  },
  {
   "cell_type": "code",
   "execution_count": 268,
   "metadata": {},
   "outputs": [
    {
     "data": {
      "text/plain": [
       "ChainMap({'orange': 1, 'apple': 5, 'watermelon': 2, 'grape': 1}, {'banana': 1, 'apple': 2, 'grape': 1})"
      ]
     },
     "execution_count": 268,
     "metadata": {},
     "output_type": "execute_result"
    }
   ],
   "source": [
    "cm"
   ]
  },
  {
   "cell_type": "code",
   "execution_count": 269,
   "metadata": {},
   "outputs": [
    {
     "data": {
      "text/plain": [
       "{'orange': 1, 'apple': 5, 'watermelon': 2, 'grape': 1}"
      ]
     },
     "execution_count": 269,
     "metadata": {},
     "output_type": "execute_result"
    }
   ],
   "source": [
    "d1"
   ]
  },
  {
   "cell_type": "code",
   "execution_count": 270,
   "metadata": {},
   "outputs": [
    {
     "data": {
      "text/plain": [
       "{'banana': 1, 'apple': 2, 'grape': 1}"
      ]
     },
     "execution_count": 270,
     "metadata": {},
     "output_type": "execute_result"
    }
   ],
   "source": [
    "d2"
   ]
  },
  {
   "cell_type": "code",
   "execution_count": 301,
   "metadata": {},
   "outputs": [],
   "source": [
    "cm[\"banana\"] = 4"
   ]
  },
  {
   "cell_type": "code",
   "execution_count": 302,
   "metadata": {},
   "outputs": [
    {
     "data": {
      "text/plain": [
       "ChainMap({'orange': 1, 'apple': 5, 'watermelon': 2, 'grape': 1, 'banana': 4}, {'banana': 1, 'apple': 2, 'grape': 1})"
      ]
     },
     "execution_count": 302,
     "metadata": {},
     "output_type": "execute_result"
    }
   ],
   "source": [
    "cm"
   ]
  },
  {
   "cell_type": "code",
   "execution_count": null,
   "metadata": {},
   "outputs": [],
   "source": []
  }
 ],
 "metadata": {
  "kernelspec": {
   "display_name": "myenv",
   "language": "python",
   "name": "python3"
  },
  "language_info": {
   "codemirror_mode": {
    "name": "ipython",
    "version": 3
   },
   "file_extension": ".py",
   "mimetype": "text/x-python",
   "name": "python",
   "nbconvert_exporter": "python",
   "pygments_lexer": "ipython3",
   "version": "3.10.9"
  }
 },
 "nbformat": 4,
 "nbformat_minor": 2
}
