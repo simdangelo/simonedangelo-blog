{
 "cells": [
  {
   "cell_type": "code",
   "execution_count": 37,
   "metadata": {},
   "outputs": [
    {
     "data": {
      "text/plain": [
       "PosixPath('/Users/simonedangelo/Documents/obsidian-blog/content/Python/Python Standard Library Tour (by Jake Callahan)/jupyter_notebooks')"
      ]
     },
     "execution_count": 37,
     "metadata": {},
     "output_type": "execute_result"
    }
   ],
   "source": [
    "import pathlib\n",
    "\n",
    "pwd = pathlib.Path.cwd()\n",
    "pwd"
   ]
  },
  {
   "cell_type": "code",
   "execution_count": 38,
   "metadata": {},
   "outputs": [
    {
     "data": {
      "text/plain": [
       "PosixPath('.')"
      ]
     },
     "execution_count": 38,
     "metadata": {},
     "output_type": "execute_result"
    }
   ],
   "source": [
    "curr = pathlib.Path()\n",
    "curr"
   ]
  },
  {
   "cell_type": "code",
   "execution_count": 39,
   "metadata": {},
   "outputs": [
    {
     "data": {
      "text/plain": [
       "('/',\n",
       " 'Users',\n",
       " 'simonedangelo',\n",
       " 'Documents',\n",
       " 'obsidian-blog',\n",
       " 'content',\n",
       " 'Python',\n",
       " 'Python Standard Library Tour (by Jake Callahan)',\n",
       " 'jupyter_notebooks')"
      ]
     },
     "execution_count": 39,
     "metadata": {},
     "output_type": "execute_result"
    }
   ],
   "source": [
    "pwd.parts"
   ]
  },
  {
   "cell_type": "code",
   "execution_count": 40,
   "metadata": {},
   "outputs": [
    {
     "data": {
      "text/plain": [
       "()"
      ]
     },
     "execution_count": 40,
     "metadata": {},
     "output_type": "execute_result"
    }
   ],
   "source": [
    "curr.parts"
   ]
  },
  {
   "cell_type": "code",
   "execution_count": 41,
   "metadata": {},
   "outputs": [
    {
     "data": {
      "text/plain": [
       "PosixPath('/Users/simonedangelo/Documents/obsidian-blog/content/Python/Python Standard Library Tour (by Jake Callahan)/jupyter_notebooks')"
      ]
     },
     "execution_count": 41,
     "metadata": {},
     "output_type": "execute_result"
    }
   ],
   "source": [
    "curr.absolute()"
   ]
  },
  {
   "cell_type": "code",
   "execution_count": 42,
   "metadata": {},
   "outputs": [
    {
     "data": {
      "text/plain": [
       "('/',\n",
       " 'Users',\n",
       " 'simonedangelo',\n",
       " 'Documents',\n",
       " 'obsidian-blog',\n",
       " 'content',\n",
       " 'Python',\n",
       " 'Python Standard Library Tour (by Jake Callahan)',\n",
       " 'jupyter_notebooks')"
      ]
     },
     "execution_count": 42,
     "metadata": {},
     "output_type": "execute_result"
    }
   ],
   "source": [
    "curr.absolute().parts"
   ]
  },
  {
   "cell_type": "code",
   "execution_count": 43,
   "metadata": {},
   "outputs": [
    {
     "data": {
      "text/plain": [
       "True"
      ]
     },
     "execution_count": 43,
     "metadata": {},
     "output_type": "execute_result"
    }
   ],
   "source": [
    "pwd.exists()"
   ]
  },
  {
   "cell_type": "code",
   "execution_count": 44,
   "metadata": {},
   "outputs": [
    {
     "data": {
      "text/plain": [
       "True"
      ]
     },
     "execution_count": 44,
     "metadata": {},
     "output_type": "execute_result"
    }
   ],
   "source": [
    "pwd.is_dir()"
   ]
  },
  {
   "cell_type": "code",
   "execution_count": 45,
   "metadata": {},
   "outputs": [
    {
     "data": {
      "text/plain": [
       "False"
      ]
     },
     "execution_count": 45,
     "metadata": {},
     "output_type": "execute_result"
    }
   ],
   "source": [
    "pwd.is_file()"
   ]
  },
  {
   "cell_type": "code",
   "execution_count": 46,
   "metadata": {},
   "outputs": [
    {
     "data": {
      "text/plain": [
       "PosixPath('/Users/simonedangelo/Documents/obsidian-blog/content/Python/Python Standard Library Tour (by Jake Callahan)')"
      ]
     },
     "execution_count": 46,
     "metadata": {},
     "output_type": "execute_result"
    }
   ],
   "source": [
    "pwd.parent"
   ]
  },
  {
   "cell_type": "code",
   "execution_count": 47,
   "metadata": {},
   "outputs": [
    {
     "data": {
      "text/plain": [
       "PosixPath('/Users/simonedangelo/Documents/obsidian-blog/content/Python')"
      ]
     },
     "execution_count": 47,
     "metadata": {},
     "output_type": "execute_result"
    }
   ],
   "source": [
    "pwd.parent.parent"
   ]
  },
  {
   "cell_type": "code",
   "execution_count": 48,
   "metadata": {},
   "outputs": [
    {
     "data": {
      "text/plain": [
       "'/'"
      ]
     },
     "execution_count": 48,
     "metadata": {},
     "output_type": "execute_result"
    }
   ],
   "source": [
    "pwd.root"
   ]
  },
  {
   "cell_type": "code",
   "execution_count": 49,
   "metadata": {},
   "outputs": [],
   "source": [
    "up = pwd.parent"
   ]
  },
  {
   "cell_type": "code",
   "execution_count": 50,
   "metadata": {},
   "outputs": [
    {
     "data": {
      "text/plain": [
       "True"
      ]
     },
     "execution_count": 50,
     "metadata": {},
     "output_type": "execute_result"
    }
   ],
   "source": [
    "up < pwd"
   ]
  },
  {
   "cell_type": "code",
   "execution_count": 51,
   "metadata": {},
   "outputs": [
    {
     "data": {
      "text/plain": [
       "False"
      ]
     },
     "execution_count": 51,
     "metadata": {},
     "output_type": "execute_result"
    }
   ],
   "source": [
    "up > pwd"
   ]
  },
  {
   "cell_type": "code",
   "execution_count": 52,
   "metadata": {},
   "outputs": [
    {
     "data": {
      "text/plain": [
       "[PosixPath('/Users/simonedangelo/Documents/obsidian-blog/content/Python/Python Standard Library Tour (by Jake Callahan)/jupyter_notebooks/txt_test.txt'),\n",
       " PosixPath('/Users/simonedangelo/Documents/obsidian-blog/content/Python/Python Standard Library Tour (by Jake Callahan)/jupyter_notebooks/yaml_test.yaml'),\n",
       " PosixPath('/Users/simonedangelo/Documents/obsidian-blog/content/Python/Python Standard Library Tour (by Jake Callahan)/jupyter_notebooks/python_test.py'),\n",
       " PosixPath('/Users/simonedangelo/Documents/obsidian-blog/content/Python/Python Standard Library Tour (by Jake Callahan)/jupyter_notebooks/1. Pathlib.ipynb'),\n",
       " PosixPath('/Users/simonedangelo/Documents/obsidian-blog/content/Python/Python Standard Library Tour (by Jake Callahan)/jupyter_notebooks/folder_test')]"
      ]
     },
     "execution_count": 52,
     "metadata": {},
     "output_type": "execute_result"
    }
   ],
   "source": [
    "children = list(pwd.iterdir())\n",
    "children"
   ]
  },
  {
   "cell_type": "code",
   "execution_count": 53,
   "metadata": {},
   "outputs": [
    {
     "data": {
      "text/plain": [
       "[PosixPath('/Users/simonedangelo/Documents/obsidian-blog/content/Python/Python Standard Library Tour (by Jake Callahan)/jupyter_notebooks/txt_test.txt'),\n",
       " PosixPath('/Users/simonedangelo/Documents/obsidian-blog/content/Python/Python Standard Library Tour (by Jake Callahan)/jupyter_notebooks/yaml_test.yaml'),\n",
       " PosixPath('/Users/simonedangelo/Documents/obsidian-blog/content/Python/Python Standard Library Tour (by Jake Callahan)/jupyter_notebooks/python_test.py'),\n",
       " PosixPath('/Users/simonedangelo/Documents/obsidian-blog/content/Python/Python Standard Library Tour (by Jake Callahan)/jupyter_notebooks/1. Pathlib.ipynb')]"
      ]
     },
     "execution_count": 53,
     "metadata": {},
     "output_type": "execute_result"
    }
   ],
   "source": [
    "child_files = [pth for pth in pwd.iterdir() if pth.is_file()]\n",
    "child_files"
   ]
  },
  {
   "cell_type": "code",
   "execution_count": 54,
   "metadata": {},
   "outputs": [
    {
     "data": {
      "text/plain": [
       "[PosixPath('/Users/simonedangelo/Documents/obsidian-blog/content/Python/Python Standard Library Tour (by Jake Callahan)/jupyter_notebooks/folder_test')]"
      ]
     },
     "execution_count": 54,
     "metadata": {},
     "output_type": "execute_result"
    }
   ],
   "source": [
    "child_dir = [pth for pth in pwd.iterdir() if pth.is_dir()]\n",
    "child_dir"
   ]
  },
  {
   "cell_type": "code",
   "execution_count": 55,
   "metadata": {},
   "outputs": [
    {
     "name": "stdout",
     "output_type": "stream",
     "text": [
      "/Users/simonedangelo/Documents/obsidian-blog/content/Python/Python Standard Library Tour (by Jake Callahan)/jupyter_notebooks/txt_test.txt\n"
     ]
    }
   ],
   "source": [
    "from pathlib import Path\n",
    "\n",
    "def find_text_files(directory: Path):\n",
    "    for item in directory.iterdir():\n",
    "        if item.is_file() and item.suffix == '.txt':  # Check if it's a .txt file\n",
    "            print(item)\n",
    "        elif item.is_dir():  # If it's a directory, recurse into it\n",
    "            find_text_files(item)\n",
    "\n",
    "find_text_files(pwd)"
   ]
  },
  {
   "cell_type": "code",
   "execution_count": 57,
   "metadata": {},
   "outputs": [
    {
     "data": {
      "text/plain": [
       "[PosixPath('/Users/simonedangelo/Documents/obsidian-blog/content/Python/Python Standard Library Tour (by Jake Callahan)/jupyter_notebooks/yaml_test.yaml')]"
      ]
     },
     "execution_count": 57,
     "metadata": {},
     "output_type": "execute_result"
    }
   ],
   "source": [
    "yaml_files = list(pwd.glob(\"*.yaml\"))\n",
    "yaml_files"
   ]
  },
  {
   "cell_type": "code",
   "execution_count": 60,
   "metadata": {},
   "outputs": [
    {
     "data": {
      "text/plain": [
       "PosixPath('/Users/simonedangelo/Documents/obsidian-blog/content/Python/Python Standard Library Tour (by Jake Callahan)/jupyter_notebooks/scripts/test_script.py')"
      ]
     },
     "execution_count": 60,
     "metadata": {},
     "output_type": "execute_result"
    }
   ],
   "source": [
    "new_path = pwd.joinpath(\"scripts\", \"test_script.py\")\n",
    "new_path"
   ]
  },
  {
   "cell_type": "code",
   "execution_count": 61,
   "metadata": {},
   "outputs": [
    {
     "data": {
      "text/plain": [
       "PosixPath('/Users/simonedangelo/Documents/obsidian-blog/content/Python/Python Standard Library Tour (by Jake Callahan)/jupyter_notebooks/scripts/test_script.py')"
      ]
     },
     "execution_count": 61,
     "metadata": {},
     "output_type": "execute_result"
    }
   ],
   "source": [
    "new_path = pwd / \"scripts\" / \"test_script.py\"\n",
    "new_path"
   ]
  },
  {
   "cell_type": "code",
   "execution_count": 62,
   "metadata": {},
   "outputs": [
    {
     "data": {
      "text/plain": [
       "False"
      ]
     },
     "execution_count": 62,
     "metadata": {},
     "output_type": "execute_result"
    }
   ],
   "source": [
    "new_path.is_file()"
   ]
  },
  {
   "cell_type": "code",
   "execution_count": 63,
   "metadata": {},
   "outputs": [
    {
     "data": {
      "text/plain": [
       "False"
      ]
     },
     "execution_count": 63,
     "metadata": {},
     "output_type": "execute_result"
    }
   ],
   "source": [
    "new_path.exists()"
   ]
  },
  {
   "cell_type": "code",
   "execution_count": 64,
   "metadata": {},
   "outputs": [
    {
     "data": {
      "text/plain": [
       "'test_script.py'"
      ]
     },
     "execution_count": 64,
     "metadata": {},
     "output_type": "execute_result"
    }
   ],
   "source": [
    "new_path.name"
   ]
  },
  {
   "cell_type": "code",
   "execution_count": 65,
   "metadata": {},
   "outputs": [
    {
     "data": {
      "text/plain": [
       "'.py'"
      ]
     },
     "execution_count": 65,
     "metadata": {},
     "output_type": "execute_result"
    }
   ],
   "source": [
    "new_path.suffix"
   ]
  },
  {
   "cell_type": "code",
   "execution_count": 66,
   "metadata": {},
   "outputs": [
    {
     "data": {
      "text/plain": [
       "'test_script'"
      ]
     },
     "execution_count": 66,
     "metadata": {},
     "output_type": "execute_result"
    }
   ],
   "source": [
    "new_path.stem"
   ]
  },
  {
   "cell_type": "code",
   "execution_count": 68,
   "metadata": {},
   "outputs": [
    {
     "data": {
      "text/plain": [
       "PosixPath('/Users/simonedangelo/Documents/obsidian-blog/content/Python/Python Standard Library Tour (by Jake Callahan)/jupyter_notebooks/scripts/test_script.sh')"
      ]
     },
     "execution_count": 68,
     "metadata": {},
     "output_type": "execute_result"
    }
   ],
   "source": [
    "new_path = new_path.with_suffix(\".sh\")\n",
    "new_path"
   ]
  },
  {
   "cell_type": "code",
   "execution_count": 69,
   "metadata": {},
   "outputs": [
    {
     "data": {
      "text/plain": [
       "False"
      ]
     },
     "execution_count": 69,
     "metadata": {},
     "output_type": "execute_result"
    }
   ],
   "source": [
    "new_path.parent.exists()"
   ]
  },
  {
   "cell_type": "code",
   "execution_count": 70,
   "metadata": {},
   "outputs": [],
   "source": [
    "new_path.parent.mkdir(parents=True, exist_ok=True)"
   ]
  },
  {
   "cell_type": "code",
   "execution_count": 73,
   "metadata": {},
   "outputs": [
    {
     "data": {
      "text/plain": [
       "True"
      ]
     },
     "execution_count": 73,
     "metadata": {},
     "output_type": "execute_result"
    }
   ],
   "source": [
    "new_path.parent.exists()"
   ]
  },
  {
   "cell_type": "code",
   "execution_count": 74,
   "metadata": {},
   "outputs": [],
   "source": [
    "new_path.touch()"
   ]
  },
  {
   "cell_type": "code",
   "execution_count": 75,
   "metadata": {},
   "outputs": [
    {
     "data": {
      "text/plain": [
       "True"
      ]
     },
     "execution_count": 75,
     "metadata": {},
     "output_type": "execute_result"
    }
   ],
   "source": [
    "new_path.exists()"
   ]
  },
  {
   "cell_type": "code",
   "execution_count": 76,
   "metadata": {},
   "outputs": [
    {
     "data": {
      "text/plain": [
       "True"
      ]
     },
     "execution_count": 76,
     "metadata": {},
     "output_type": "execute_result"
    }
   ],
   "source": [
    "new_path.is_file()"
   ]
  },
  {
   "cell_type": "code",
   "execution_count": 77,
   "metadata": {},
   "outputs": [
    {
     "name": "stdout",
     "output_type": "stream",
     "text": [
      "Hello, world!\n",
      "Goodbye, world!\n"
     ]
    }
   ],
   "source": [
    "import os\n",
    "import shutil\n",
    "\n",
    "# Creates a new directory\n",
    "os.mkdir(\"mydir\")\n",
    "\n",
    "# Creates a new file in the directory\n",
    "with open(\"mydir/myfile.txt\", \"w\") as f:\n",
    "    f.write(\"Hello, world!\")\n",
    "\n",
    "#Read the contents of the file\n",
    "with open(\"mydir/myfile.txt\", \"r\") as f:\n",
    "    print(f.read()) # Hello, world!\n",
    "\n",
    "# Updates the content of the file\n",
    "with open(\"mydir/myfile.txt\", \"w\") as f:\n",
    "    f.write(\"Goodbye, world!\")\n",
    "\n",
    "# Read the contents of the file again\n",
    "with open(\"mydir/myfile.txt\", \"r\") as f:\n",
    "    print(f.read())\n",
    "\n",
    "# Delete the file\n",
    "os.remove(\"mydir/myfile.txt\")\n",
    "\n",
    "# Delete the directory\n",
    "shutil.rmtree(\"mydir\")"
   ]
  },
  {
   "cell_type": "code",
   "execution_count": 78,
   "metadata": {},
   "outputs": [
    {
     "name": "stdout",
     "output_type": "stream",
     "text": [
      "Hello, world!\n",
      "Goodbye, world!\n"
     ]
    }
   ],
   "source": [
    "from pathlib import Path\n",
    "\n",
    "# Creates a new directory\n",
    "my_file = Path(\"mydir/myfile.txt\")\n",
    "my_file.parent.mkdir()\n",
    "\n",
    "# Creates a new file in the directory\n",
    "my_file.write_text(\"Hello, world!\")\n",
    "\n",
    "#Read the contents of the file\n",
    "print(my_file.read_text())\n",
    "\n",
    "# Updates the content of the file\n",
    "my_file.write_text(\"Goodbye, world!\")\n",
    "\n",
    "# Read the contents of the file again\n",
    "print(my_file.read_text())\n",
    "\n",
    "# Delete the file\n",
    "my_file.unlink()\n",
    "\n",
    "# Delete the directory\n",
    "my_file.parent.rmdir()"
   ]
  },
  {
   "cell_type": "code",
   "execution_count": null,
   "metadata": {},
   "outputs": [],
   "source": [
    "def load_file(file, warn=True):\n",
    "    \"\"\"Verify the existence of and load data from json amd yaml files.\"\"\"\n",
    "    file = Path(file)\n",
    "    if not file.exists() or file.suffix not in (\".json\", \".yaml\", \".yml\"):\n",
    "        if warn:\n",
    "            logger.warning(f\"File {file.absolute()} is invalid or does not exists.\")\n",
    "        return []\n",
    "    ..."
   ]
  },
  {
   "cell_type": "code",
   "execution_count": 82,
   "metadata": {},
   "outputs": [
    {
     "data": {
      "text/plain": [
       "PosixPath('/Users/simonedangelo/.broker')"
      ]
     },
     "execution_count": 82,
     "metadata": {},
     "output_type": "execute_result"
    }
   ],
   "source": [
    "Path().home().joinpath(\".broker\")"
   ]
  },
  {
   "cell_type": "code",
   "execution_count": null,
   "metadata": {},
   "outputs": [],
   "source": []
  }
 ],
 "metadata": {
  "kernelspec": {
   "display_name": "myenv",
   "language": "python",
   "name": "python3"
  },
  "language_info": {
   "codemirror_mode": {
    "name": "ipython",
    "version": 3
   },
   "file_extension": ".py",
   "mimetype": "text/x-python",
   "name": "python",
   "nbconvert_exporter": "python",
   "pygments_lexer": "ipython3",
   "version": "3.10.9"
  }
 },
 "nbformat": 4,
 "nbformat_minor": 2
}
