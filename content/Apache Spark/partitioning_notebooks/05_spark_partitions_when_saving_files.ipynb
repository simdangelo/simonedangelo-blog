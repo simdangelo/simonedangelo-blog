{
 "cells": [
  {
   "cell_type": "code",
   "execution_count": 1,
   "metadata": {},
   "outputs": [],
   "source": [
    "from pyspark.sql import SparkSession\n",
    "from pyspark.sql import functions as f"
   ]
  },
  {
   "cell_type": "code",
   "execution_count": 2,
   "metadata": {},
   "outputs": [
    {
     "name": "stderr",
     "output_type": "stream",
     "text": [
      "Setting default log level to \"WARN\".\n",
      "To adjust logging level use sc.setLogLevel(newLevel). For SparkR, use setLogLevel(newLevel).\n",
      "24/12/16 22:32:24 WARN NativeCodeLoader: Unable to load native-hadoop library for your platform... using builtin-java classes where applicable\n"
     ]
    }
   ],
   "source": [
    "spark = SparkSession \\\n",
    "    .builder \\\n",
    "    .appName(\"Data with Nikk the Greek Spark Session\") \\\n",
    "    .master(\"local[4]\") \\\n",
    "    .enableHiveSupport() \\\n",
    "    .getOrCreate()\n",
    "\n",
    "sc = spark.sparkContext"
   ]
  },
  {
   "cell_type": "code",
   "execution_count": 3,
   "metadata": {},
   "outputs": [],
   "source": [
    "#Turning off AQE as it generates more jobs which might be confusing for this scenario here. \n",
    "spark.conf.set(\"spark.sql.adaptive.enabled\", \"false\")\n",
    "#to not cache datafrimes... this may not create repeatable results\n",
    "spark.conf.set(\"spark.databricks.io.cache.enabled\", \"false\")"
   ]
  },
  {
   "cell_type": "code",
   "execution_count": 4,
   "metadata": {},
   "outputs": [],
   "source": [
    "\n",
    "def sdf_generator(num_rows: int, num_partitions: int = None) -> \"DataFrame\":\n",
    "    return (\n",
    "        spark.range(num_rows, numPartitions=num_partitions)\n",
    "        .withColumn(\"date\", f.current_date())\n",
    "        .withColumn(\"timestamp\",f.current_timestamp())\n",
    "        .withColumn(\"idstring\", f.col(\"id\").cast(\"string\"))\n",
    "        .withColumn(\"idfirst\", f.col(\"idstring\").substr(0,1))\n",
    "        .withColumn(\"idlast\", f.col(\"idstring\").substr(-1,1))\n",
    "        )"
   ]
  },
  {
   "cell_type": "code",
   "execution_count": 5,
   "metadata": {},
   "outputs": [
    {
     "data": {
      "text/plain": [
       "20"
      ]
     },
     "execution_count": 5,
     "metadata": {},
     "output_type": "execute_result"
    }
   ],
   "source": [
    "sdf_gen = sdf_generator(20)\n",
    "sdf_gen.count()"
   ]
  },
  {
   "cell_type": "code",
   "execution_count": 6,
   "metadata": {},
   "outputs": [
    {
     "name": "stdout",
     "output_type": "stream",
     "text": [
      "+---+----------+--------------------+--------+-------+------+\n",
      "| id|      date|           timestamp|idstring|idfirst|idlast|\n",
      "+---+----------+--------------------+--------+-------+------+\n",
      "|  0|2024-12-16|2024-12-16 22:32:...|       0|      0|     0|\n",
      "|  1|2024-12-16|2024-12-16 22:32:...|       1|      1|     1|\n",
      "|  2|2024-12-16|2024-12-16 22:32:...|       2|      2|     2|\n",
      "|  3|2024-12-16|2024-12-16 22:32:...|       3|      3|     3|\n",
      "|  4|2024-12-16|2024-12-16 22:32:...|       4|      4|     4|\n",
      "|  5|2024-12-16|2024-12-16 22:32:...|       5|      5|     5|\n",
      "|  6|2024-12-16|2024-12-16 22:32:...|       6|      6|     6|\n",
      "|  7|2024-12-16|2024-12-16 22:32:...|       7|      7|     7|\n",
      "|  8|2024-12-16|2024-12-16 22:32:...|       8|      8|     8|\n",
      "|  9|2024-12-16|2024-12-16 22:32:...|       9|      9|     9|\n",
      "| 10|2024-12-16|2024-12-16 22:32:...|      10|      1|     0|\n",
      "| 11|2024-12-16|2024-12-16 22:32:...|      11|      1|     1|\n",
      "| 12|2024-12-16|2024-12-16 22:32:...|      12|      1|     2|\n",
      "| 13|2024-12-16|2024-12-16 22:32:...|      13|      1|     3|\n",
      "| 14|2024-12-16|2024-12-16 22:32:...|      14|      1|     4|\n",
      "| 15|2024-12-16|2024-12-16 22:32:...|      15|      1|     5|\n",
      "| 16|2024-12-16|2024-12-16 22:32:...|      16|      1|     6|\n",
      "| 17|2024-12-16|2024-12-16 22:32:...|      17|      1|     7|\n",
      "| 18|2024-12-16|2024-12-16 22:32:...|      18|      1|     8|\n",
      "| 19|2024-12-16|2024-12-16 22:32:...|      19|      1|     9|\n",
      "+---+----------+--------------------+--------+-------+------+\n",
      "\n"
     ]
    }
   ],
   "source": [
    "sdf_gen.show()"
   ]
  },
  {
   "cell_type": "code",
   "execution_count": 7,
   "metadata": {},
   "outputs": [],
   "source": [
    "def rows_per_partition(sdf: \"DataFrame\") -> None:\n",
    "    num_rows = sdf.count()\n",
    "    sdf_part = sdf.withColumn(\"partition_id\", f.spark_partition_id())\n",
    "    sdf_part_count = sdf_part.groupBy(\"partition_id\").count()\n",
    "    sdf_part_count = sdf_part_count.withColumn(\"count_perc\", 100*f.col(\"count\")/num_rows)\n",
    "    sdf_part_count.orderBy(\"partition_id\").show()"
   ]
  },
  {
   "cell_type": "code",
   "execution_count": 8,
   "metadata": {},
   "outputs": [],
   "source": [
    "\n",
    "def rows_per_partition_col(sdf: \"DataFrame\", num_rows: int, col: str) -> None:\n",
    "    sdf_part = sdf.withColumn(\"partition_id\", f.spark_partition_id())\n",
    "    sdf_part_count = sdf_part.groupBy(\"partition_id\", col).count()\n",
    "    sdf_part_count = sdf_part_count.withColumn(\"count_perc\", 100*f.col(\"count\")/num_rows)\n",
    "    sdf_part_count.orderBy(\"partition_id\", col).show()"
   ]
  },
  {
   "cell_type": "code",
   "execution_count": 9,
   "metadata": {},
   "outputs": [],
   "source": [
    "base_dir = \"base_dir/\""
   ]
  },
  {
   "cell_type": "code",
   "execution_count": 10,
   "metadata": {},
   "outputs": [],
   "source": [
    "num_rows = 1000000"
   ]
  },
  {
   "cell_type": "markdown",
   "metadata": {},
   "source": [
    "# 1. How many files are written based on the number of partitions"
   ]
  },
  {
   "cell_type": "markdown",
   "metadata": {},
   "source": [
    "* Answer is Easy. Parquet devides the data in multiple snappy files based on the spark partitions. That's how it's able to write those files in parallel\n",
    "* Here you can find details on parquet: https://learncsdesigns.medium.com/understanding-apache-parquet-d722645cfe74"
   ]
  },
  {
   "cell_type": "code",
   "execution_count": 11,
   "metadata": {},
   "outputs": [
    {
     "name": "stdout",
     "output_type": "stream",
     "text": [
      "1\n"
     ]
    },
    {
     "name": "stderr",
     "output_type": "stream",
     "text": [
      "                                                                                \r"
     ]
    }
   ],
   "source": [
    "sdf = sdf_generator(num_rows, 1)\n",
    "print(sdf.rdd.getNumPartitions())\n",
    "sc.setJobDescription(\"Write 1 file\")\n",
    "sdf.write.format(\"parquet\").mode(\"overwrite\").save(f\"{base_dir}/test_1_file.parquet\")\n",
    "sc.setJobDescription(\"None\")"
   ]
  },
  {
   "cell_type": "code",
   "execution_count": 12,
   "metadata": {},
   "outputs": [
    {
     "name": "stdout",
     "output_type": "stream",
     "text": [
      "4\n"
     ]
    }
   ],
   "source": [
    "sdf = sdf_generator(num_rows, 4)\n",
    "print(sdf.rdd.getNumPartitions())\n",
    "sc.setJobDescription(\"Write 4 file\")\n",
    "sdf.write.format(\"parquet\").mode(\"overwrite\").save(f\"{base_dir}/test_4_file.parquet\")\n",
    "sc.setJobDescription(\"None\")"
   ]
  },
  {
   "cell_type": "code",
   "execution_count": 13,
   "metadata": {},
   "outputs": [
    {
     "name": "stdout",
     "output_type": "stream",
     "text": [
      "12\n"
     ]
    }
   ],
   "source": [
    "sdf = sdf_generator(num_rows, 12)\n",
    "print(sdf.rdd.getNumPartitions())\n",
    "sc.setJobDescription(\"Write 12 file\")\n",
    "sdf.write.format(\"parquet\").mode(\"overwrite\").save(f\"{base_dir}/test_12_file.parquet\")\n",
    "sc.setJobDescription(\"None\")"
   ]
  },
  {
   "cell_type": "markdown",
   "metadata": {},
   "source": [
    "# 3. Using coalesce and Repartition to save data"
   ]
  },
  {
   "cell_type": "markdown",
   "metadata": {},
   "source": [
    "* Remember: repartitioning is an expense operation but might be helpfull for following processes.\n",
    "* For going down to one partition repartion(1) can be better than coalesce(1) as all cores are used for the processing step."
   ]
  },
  {
   "cell_type": "code",
   "execution_count": 14,
   "metadata": {},
   "outputs": [
    {
     "name": "stdout",
     "output_type": "stream",
     "text": [
      "4\n"
     ]
    }
   ],
   "source": [
    "sdf = sdf_generator(num_rows, 12)\n",
    "sdf = sdf.coalesce(4)\n",
    "print(sdf.rdd.getNumPartitions())\n",
    "sc.setJobDescription(\"Write with Coalesce 12 to 4 file\")\n",
    "sdf.write.format(\"parquet\").mode(\"overwrite\").save(f\"{base_dir}/test_12_to_4_coalesce_file.parquet\")\n",
    "sc.setJobDescription(\"None\")"
   ]
  },
  {
   "cell_type": "code",
   "execution_count": 15,
   "metadata": {},
   "outputs": [
    {
     "name": "stdout",
     "output_type": "stream",
     "text": [
      "1\n"
     ]
    }
   ],
   "source": [
    "sdf = sdf_generator(num_rows, 12)\n",
    "sdf = sdf.coalesce(1)\n",
    "print(sdf.rdd.getNumPartitions())\n",
    "sc.setJobDescription(\"Write with Coalesce 12 to 1 file\")\n",
    "sdf.write.format(\"parquet\").mode(\"overwrite\").save(f\"{base_dir}/test_12_to_1_coalesce_file.parquet\")\n",
    "sc.setJobDescription(\"None\")"
   ]
  },
  {
   "cell_type": "code",
   "execution_count": 16,
   "metadata": {},
   "outputs": [
    {
     "name": "stdout",
     "output_type": "stream",
     "text": [
      "4\n"
     ]
    }
   ],
   "source": [
    "sdf = sdf_generator(num_rows, 12)\n",
    "sdf = sdf.repartition(4)\n",
    "print(sdf.rdd.getNumPartitions())\n",
    "sc.setJobDescription(\"Write with Repartition 12 to 4 file\")\n",
    "sdf.write.format(\"parquet\").mode(\"overwrite\").save(f\"{base_dir}/test_12_to_4_repartition_file.parquet\")\n",
    "sc.setJobDescription(\"None\")"
   ]
  },
  {
   "cell_type": "code",
   "execution_count": 17,
   "metadata": {},
   "outputs": [
    {
     "name": "stdout",
     "output_type": "stream",
     "text": [
      "1\n"
     ]
    }
   ],
   "source": [
    "sdf = sdf_generator(num_rows, 12)\n",
    "sdf = sdf.repartition(1)\n",
    "print(sdf.rdd.getNumPartitions())\n",
    "sc.setJobDescription(\"Write with Repartition 12 to 1 file\")\n",
    "sdf.write.format(\"parquet\").mode(\"overwrite\").save(f\"{base_dir}/test_12_to_1_repartition_file.parquet\")\n",
    "sc.setJobDescription(\"None\")"
   ]
  },
  {
   "cell_type": "markdown",
   "metadata": {},
   "source": [
    "# 4. Empty partitions problem when writing"
   ]
  },
  {
   "cell_type": "markdown",
   "metadata": {},
   "source": [
    "* Spark is smart enough to only write partitions with actual record/data in it. E.g. after filtering"
   ]
  },
  {
   "cell_type": "code",
   "execution_count": 18,
   "metadata": {},
   "outputs": [
    {
     "name": "stdout",
     "output_type": "stream",
     "text": [
      "20\n"
     ]
    }
   ],
   "source": [
    "sdf = sdf_generator(num_rows, 20)\n",
    "sdf = sdf.filter(f.col(\"id\") < 200)\n",
    "print(sdf.rdd.getNumPartitions())\n",
    "sc.setJobDescription(\"Empty rows\")\n",
    "sdf.write.format(\"parquet\").mode(\"overwrite\").save(f\"{base_dir}/emptyRows.parquet\")\n",
    "sc.setJobDescription(\"None\")"
   ]
  },
  {
   "cell_type": "code",
   "execution_count": 19,
   "metadata": {},
   "outputs": [
    {
     "name": "stdout",
     "output_type": "stream",
     "text": [
      "+------------+-----+----------+\n",
      "|partition_id|count|count_perc|\n",
      "+------------+-----+----------+\n",
      "|           0|  200|     100.0|\n",
      "+------------+-----+----------+\n",
      "\n"
     ]
    }
   ],
   "source": [
    "rows_per_partition(sdf)"
   ]
  },
  {
   "cell_type": "markdown",
   "metadata": {},
   "source": [
    "# 5. Repartitioning by column idfirst"
   ]
  },
  {
   "cell_type": "code",
   "execution_count": 20,
   "metadata": {},
   "outputs": [
    {
     "name": "stdout",
     "output_type": "stream",
     "text": [
      "10\n"
     ]
    }
   ],
   "source": [
    "sdf = sdf_generator(num_rows, 20)\n",
    "sdf = sdf.repartition(10, \"idfirst\")\n",
    "print(sdf.rdd.getNumPartitions())\n",
    "sc.setJobDescription(\"repartition 10 idfirst\")\n",
    "sdf.write.format(\"parquet\").mode(\"overwrite\").save(f\"{base_dir}/repartition_10_idfirst.parquet\")\n",
    "sc.setJobDescription(\"None\")"
   ]
  },
  {
   "cell_type": "code",
   "execution_count": 21,
   "metadata": {},
   "outputs": [
    {
     "name": "stdout",
     "output_type": "stream",
     "text": [
      "+------------+------+----------+\n",
      "|partition_id| count|count_perc|\n",
      "+------------+------+----------+\n",
      "|           3|111111|   11.1111|\n",
      "|           4|111111|   11.1111|\n",
      "|           5|111112|   11.1112|\n",
      "|           6|222222|   22.2222|\n",
      "|           8|111111|   11.1111|\n",
      "|           9|333333|   33.3333|\n",
      "+------------+------+----------+\n",
      "\n"
     ]
    }
   ],
   "source": [
    "rows_per_partition(sdf)"
   ]
  },
  {
   "cell_type": "code",
   "execution_count": 23,
   "metadata": {},
   "outputs": [
    {
     "name": "stderr",
     "output_type": "stream",
     "text": [
      "                                                                                \r"
     ]
    },
    {
     "name": "stdout",
     "output_type": "stream",
     "text": [
      "+---+----+---------+--------+-------+------+\n",
      "| id|date|timestamp|idstring|idfirst|idlast|\n",
      "+---+----+---------+--------+-------+------+\n",
      "+---+----+---------+--------+-------+------+\n",
      "\n"
     ]
    }
   ],
   "source": [
    "spark.read.parquet(f\"{base_dir}/repartition_10_idfirst.parquet/part-00000-c36f2adc-e01d-4f64-84b3-8f06fcfcee4c-c000.snappy.parquet\").show()"
   ]
  },
  {
   "cell_type": "code",
   "execution_count": 24,
   "metadata": {},
   "outputs": [
    {
     "name": "stdout",
     "output_type": "stream",
     "text": [
      "8\n"
     ]
    }
   ],
   "source": [
    "sdf = sdf_generator(num_rows, 20)\n",
    "sdf = sdf.repartition(8, \"idfirst\")\n",
    "print(sdf.rdd.getNumPartitions())\n",
    "sc.setJobDescription(\"repartition 8 idfirst\")\n",
    "sdf.write.format(\"parquet\").mode(\"overwrite\").save(f\"{base_dir}/repartition_8_idfirst.parquet\")\n",
    "sc.setJobDescription(\"None\")"
   ]
  },
  {
   "cell_type": "code",
   "execution_count": 25,
   "metadata": {},
   "outputs": [
    {
     "name": "stderr",
     "output_type": "stream",
     "text": [
      "[Stage 34:======================================>               (143 + 5) / 200]\r"
     ]
    },
    {
     "name": "stdout",
     "output_type": "stream",
     "text": [
      "+------------+------+----------+\n",
      "|partition_id| count|count_perc|\n",
      "+------------+------+----------+\n",
      "|           0|111111|   11.1111|\n",
      "|           1|111111|   11.1111|\n",
      "|           2|222222|   22.2222|\n",
      "|           3|333334|   33.3334|\n",
      "|           5|111111|   11.1111|\n",
      "|           6|111111|   11.1111|\n",
      "+------------+------+----------+\n",
      "\n"
     ]
    },
    {
     "name": "stderr",
     "output_type": "stream",
     "text": [
      "                                                                                \r"
     ]
    }
   ],
   "source": [
    "\n",
    "rows_per_partition(sdf)"
   ]
  },
  {
   "cell_type": "code",
   "execution_count": null,
   "metadata": {},
   "outputs": [],
   "source": []
  }
 ],
 "metadata": {
  "kernelspec": {
   "display_name": "myenv",
   "language": "python",
   "name": "python3"
  },
  "language_info": {
   "codemirror_mode": {
    "name": "ipython",
    "version": 3
   },
   "file_extension": ".py",
   "mimetype": "text/x-python",
   "name": "python",
   "nbconvert_exporter": "python",
   "pygments_lexer": "ipython3",
   "version": "3.10.9"
  }
 },
 "nbformat": 4,
 "nbformat_minor": 2
}
